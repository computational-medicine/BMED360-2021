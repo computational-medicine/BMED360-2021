{
 "cells": [
  {
   "cell_type": "markdown",
   "metadata": {},
   "source": [
    "# Freesurfer space to native space using `mri_vol2vol`\n",
    "\n",
    "BMED360-2021: `freesurfer-to-native-space.ipynb`"
   ]
  },
  {
   "cell_type": "code",
   "execution_count": 1,
   "metadata": {},
   "outputs": [],
   "source": [
    "%matplotlib inline\n",
    "import os\n",
    "import pathlib\n",
    "import pandas as pd\n",
    "import numpy as np\n",
    "import matplotlib.pyplot as plt\n",
    "import nibabel as nib\n",
    "from os.path import expanduser, join, basename, split\n",
    "import sys\n",
    "sys.path.append('.')   # path to utils.py\n",
    "import utils\n",
    "import time\n",
    "import shutil  # copy files\n",
    "cwd = os.getcwd()"
   ]
  },
  {
   "cell_type": "markdown",
   "metadata": {},
   "source": [
    "### We will use the `fs711_subjects` Freesurfer tree previously run for the `bids_bg_bmed360` sample"
   ]
  },
  {
   "cell_type": "code",
   "execution_count": 2,
   "metadata": {},
   "outputs": [],
   "source": [
    "fs711_home = '/usr/local/freesurfer'\n",
    "working_dir = join(cwd, 'data')\n",
    "bids_dir = '%s/bids_bg_bmed360' % (working_dir)\n",
    "fs711_subj = '%s/fs711_subjects' % (working_dir)\n",
    "dmri_res = '%s/dmri_results' % (working_dir)"
   ]
  },
  {
   "cell_type": "code",
   "execution_count": 3,
   "metadata": {},
   "outputs": [
    {
     "name": "stdout",
     "output_type": "stream",
     "text": [
      "subdirectory dmri_results already exists\n"
     ]
    }
   ],
   "source": [
    "if not os.path.exists(dmri_res):\n",
    "    os.makedirs(dmri_res)\n",
    "else:\n",
    "    print('subdirectory dmri_results already exists')"
   ]
  },
  {
   "cell_type": "markdown",
   "metadata": {},
   "source": [
    "The Freesurfer environment:\n",
    "```\n",
    "%%bash -s  '/usr/local/freesurfer' './data/fs711_subjects'\n",
    "\n",
    "echo $1\n",
    "echo $2\n",
    "\n",
    "FREESURFER_HOME=${1}; export FREESURFER_HOME\n",
    "PATH=${FREESURFER_HOME}/bin:${PATH}; export PATH\n",
    "SUBJECTS_DIR=${2}; export SUBJECTS_DIR\n",
    "FSLDIR=/usr/local/fsl; export FSLDIR\n",
    "PATH=${FSLDIR}/bin:${PATH}; export PATH\n",
    ". ${FSLDIR}/etc/fslconf/fsl.sh\n",
    "source ${FREESURFER_HOME}/SetUpFreeSurfer.sh\n",
    "```"
   ]
  },
  {
   "cell_type": "markdown",
   "metadata": {},
   "source": [
    "## How to Convert from FreeSurfer Space Back to Native Anatomical Space\n",
    "See: https://surfer.nmr.mgh.harvard.edu/fswiki/FsAnat-to-NativeAnat\n",
    "\n",
    "Question: I have successfully run a subject's data through [FreeSurfer](https://surfer.nmr.mgh.harvard.edu/fswiki/FreeSurfer). \n",
    "FreeSurfer creates volumes in 1 mm$^3$, 256$^3$ space, but I want the FreeSurfer results in the space of my original anatomical. How do I do this?<br>\n",
    "\n",
    "The exact command you use depends on what you want to convert, an image (like brain.mgz) or a segmentation (like aseg.mgz)."
   ]
  },
  {
   "cell_type": "markdown",
   "metadata": {},
   "source": [
    "For an image:"
   ]
  },
  {
   "cell_type": "code",
   "execution_count": 4,
   "metadata": {},
   "outputs": [],
   "source": [
    "# cd $SUBJECTS_DIR/<subjid>/mri\n",
    "# mri_vol2vol --mov brain.mgz --targ rawavg.mgz --regheader --o brain-in-rawavg.mgz --no-save-reg"
   ]
  },
  {
   "cell_type": "markdown",
   "metadata": {},
   "source": [
    "For a segmentation (aseg.mgz, aparc+aseg.mgz, wmparc.mgz, etc):"
   ]
  },
  {
   "cell_type": "code",
   "execution_count": 5,
   "metadata": {},
   "outputs": [],
   "source": [
    "# cd $SUBJECTS_DIR/<subjid>/mri\n",
    "# mri_label2vol --seg aseg.mgz --temp rawavg.mgz --o aseg-in-rawavg.mgz --regheader aseg.mgz"
   ]
  },
  {
   "cell_type": "markdown",
   "metadata": {},
   "source": [
    "Map the surface to the native space:"
   ]
  },
  {
   "cell_type": "code",
   "execution_count": 6,
   "metadata": {},
   "outputs": [],
   "source": [
    "# mri_surf2surf --sval-xyz pial --reg register.native.dat rawavg.mgz --tval lh.pial.native --tval-xyz rawavg.mgz --hemi lh --s subjectname"
   ]
  },
  {
   "cell_type": "markdown",
   "metadata": {},
   "source": [
    "The output will be stored in $SUBJECTS_DIR/subjectname/surf/lh.pial.native and can be viewed with freeview rawavg.mgz -f ../surf/lh.pial.native<br>\n",
    "To verify that this worked, run"
   ]
  },
  {
   "cell_type": "code",
   "execution_count": 7,
   "metadata": {},
   "outputs": [],
   "source": [
    "# freeview -v rawavg.mgz -f lh.pial.native"
   ]
  },
  {
   "cell_type": "code",
   "execution_count": 8,
   "metadata": {},
   "outputs": [
    {
     "name": "stdout",
     "output_type": "stream",
     "text": [
      "\n",
      "mri_vol2vol\n",
      "\n",
      "  --mov  movvol       : input (or output template with --inv)\n",
      "  --targ targvol      : output template (or input with --inv)\n",
      "  --o    outvol       : output volume\n",
      "  --disp dispvol      : displacement volume\n",
      "  --downsample N1 N2 N3 : downsample input volume (do not include a targ or regsitration)\n",
      "         sets --fill-average, --fill-upsample 2, and --regheader\n",
      "\n",
      "  --reg  register.dat : tkRAS-to-tkRAS matrix   (tkregister2 format)\n",
      "  --lta  register.lta : Linear Transform Array (usually only 1 transform)\n",
      "  --lta-inv  register.lta : LTA, invert (may not be the same as --lta --inv with --fstal)\n",
      "  --fsl  register.fsl : fslRAS-to-fslRAS matrix (FSL format)\n",
      "  --xfm  register.xfm : ScannerRAS-to-ScannerRAS matrix (MNI format)\n",
      "  --regheader         : ScannerRAS-to-ScannerRAS matrix = identity\n",
      "  --mni152reg         : target MNI152 space (need FSL installed)\n",
      "  --s subject         : set matrix = identity and use subject for any templates\n",
      "\n",
      "  --inv               : sample from targ to mov\n",
      "\n",
      "  --tal               : map to a sub FOV of MNI305 (with --reg only)\n",
      "  --talres resolution : set voxel size 1mm or 2mm (def is 1)\n",
      "  --talxfm xfmfile    : default is talairach.xfm (looks in mri/transforms)\n",
      "\n",
      "  --m3z morph    : non-linear morph encoded in the m3z format\n",
      "  --noDefM3zPath : flag indicating that the code should not be looking for \n",
      "       the non-linear m3z morph in the default location (subj/mri/transforms), but should use \n",
      "       the morph name as is\n",
      "  --inv-morph    : compute and use the inverse of the m3z morph\n",
      "\n",
      "  --fstarg <vol>      : optionally use vol from subject in --reg as target. default is orig.mgz \n",
      "  --crop scale        : crop and change voxel size\n",
      "  --slice-crop sS sE  : crop output slices to be within sS and sE\n",
      "  --slice-reverse     : reverse order of slices, update vox2ras\n",
      "  --slice-bias alpha  : apply half-cosine bias field\n",
      "\n",
      "  --trilin            : trilinear interpolation (default)\n",
      "  --nearest           : nearest neighbor interpolation\n",
      "  --cubic             : cubic B-Spline interpolation\n",
      "  --interp interptype : interpolation cubic, trilin, nearest (def is trilin)\n",
      "  --fill-average      : compute mean of all source voxels in a given target voxel\n",
      "  --fill-conserve     : compute sum  of all source voxels in a given target voxel\n",
      "  --fill-upsample USF : source upsampling factor for --fill-xxx (default is 2)\n",
      "\n",
      "  --mul mulval   : multiply output by mulval\n",
      "\n",
      "  --precision precisionid : output precision (def is float)\n",
      "  --keep-precision  : set output precision to that of input\n",
      "  --kernel            : save the trilinear interpolation kernel instead\n",
      "\n",
      "  --gcam mov srclta gcam dstlta vsm interp out\n",
      "     srclta, gcam, or vsm can be set to 0 to indicate identity\n",
      "     direction is automatically determined from srclta and dstlta\n",
      "     interp 0=nearest, 1=trilin, 5=cubicbspline\n",
      "\n",
      "  --spm-warp mov movlta warp interp output\n",
      "     mov is the input to be mapped \n",
      "     movlta maps mov to the vbm input space (use 0 to ignore)\n",
      "       if movlta=0, then input is anything that shares a RAS space with the VBM input\n",
      "     warp is typically y_rinput.nii\n",
      "     interp 0=nearest, 1=trilin\n",
      "\n",
      "  --no-resample : do not resample, just change vox2ras matrix\n",
      "\n",
      "  --rot   Ax Ay Az : rotation angles (deg) to apply to reg matrix\n",
      "  --trans Tx Ty Tz : translation (mm) to apply to reg matrix\n",
      "  --shear Sxy Sxz Syz : xz is in-plane\n",
      "  --reg-final regfinal.dat : final reg after rot and trans (but not inv)\n",
      "\n",
      "  --synth : replace input with white gaussian noise\n",
      "  --seed seed : seed for synth (def is to set from time of day)\n",
      "\n",
      "  --save-reg : write out output volume registration matrix\n",
      "\n",
      "  --help : go ahead, make my day\n",
      "  --debug\n",
      "  --version\n",
      "\n",
      "\n"
     ]
    }
   ],
   "source": [
    "MRI_VOL2VOL = '%s/bin/mri_vol2vol' % (fs711_home)\n",
    "print(os.popen(MRI_VOL2VOL).read())"
   ]
  },
  {
   "cell_type": "code",
   "execution_count": 9,
   "metadata": {},
   "outputs": [],
   "source": [
    "def my_mri_vol2vol(subj_dir, sub, ses, inp_image, targ_image, targ_name, out_dir, interptype):\n",
    "    \"\"\"\n",
    "    Ex. \n",
    "    cd $SUBJECTS_DIR/<subjid>/mri\n",
    "    mri_vol2vol --mov brain.mgz --targ rawavg.mgz --regheader --o brain-in-rawavg.mgz --no-save-reg\n",
    "    --interp interptype : interpolation cubic, trilin, nearest (def is trilin)\n",
    "    \"\"\"\n",
    "    \n",
    "    fs_mri = join('%s' % (subj_dir), 'sub_%d_tp%d/mri' % (sub, ses))  \n",
    "    cmd = [\n",
    "            MRI_VOL2VOL,\n",
    "            '--mov', '%s/%s.mgz' % (fs_mri, inp_image),\n",
    "            '--targ', '%s' % (targ_image),\n",
    "            '--regheader', \n",
    "            '--interp', '%s' % (interptype),\n",
    "            '--o', '%s/sub_%d_tp%d_%s_in_%s.nii.gz' % (out_dir, sub, ses, inp_image, targ_name),\n",
    "            '--no-save-reg']\n",
    "          #  ' 2>', error_output_log,'>', output_log]   \n",
    "    cmd_str = \" \".join(cmd)\n",
    "    #print('cmd_str = \\n%s\\n' % cmd_str)\n",
    "        \n",
    "    # EXECUTE\n",
    "    os.system(cmd_str)"
   ]
  },
  {
   "cell_type": "markdown",
   "metadata": {},
   "source": [
    "### Testing the native space conversion on one subject (sub_102_tp1) \n",
    "**using the `sub-102_ses-1_T1w.nii.gz` in the `bids_bg_bmed360` tree as target image**"
   ]
  },
  {
   "cell_type": "code",
   "execution_count": 10,
   "metadata": {},
   "outputs": [],
   "source": [
    "subj_dir = fs711_subj\n",
    "out_dir = dmri_res\n",
    "\n",
    "sub = 102\n",
    "ses = 1\n",
    "\n",
    "targ_image = '%s/sub-%d/ses-%d/anat/sub-%d_ses-%d_T1w.nii.gz' % (bids_dir, sub, ses, sub, ses)\n",
    "targ_name = 'native_space'"
   ]
  },
  {
   "cell_type": "markdown",
   "metadata": {},
   "source": [
    "**Use the `my_mri_vol2vol()`function on different source images and masks using approriate interpolation ('trilinear' and 'nearest neighbour')**"
   ]
  },
  {
   "cell_type": "code",
   "execution_count": 11,
   "metadata": {},
   "outputs": [
    {
     "name": "stdout",
     "output_type": "stream",
     "text": [
      "CPU times: user 4.59 ms, sys: 8.94 ms, total: 13.5 ms\n",
      "Wall time: 8.6 s\n"
     ]
    }
   ],
   "source": [
    "%%time\n",
    "\n",
    "shutil.copy2(targ_image,out_dir)  # copy the original anatomy file in bids tree to out_dir\n",
    "\n",
    "interptype = 'trilin'\n",
    "inp_image = 'orig'\n",
    "my_mri_vol2vol(subj_dir, sub, ses, inp_image, targ_image, targ_name, out_dir, interptype)\n",
    "\n",
    "interptype = 'trilin'\n",
    "inp_image = 'brain'\n",
    "my_mri_vol2vol(subj_dir, sub, ses, inp_image, targ_image, targ_name, out_dir, interptype)\n",
    "\n",
    "interptype = 'nearest'\n",
    "inp_image = 'ribbon'\n",
    "my_mri_vol2vol(subj_dir, sub, ses, inp_image, targ_image, targ_name, out_dir, interptype)\n",
    "\n",
    "interptype = 'nearest'\n",
    "inp_image = 'aseg'\n",
    "my_mri_vol2vol(subj_dir, sub, ses, inp_image, targ_image, targ_name, out_dir, interptype)\n",
    "\n",
    "interptype = 'nearest'\n",
    "inp_image = 'wmparc'\n",
    "my_mri_vol2vol(subj_dir, sub, ses, inp_image, targ_image, targ_name, out_dir, interptype)\n",
    "\n",
    "interptype = 'nearest'\n",
    "inp_image = 'aparc+aseg'\n",
    "my_mri_vol2vol(subj_dir, sub, ses, inp_image, targ_image, targ_name, out_dir, interptype)"
   ]
  },
  {
   "cell_type": "markdown",
   "metadata": {},
   "source": [
    "#### Run the native space conversion on all subjects and sessions using the `_T1_biascorr_brain.nii.gz` image obtained from `03-fsl-anat.ipynb` as target image."
   ]
  },
  {
   "cell_type": "code",
   "execution_count": 13,
   "metadata": {},
   "outputs": [
    {
     "name": "stdout",
     "output_type": "stream",
     "text": [
      "Computing sub:102 ses:1\n",
      "Computing sub:102 ses:2\n",
      "Computing sub:103 ses:1\n",
      "Computing sub:103 ses:2\n",
      "Computing sub:111 ses:1\n",
      "Computing sub:111 ses:2\n",
      "Computing sub:123 ses:1\n",
      "Computing sub:123 ses:2\n",
      "CPU times: user 10 ms, sys: 51.9 ms, total: 61.9 ms\n",
      "Wall time: 1min 15s\n"
     ]
    }
   ],
   "source": [
    "%%time\n",
    "subj_dir = fs711_subj\n",
    "bids_dir = bids_dir\n",
    "out_dir = dmri_res\n",
    "targ_name = 'native_space'\n",
    "\n",
    "for sub in [102, 103, 111, 123]:\n",
    "    for ses in [1, 2]:\n",
    "        \n",
    "        print(f'Computing sub:{sub} ses:{ses}')\n",
    "            \n",
    "        targ_image = join(bids_dir,'sub-%d/ses-%d/anat/sub-%d_ses-%d_T1w.nii.gz' % (sub, ses, sub, ses))\n",
    "        shutil.copy2(targ_image,out_dir)  # copy the original anatomy file in bids tree to out_dir\n",
    "\n",
    "        inp_image = 'orig'\n",
    "        interptype = 'trilin'\n",
    "        my_mri_vol2vol(subj_dir, sub, ses, inp_image, targ_image, targ_name, out_dir, interptype)\n",
    "        \n",
    "        inp_image = 'brain'\n",
    "        interptype = 'trilin'\n",
    "        my_mri_vol2vol(subj_dir, sub, ses, inp_image, targ_image, targ_name, out_dir, interptype)\n",
    "\n",
    "        inp_image = 'brainmask'\n",
    "        interptype = 'nearest'\n",
    "        my_mri_vol2vol(subj_dir, sub, ses, inp_image, targ_image, targ_name, out_dir, interptype)\n",
    "                       \n",
    "        inp_image = 'ribbon'\n",
    "        interptype = 'nearest'\n",
    "        my_mri_vol2vol(subj_dir, sub, ses, inp_image, targ_image, targ_name, out_dir, interptype)\n",
    "\n",
    "        inp_image = 'aseg'\n",
    "        interptype = 'nearest'\n",
    "        my_mri_vol2vol(subj_dir, sub, ses, inp_image, targ_image, targ_name, out_dir, interptype)\n",
    "\n",
    "        inp_image = 'wmparc'\n",
    "        interptype = 'nearest'\n",
    "        my_mri_vol2vol(subj_dir, sub, ses, inp_image, targ_image, targ_name, out_dir, interptype)\n",
    "\n",
    "        inp_image = 'aparc+aseg'\n",
    "        interptype = 'nearest'\n",
    "        my_mri_vol2vol(subj_dir, sub, ses, inp_image, targ_image, targ_name, out_dir, interptype)"
   ]
  },
  {
   "cell_type": "code",
   "execution_count": null,
   "metadata": {},
   "outputs": [],
   "source": []
  }
 ],
 "metadata": {
  "kernelspec": {
   "display_name": "BMED360",
   "language": "python",
   "name": "bmed360"
  },
  "language_info": {
   "codemirror_mode": {
    "name": "ipython",
    "version": 3
   },
   "file_extension": ".py",
   "mimetype": "text/x-python",
   "name": "python",
   "nbconvert_exporter": "python",
   "pygments_lexer": "ipython3",
   "version": "3.8.0"
  },
  "latex_envs": {
   "LaTeX_envs_menu_present": true,
   "autoclose": false,
   "autocomplete": true,
   "bibliofile": "biblio.bib",
   "cite_by": "apalike",
   "current_citInitial": 1,
   "eqLabelWithNumbers": true,
   "eqNumInitial": 1,
   "hotkeys": {
    "equation": "Ctrl-E",
    "itemize": "Ctrl-I"
   },
   "labels_anchors": false,
   "latex_user_defs": false,
   "report_style_numbering": false,
   "user_envs_cfg": false
  },
  "toc": {
   "base_numbering": 1,
   "nav_menu": {},
   "number_sections": false,
   "sideBar": true,
   "skip_h1_title": false,
   "title_cell": "Table of Contents",
   "title_sidebar": "Contents",
   "toc_cell": true,
   "toc_position": {},
   "toc_section_display": false,
   "toc_window_display": false
  }
 },
 "nbformat": 4,
 "nbformat_minor": 4
}
