{
 "cells": [
  {
   "cell_type": "markdown",
   "metadata": {},
   "source": [
    "# Extract S0s from dMRI using DiPy"
   ]
  },
  {
   "cell_type": "markdown",
   "metadata": {},
   "source": [
    "BMED360-2021 `01-dmri-extract-S0s.ipynb`"
   ]
  },
  {
   "cell_type": "markdown",
   "metadata": {},
   "source": [
    "<a href=\"https://colab.research.google.com/github/computational-medicine/BMED360-2021/blob/main/Lab3-diffusion-MRI/01-dmri-extract-S0s.ipynb\">\n",
    "  <img src=\"https://colab.research.google.com/assets/colab-badge.svg\" alt=\"Open In Colab\"/>\n",
    "</a>"
   ]
  },
  {
   "cell_type": "markdown",
   "metadata": {},
   "source": [
    "### Learning objectives\n",
    "- Get to know the structure and organisation of dMRI data\n",
    "- Extract the S0 images from the multichannel dMRI NIFTI file using DiPy"
   ]
  },
  {
   "cell_type": "markdown",
   "metadata": {},
   "source": [
    "### For using Colab\n",
    "**--> (some of) the following libraries must be `pip installed` (i.e. uncommet these among the following pip commands):**"
   ]
  },
  {
   "cell_type": "code",
   "execution_count": 1,
   "metadata": {},
   "outputs": [],
   "source": [
    "#!pip install gdown"
   ]
  },
  {
   "cell_type": "code",
   "execution_count": 2,
   "metadata": {},
   "outputs": [],
   "source": [
    "#!pip install nilearn"
   ]
  },
  {
   "cell_type": "code",
   "execution_count": 3,
   "metadata": {},
   "outputs": [],
   "source": [
    "#!pip install dipy"
   ]
  },
  {
   "cell_type": "markdown",
   "metadata": {},
   "source": [
    "**Download a data file from Google Drive using gdown** (https://github.com/wkentaro/gdown)"
   ]
  },
  {
   "cell_type": "code",
   "execution_count": 4,
   "metadata": {},
   "outputs": [],
   "source": [
    "import gdown\n",
    "import shutil\n",
    "import sys\n",
    "import os\n",
    "from os.path import expanduser, join, basename, split\n",
    "import glob\n",
    "import shutil\n",
    "import platform"
   ]
  },
  {
   "cell_type": "markdown",
   "metadata": {},
   "source": [
    "Check your platform for running this notebook"
   ]
  },
  {
   "cell_type": "code",
   "execution_count": 5,
   "metadata": {},
   "outputs": [
    {
     "name": "stdout",
     "output_type": "stream",
     "text": [
      "OK, you are running on MacOS (Darwin Kernel Version 20.4.0: Fri Mar  5 01:14:14 PST 2021; root:xnu-7195.101.1~3/RELEASE_X86_64)\n"
     ]
    }
   ],
   "source": [
    "if platform.system() == 'Darwin':\n",
    "    print(f'OK, you are running on MacOS ({platform.version()})')\n",
    "if platform.system() == 'Linux':\n",
    "    print(f'OK, you are running on Linux ({platform.version()})')\n",
    "if platform.system() == 'Windows':\n",
    "    print(f'OK, but consider to install WSL for Windows10 since you are running on {platform.system()}')\n",
    "    print('Check https://docs.microsoft.com/en-us/windows/wsl/install-win10')"
   ]
  },
  {
   "cell_type": "code",
   "execution_count": 6,
   "metadata": {},
   "outputs": [],
   "source": [
    "cwd = os.getcwd()"
   ]
  },
  {
   "cell_type": "code",
   "execution_count": 7,
   "metadata": {},
   "outputs": [],
   "source": [
    "working_dir = join(cwd, 'data')\n",
    "bids_dir = '%s/bids_bg_bmed360' % (working_dir)\n",
    "dmri_res = '%s/dmri_results' % (working_dir)"
   ]
  },
  {
   "cell_type": "code",
   "execution_count": 8,
   "metadata": {},
   "outputs": [
    {
     "name": "stdout",
     "output_type": "stream",
     "text": [
      "./data  exists already!\n"
     ]
    }
   ],
   "source": [
    "# Download zip-file if ./data does not exist (as when running in Colab)\n",
    "\n",
    "if os.path.isdir(working_dir) == False:\n",
    "    \n",
    "    ## Download data.zip for Google Drive            \n",
    "    # https://drive.google.com/file/d/1pX6Mx_9P8fojDXmbTz-th5FKFYZDVFuO/view?usp=sharing\n",
    "    file_id = '1pX6Mx_9P8fojDXmbTz-th5FKFYZDVFuO'\n",
    "    url = 'https://drive.google.com/uc?id=%s' % file_id\n",
    "    output = './data.zip'\n",
    "    gdown.download(url, output, quiet=False)\n",
    "    \n",
    "    ## Unzip the assets file into `./data`\n",
    "    shutil.unpack_archive(output, '.')\n",
    "    \n",
    "    ## Delete the `data.zip` file\n",
    "    os.remove(output)\n",
    "else:\n",
    "    print(f'./data  exists already!')"
   ]
  },
  {
   "cell_type": "code",
   "execution_count": 9,
   "metadata": {},
   "outputs": [
    {
     "name": "stderr",
     "output_type": "stream",
     "text": [
      "Downloading...\n",
      "From: https://drive.google.com/uc?id=1wu5pzAcE2hyZymq-IzuzKYGK_lMYbnJy\n",
      "To: /Users/arvid/GitHub/computational-medicine/BMED360-2021/Lab3-diffusion-MRI/dmri_results.zip\n",
      "514MB [00:52, 9.72MB/s] \n"
     ]
    }
   ],
   "source": [
    "# Download zip-file if ./data/dmri_results does not exist (as when running in Colab)\n",
    "\n",
    "if os.path.isdir(dmri_res) == False:\n",
    "    \n",
    "    ## Download dmri_results.zip for Google Drive            \n",
    "    # https://drive.google.com/file/d/1pX6Mx_9P8fojDXmbTz-th5FKFYZDVFuO/view?usp=sharing\n",
    "    file_id = '1wu5pzAcE2hyZymq-IzuzKYGK_lMYbnJy'\n",
    "    url = 'https://drive.google.com/uc?id=%s' % file_id\n",
    "    output = 'dmri_results.zip'\n",
    "    gdown.download(url, output, quiet=False)\n",
    "    \n",
    "    ## Unzip the assets file into `./data/dmri_results`\n",
    "    shutil.unpack_archive(output, './data/')\n",
    "    \n",
    "    ## Delete the `dmri_results.zip` file\n",
    "    os.remove(output)\n",
    "else:\n",
    "    print(f'./data/dmri_results  exists already!')"
   ]
  },
  {
   "cell_type": "code",
   "execution_count": 12,
   "metadata": {},
   "outputs": [],
   "source": [
    "import os\n",
    "from os.path import expanduser, join\n",
    "import pandas as pd\n",
    "import matplotlib.pyplot as plt\n",
    "import seaborn as sns\n",
    "import dipy\n",
    "import nibabel as nib\n",
    "from dipy.io.image import save_nifti\n",
    "from dipy.io.image import load_nifti\n",
    "from dipy.io import read_bvals_bvecs\n",
    "from dipy.core.gradients import gradient_table"
   ]
  },
  {
   "cell_type": "code",
   "execution_count": 13,
   "metadata": {},
   "outputs": [
    {
     "data": {
      "text/plain": [
       "'1.4.0'"
      ]
     },
     "execution_count": 13,
     "metadata": {},
     "output_type": "execute_result"
    }
   ],
   "source": [
    "dipy.__version__"
   ]
  },
  {
   "cell_type": "markdown",
   "metadata": {},
   "source": [
    "#  The dMRI data from `Lab3_LG_Prisma_20160218_NIFTI`"
   ]
  },
  {
   "cell_type": "code",
   "execution_count": 14,
   "metadata": {},
   "outputs": [],
   "source": [
    "dname = join(os.getcwd(), 'data','Lab3_LG_Prisma_20160218_NIFTI')  # NIFTI files\n",
    "rname = join(os.getcwd(), 'data','dmri_results')  # Results directory\n",
    "\n",
    "if os.path.isdir(dname) == False:\n",
    "    print(f'Cannot find your data direcory, are you sure youi have downloded the data? (notebook 00-)')\n",
    "if os.path.isdir(rname) == False:\n",
    "    print(f'Makeing the results directory')\n",
    "    os.makedirs(rname , exist_ok = False)"
   ]
  },
  {
   "cell_type": "markdown",
   "metadata": {},
   "source": [
    "## Preliminary exploration of the LG_Prisma_20160218 dMRI dataset"
   ]
  },
  {
   "cell_type": "code",
   "execution_count": 15,
   "metadata": {},
   "outputs": [],
   "source": [
    "dwifn = 'lab3_20160218140906_3_ep2d_diff_qspace_p2'\n",
    "fn = '%s/%s' % (dname, dwifn)\n",
    "fdwi = join(dname, '%s.nii.gz' % fn)\n",
    "fbval = join(dname, '%s.bval' % fn)\n",
    "fbvec = join(dname, '%s.bvec' % fn)"
   ]
  },
  {
   "cell_type": "code",
   "execution_count": 16,
   "metadata": {},
   "outputs": [],
   "source": [
    "data, affine, img = load_nifti(fdwi, return_img=True)"
   ]
  },
  {
   "cell_type": "markdown",
   "metadata": {},
   "source": [
    "`data` is a 4D array where the first 3 dimensions are the i, j, k voxel coordinates \n",
    "and the last dimension is the number of non-weighted (S0s) or diffusion-weighted volumes (diffusion sensitizing directions)."
   ]
  },
  {
   "cell_type": "code",
   "execution_count": 17,
   "metadata": {},
   "outputs": [
    {
     "name": "stdout",
     "output_type": "stream",
     "text": [
      "(100, 100, 60, 129)\n"
     ]
    }
   ],
   "source": [
    "print(data.shape)"
   ]
  },
  {
   "cell_type": "markdown",
   "metadata": {},
   "source": [
    "Check the dimensions of each voxel"
   ]
  },
  {
   "cell_type": "code",
   "execution_count": 18,
   "metadata": {},
   "outputs": [
    {
     "name": "stdout",
     "output_type": "stream",
     "text": [
      "(2.2, 2.2, 2.2)\n"
     ]
    }
   ],
   "source": [
    "print(img.header.get_zooms()[:3])"
   ]
  },
  {
   "cell_type": "code",
   "execution_count": 19,
   "metadata": {},
   "outputs": [],
   "source": [
    "bvals, bvecs = read_bvals_bvecs(fbval, fbvec)"
   ]
  },
  {
   "cell_type": "code",
   "execution_count": 20,
   "metadata": {},
   "outputs": [
    {
     "data": {
      "image/png": "[encoded data removed]",
      "text/plain": [
       "<Figure size 1008x504 with 2 Axes>"
      ]
     },
     "metadata": {
      "needs_background": "light"
     },
     "output_type": "display_data"
    }
   ],
   "source": [
    "# Inspect data\n",
    "\n",
    "plt.rcParams[\"figure.figsize\"] = (14,7)\n",
    "\n",
    "b1 = 0\n",
    "b2 = 10\n",
    "axial_middle = data.shape[2] // 2\n",
    "plt.figure('Showing the datasets')\n",
    "plt.subplot(1, 2, 1).set_axis_off()\n",
    "plt.imshow(data[:, :, axial_middle, b1].T, cmap='gray', origin='lower')\n",
    "plt.title('dir=%d: bval=%.0f, bvec=[%.3f,%.3f,%.3f]' % (b1, bvals[b1], bvecs[b1][0],bvecs[b1][1], bvecs[b1][2]), size=14)\n",
    "plt.subplot(1, 2, 2).set_axis_off()\n",
    "plt.imshow(data[:, :, axial_middle, b2].T, cmap='gray', origin='lower')\n",
    "plt.title('dir=%d: bval=%.0f, bvec=[%.3f,%.3f,%.3f]' % (b2, bvals[b2], bvecs[b2][0],bvecs[b2][1], bvecs[b2][2]), size=14)\n",
    "plt.suptitle('DWI: %s, slice no %d/%d' % (dwifn, axial_middle, data.shape[2]), size=16)\n",
    "plt.savefig('./assets/Lab3_LG_Prisma_20160218_dipy_data.png', bbox_inches='tight')\n",
    "plt.show()"
   ]
  },
  {
   "cell_type": "markdown",
   "metadata": {},
   "source": [
    "In DIPY, we use an object called `GradientTable` which holds all the acquisition specific parameters, e.g. b-values, b-vectors, timings and others. "
   ]
  },
  {
   "cell_type": "code",
   "execution_count": 21,
   "metadata": {},
   "outputs": [],
   "source": [
    "gtab = gradient_table(bvals, bvecs)"
   ]
  },
  {
   "cell_type": "code",
   "execution_count": 22,
   "metadata": {},
   "outputs": [
    {
     "name": "stdout",
     "output_type": "stream",
     "text": [
      "[   0.  200.  200.  200.  400.  350.  400.  400.  400.  350.  550.  550.\n",
      "  550.  550.  750.  750.  750.  950.  950.  950.  950.  950.  950.  950.\n",
      "  950.  950.  950.  950.  950. 1100. 1100. 1150. 1100. 1100. 1150. 1150.\n",
      " 1100. 1100. 1150. 1100. 1100. 1500. 1500. 1500. 1500. 1500. 1500. 1700.\n",
      " 1700. 1700. 1700. 1700. 1700. 1700. 1700. 1700. 1700. 1700. 1700. 1700.\n",
      " 1700. 1700. 1850. 1850. 1900. 1850. 1900. 1850. 1850. 1900. 1900. 1850.\n",
      " 1850. 1850. 2050. 2050. 2050. 2050. 2050. 2050. 2050. 2050. 2050. 2050.\n",
      " 2050. 2050. 2250. 2250. 2250. 2250. 2450. 2450. 2450. 2400. 2450. 2450.\n",
      " 2450. 2450. 2450. 2400. 2450. 2450. 2600. 2600. 2600. 2600. 2650. 2600.\n",
      " 2600. 2650. 2600. 2600. 2600. 2600. 2600. 2600. 2600. 2600. 2650. 2600.\n",
      " 2600. 2650. 2600. 2600. 2600. 2600. 3000. 3000. 3000.]\n"
     ]
    }
   ],
   "source": [
    "print(gtab.bvals)"
   ]
  },
  {
   "cell_type": "code",
   "execution_count": 23,
   "metadata": {},
   "outputs": [
    {
     "name": "stdout",
     "output_type": "stream",
     "text": [
      "[[ 0.00000e+00  0.00000e+00  0.00000e+00]\n",
      " [-2.00991e-06 -1.00000e+00 -2.49706e-05]\n",
      " [-7.46485e-02 -2.11623e-02 -9.96985e-01]\n",
      " [ 9.97159e-01 -1.06073e-02 -7.45820e-02]\n",
      " [-7.00890e-01 -7.10899e-01  5.81085e-02]]\n"
     ]
    }
   ],
   "source": [
    "# Display first 5 bvecs\n",
    "print(gtab.bvecs[:5, :])"
   ]
  },
  {
   "cell_type": "markdown",
   "metadata": {},
   "source": [
    "`gtab.b0s_mask` can be used to tell what part of the data is the S0 volumes (volumes which correspond to b-values of 0)"
   ]
  },
  {
   "cell_type": "code",
   "execution_count": 24,
   "metadata": {},
   "outputs": [],
   "source": [
    "S0s = data[:, :, :, gtab.b0s_mask]"
   ]
  },
  {
   "cell_type": "code",
   "execution_count": 25,
   "metadata": {},
   "outputs": [
    {
     "name": "stdout",
     "output_type": "stream",
     "text": [
      "(100, 100, 60, 1)\n",
      "1\n"
     ]
    }
   ],
   "source": [
    "print(S0s.shape)\n",
    "print(S0s.shape[-1])"
   ]
  },
  {
   "cell_type": "markdown",
   "metadata": {},
   "source": [
    "We save this in a new NIFTI file in the `results` directory"
   ]
  },
  {
   "cell_type": "code",
   "execution_count": 26,
   "metadata": {},
   "outputs": [],
   "source": [
    "fnS0s = join(rname, '%s_dwi_S0.nii.gz' % dwifn)\n",
    "save_nifti(fnS0s, S0s, affine)"
   ]
  },
  {
   "cell_type": "markdown",
   "metadata": {},
   "source": [
    "## Define function `extract_S0s`"
   ]
  },
  {
   "cell_type": "code",
   "execution_count": 27,
   "metadata": {},
   "outputs": [],
   "source": [
    "from dipy.io.image import load_nifti\n",
    "from dipy.io import read_bvals_bvecs\n",
    "from dipy.core.gradients import gradient_table\n",
    "from dipy.io.image import save_nifti\n",
    "\n",
    "def extract_S0s(inpdir, dwifn, outdir):\n",
    "    \"\"\"\n",
    "    Extract S0s from dwi file\n",
    "    Usage:\n",
    "    Ex: \n",
    "    \"\"\"\n",
    "    \n",
    "    fdwi = join(inpdir, '%s.nii.gz' % dwifn)\n",
    "    #print(fdwi)\n",
    "    fbval = join(inpdir, '%s.bval' % dwifn)\n",
    "    fbvec = join(inpdir, '%s.bvec' % dwifn)\n",
    "    \n",
    "    bvals, bvecs = read_bvals_bvecs(fbval, fbvec)\n",
    "    gtab = gradient_table(bvals, bvecs)\n",
    "    data, affine, img = load_nifti(fdwi, return_img=True)\n",
    "    S0s = data[:, :, :, gtab.b0s_mask]\n",
    "    nS0s = S0s.shape[-1]\n",
    "    \n",
    "    fnS0s = join(outdir, '%s_dwi_S0.nii.gz' % dwifn)\n",
    "    save_nifti(fnS0s, S0s, affine)\n",
    "    \n",
    "    return S0s, affine, nS0s"
   ]
  },
  {
   "cell_type": "code",
   "execution_count": 28,
   "metadata": {},
   "outputs": [
    {
     "name": "stdout",
     "output_type": "stream",
     "text": [
      "affine:\n",
      " [[-2.19293380e+00  8.67084715e-09  1.76185533e-01  1.06019615e+02]\n",
      " [-2.77641532e-03  2.19972682e+00 -3.45574021e-02 -7.04481506e+01]\n",
      " [ 1.76163644e-01  3.46687585e-02  2.19266152e+00 -4.71965027e+01]\n",
      " [ 0.00000000e+00  0.00000000e+00  0.00000000e+00  1.00000000e+00]]\n",
      "nS0s: 1\n"
     ]
    }
   ],
   "source": [
    "# Testing function for single subject, single examination\n",
    "\n",
    "S0s, affine, nS0s = extract_S0s(dname, dwifn, rname)\n",
    "print('affine:\\n', affine)\n",
    "print('nS0s:', nS0s)"
   ]
  },
  {
   "cell_type": "code",
   "execution_count": 29,
   "metadata": {},
   "outputs": [
    {
     "name": "stdout",
     "output_type": "stream",
     "text": [
      "S0s.shape: (100, 100, 60, 1)\n",
      "S0s_mean.shape: (100, 100, 60)\n",
      "nS0s: 1\n"
     ]
    }
   ],
   "source": [
    "# In case number of S0 images is > 1, we will take the mean\n",
    "S0s_mean = S0s.mean(axis=-1)\n",
    "nS0s = S0s.shape[-1]\n",
    "print('S0s.shape:', S0s.shape)\n",
    "print('S0s_mean.shape:', S0s_mean.shape)\n",
    "print('nS0s:', nS0s)\n",
    "\n",
    "fnS0s_mean = join(rname, '%s_dwi_S0_mean_of_%d.nii.gz' % (dwifn, nS0s))\n",
    "# save_nifti(fnS0s_mean, S0s_mean, affine)   Not relevant to save in outr case with nS0s = 1"
   ]
  },
  {
   "cell_type": "code",
   "execution_count": 30,
   "metadata": {},
   "outputs": [],
   "source": [
    "#!freeview -v ./data/dmri_results/lab3_20160218140906_3_ep2d_diff_qspace_p2_dwi_S0.nii.gz"
   ]
  },
  {
   "cell_type": "markdown",
   "metadata": {},
   "source": [
    "#  The dMRI data from the `bids_bg_bmed360` sample"
   ]
  },
  {
   "cell_type": "markdown",
   "metadata": {},
   "source": [
    "### Define function `bids_extract_S0s` for the BIDS organized sample"
   ]
  },
  {
   "cell_type": "code",
   "execution_count": 31,
   "metadata": {},
   "outputs": [],
   "source": [
    "def bids_extract_S0s(inpdir, sub, ses, outdir):\n",
    "    \"\"\"\n",
    "    Extract S0s from dwi file\n",
    "    Usage:\n",
    "    Ex: \n",
    "    \"\"\"\n",
    "    \n",
    "    fn = 'sub-%d/ses-%d/dwi/sub-%d_ses-%d_dwi' % (sub, ses, sub, ses)\n",
    "    fdwi = join(inpdir, '%s.nii.gz' % fn)\n",
    "    #print(fdwi)\n",
    "    fbval = join(inpdir, '%s.bval' % fn)\n",
    "    fbvec = join(inpdir, '%s.bvec' % fn)\n",
    "    \n",
    "    bvals, bvecs = read_bvals_bvecs(fbval, fbvec)\n",
    "    gtab = gradient_table(bvals, bvecs)\n",
    "    data, affine, img = load_nifti(fdwi, return_img=True)\n",
    "    S0s = data[:, :, :, gtab.b0s_mask]\n",
    "    nS0s = S0s.shape[-1]\n",
    "    \n",
    "    fnS0s = join(outdir, 'sub_%d_tp%d_dwi_S0.nii.gz' % (sub, ses))\n",
    "    save_nifti(fnS0s, S0s, affine)\n",
    "    \n",
    "    return S0s, affine, nS0s"
   ]
  },
  {
   "cell_type": "markdown",
   "metadata": {},
   "source": [
    "**Testing function for single subject, single examination**"
   ]
  },
  {
   "cell_type": "code",
   "execution_count": 32,
   "metadata": {},
   "outputs": [
    {
     "name": "stdout",
     "output_type": "stream",
     "text": [
      "affine:\n",
      " [[-1.71879995e+00 -1.04905921e-03  5.71428565e-04  1.13637230e+02]\n",
      " [-9.96618648e-04  1.71841156e+00  5.10816313e-02 -8.59372635e+01]\n",
      " [ 4.19629563e-04 -3.65607664e-02  2.39945722e+00 -9.88118267e+00]\n",
      " [ 0.00000000e+00  0.00000000e+00  0.00000000e+00  1.00000000e+00]]\n",
      "\n",
      "nS0s: 6\n"
     ]
    }
   ],
   "source": [
    "inpdir = bids_dir\n",
    "sub = 102\n",
    "ses = 1\n",
    "outdir = dmri_res\n",
    "\n",
    "S0s, affine, nS0s = bids_extract_S0s(inpdir, sub, ses, outdir)\n",
    "print('affine:\\n', affine)\n",
    "print('\\nnS0s:', nS0s)"
   ]
  },
  {
   "cell_type": "code",
   "execution_count": 33,
   "metadata": {},
   "outputs": [
    {
     "name": "stdout",
     "output_type": "stream",
     "text": [
      "S0s.shape: (128, 128, 50, 6)\n",
      "S0s_mean.shape: (128, 128, 50)\n",
      "nS0s: 6\n"
     ]
    }
   ],
   "source": [
    "# In case number of S0 images is > 1, we will take the mean\n",
    "S0s_mean = S0s.mean(axis=-1)\n",
    "nS0s = S0s.shape[-1]\n",
    "print('S0s.shape:', S0s.shape)\n",
    "print('S0s_mean.shape:', S0s_mean.shape)\n",
    "print('nS0s:', nS0s)\n",
    "\n",
    "fnS0s_mean = join(outdir, 'sub_%d_tp%d_dwi_S0_mean_of_%d.nii.gz' % (sub, ses, nS0s))\n",
    "save_nifti(fnS0s_mean, S0s_mean, affine)"
   ]
  },
  {
   "cell_type": "code",
   "execution_count": 34,
   "metadata": {},
   "outputs": [],
   "source": [
    "#!freeview -v ./data/dmri_results/sub_102_tp1_dwi_S0_mean_of_6.nii.gz"
   ]
  },
  {
   "cell_type": "code",
   "execution_count": 35,
   "metadata": {},
   "outputs": [],
   "source": [
    "#!fsleyes ./data/dmri_results/sub_102_tp1_dwi_S0_mean_of_6.nii.gz"
   ]
  },
  {
   "cell_type": "code",
   "execution_count": 36,
   "metadata": {},
   "outputs": [],
   "source": [
    "S0s_mean = nib.load(fnS0s_mean)"
   ]
  },
  {
   "cell_type": "code",
   "execution_count": 37,
   "metadata": {
    "scrolled": false
   },
   "outputs": [
    {
     "data": {
      "image/png": "[encoded data removed]",
      "text/plain": [
       "<Figure size 576x576 with 3 Axes>"
      ]
     },
     "metadata": {
      "needs_background": "light"
     },
     "output_type": "display_data"
    }
   ],
   "source": [
    "# Viewer from `nibabel`\n",
    "nib.viewers.OrthoSlicer3D(S0s_mean.get_fdata(), affine=S0s_mean.affine).show()"
   ]
  },
  {
   "cell_type": "markdown",
   "metadata": {},
   "source": [
    "### Run for all subjects in BIDS sample, having dMRI in ses-1 only"
   ]
  },
  {
   "cell_type": "code",
   "execution_count": 38,
   "metadata": {},
   "outputs": [
    {
     "name": "stdout",
     "output_type": "stream",
     "text": [
      "CPU times: user 2.05 s, sys: 99.5 ms, total: 2.15 s\n",
      "Wall time: 2.17 s\n"
     ]
    }
   ],
   "source": [
    "%%time\n",
    "inpdir = bids_dir\n",
    "outdir = dmri_res\n",
    "ses=1\n",
    "\n",
    "for sub in [102, 103, 111, 123]:\n",
    "    \n",
    "    S0s, affine, nS0s = bids_extract_S0s(inpdir, sub, ses, outdir)\n",
    "    \n",
    "    S0s_mean = S0s.mean(axis=-1)\n",
    "    nS0s = S0s.shape[-1]\n",
    "    fnS0s_mean = join(outdir, 'sub_%d_tp%d_dwi_S0_mean.nii.gz' % (sub, ses))\n",
    "    save_nifti(fnS0s_mean, S0s_mean, affine)\n",
    "    "
   ]
  },
  {
   "cell_type": "code",
   "execution_count": null,
   "metadata": {},
   "outputs": [],
   "source": []
  }
 ],
 "metadata": {
  "kernelspec": {
   "display_name": "BMED360",
   "language": "python",
   "name": "bmed360"
  },
  "language_info": {
   "codemirror_mode": {
    "name": "ipython",
    "version": 3
   },
   "file_extension": ".py",
   "mimetype": "text/x-python",
   "name": "python",
   "nbconvert_exporter": "python",
   "pygments_lexer": "ipython3",
   "version": "3.8.0"
  }
 },
 "nbformat": 4,
 "nbformat_minor": 4
}
