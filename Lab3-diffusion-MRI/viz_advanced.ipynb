{
 "cells": [
  {
   "cell_type": "markdown",
   "metadata": {},
   "source": [
    "## [Fury](https://fury.gl) is a Python library available for scientific visualization \n",
    "\n",
    "The library is available via PyPi or Anaconda package system\n",
    "\n",
    "https://fury.gl/v0.2.x/auto_examples/viz_advanced.html#sphx-glr-download-auto-examples-viz-advanced-py"
   ]
  },
  {
   "cell_type": "code",
   "execution_count": null,
   "metadata": {},
   "outputs": [],
   "source": [
    "#!pip install fury"
   ]
  },
  {
   "cell_type": "code",
   "execution_count": null,
   "metadata": {},
   "outputs": [],
   "source": [
    "import fury\n",
    "fury.__version__"
   ]
  },
  {
   "cell_type": "code",
   "execution_count": null,
   "metadata": {},
   "outputs": [],
   "source": [
    "%matplotlib inline"
   ]
  },
  {
   "cell_type": "markdown",
   "metadata": {},
   "source": [
    "## Visualize bundles and metrics on bundles"
   ]
  },
  {
   "cell_type": "code",
   "execution_count": null,
   "metadata": {},
   "outputs": [],
   "source": [
    "import numpy as np\n",
    "from fury import window, actor\n",
    "from dipy.data import fetch_bundles_2_subjects, read_bundles_2_subjects\n",
    "from dipy.tracking.streamline import transform_streamlines, length\n",
    "\n",
    "interactive = False  # set to True to show the interactive display window\n",
    "\n",
    "fetch_bundles_2_subjects()\n",
    "dix = read_bundles_2_subjects(subj_id='subj_1', metrics=['fa'],\n",
    "                              bundles=['cg.left', 'cst.right'])"
   ]
  },
  {
   "cell_type": "code",
   "execution_count": null,
   "metadata": {},
   "outputs": [],
   "source": [
    "fa = dix['fa']"
   ]
  },
  {
   "cell_type": "code",
   "execution_count": null,
   "metadata": {},
   "outputs": [],
   "source": [
    "affine = dix['affine']"
   ]
  },
  {
   "cell_type": "code",
   "execution_count": null,
   "metadata": {},
   "outputs": [],
   "source": [
    "bundle = dix['cg.left']"
   ]
  },
  {
   "cell_type": "code",
   "execution_count": null,
   "metadata": {},
   "outputs": [],
   "source": [
    "bundle_native = transform_streamlines(bundle, np.linalg.inv(affine))"
   ]
  },
  {
   "cell_type": "code",
   "execution_count": null,
   "metadata": {},
   "outputs": [],
   "source": [
    "scene = window.Scene()\n",
    "\n",
    "stream_actor = actor.line(bundle_native)\n",
    "\n",
    "scene.set_camera(position=(-176.42, 118.52, 128.20),\n",
    "                 focal_point=(113.30, 128.31, 76.56),\n",
    "                 view_up=(0.18, 0.00, 0.98))\n",
    "\n",
    "scene.add(stream_actor)\n",
    "\n",
    "if interactive:\n",
    "    window.show(scene, size=(600, 600), reset_camera=False)\n",
    "\n",
    "window.record(scene, out_path='bundle1.png', size=(600, 600))"
   ]
  },
  {
   "cell_type": "code",
   "execution_count": null,
   "metadata": {},
   "outputs": [],
   "source": [
    "scene.camera_info()"
   ]
  },
  {
   "cell_type": "code",
   "execution_count": null,
   "metadata": {},
   "outputs": [],
   "source": [
    "scene.clear()\n",
    "stream_actor2 = actor.line(bundle_native, fa, linewidth=0.1)"
   ]
  },
  {
   "cell_type": "code",
   "execution_count": null,
   "metadata": {},
   "outputs": [],
   "source": [
    "bar = actor.scalar_bar()\n",
    "\n",
    "scene.add(stream_actor2)\n",
    "scene.add(bar)\n",
    "\n",
    "if interactive:\n",
    "    window.show(scene, size=(600, 600), reset_camera=False)\n",
    "\n",
    "window.record(scene, out_path='bundle2.png', size=(600, 600))"
   ]
  },
  {
   "cell_type": "markdown",
   "metadata": {},
   "source": [
    "\n",
    "# Advanced interactive visualization\n",
    "\n",
    "\n",
    "In DIPY we created a thin interface to access many of the capabilities\n",
    "available in the Visualization Toolkit framework (VTK) but tailored to the\n",
    "needs of structural and diffusion imaging. Initially the 3D visualization\n",
    "module was named ``fvtk``, meaning functions using vtk. This is still available\n",
    "for backwards compatibility but now there is a more comprehensive way to access\n",
    "the main functions using the following modules.\n",
    "\n"
   ]
  },
  {
   "cell_type": "code",
   "execution_count": null,
   "metadata": {},
   "outputs": [],
   "source": [
    "import numpy as np\n",
    "from fury import actor, window, ui"
   ]
  },
  {
   "cell_type": "markdown",
   "metadata": {},
   "source": [
    "In ``window`` we have all the objects that connect what needs to be rendered\n",
    "to the display or the disk e.g., for saving screenshots. So, there you will\n",
    "find key objects and functions like the ``Scene`` class which holds and\n",
    "provides access to all the actors and the ``show`` function which displays\n",
    "what is in the scene on a window. Also, this module provides access to\n",
    "functions for opening/saving dialogs and printing screenshots\n",
    "(see ``snapshot``).\n",
    "\n",
    "In the ``actor`` module we can find all the different primitives e.g.,\n",
    "streamtubes, lines, image slices, etc.\n",
    "\n",
    "In the ``ui`` module we have some other objects which allow to add buttons\n",
    "and sliders and these interact both with windows and actors. Because of this\n",
    "they need input from the operating system so they can process events.\n",
    "\n",
    "Let's get started. In this tutorial, we will visualize some bundles\n",
    "together with FA or T1. We will be able to change the slices using\n",
    "a ``LineSlider2D`` widget.\n",
    "\n",
    "First we need to fetch and load some datasets. Saved to your ~/.dipy/exp_bundles_and_maps folder.\n",
    "\n"
   ]
  },
  {
   "cell_type": "code",
   "execution_count": null,
   "metadata": {},
   "outputs": [],
   "source": [
    "from dipy.data.fetcher import fetch_bundles_2_subjects, read_bundles_2_subjects\n",
    "\n",
    "fetch_bundles_2_subjects()"
   ]
  },
  {
   "cell_type": "markdown",
   "metadata": {},
   "source": [
    "The following function outputs a dictionary with the required bundles e.g.\n",
    "``af left`` (left arcuate fasciculus) and maps, e.g. FA for a specific\n",
    "subject.\n",
    "\n"
   ]
  },
  {
   "cell_type": "code",
   "execution_count": null,
   "metadata": {},
   "outputs": [],
   "source": [
    "res = read_bundles_2_subjects('subj_1', ['t1', 'fa'],\n",
    "                              ['af.left', 'cst.right', 'cc_1'])"
   ]
  },
  {
   "cell_type": "markdown",
   "metadata": {},
   "source": [
    "We will use 3 bundles, FA and the affine transformation that brings the voxel\n",
    "coordinates to world coordinates (RAS 1mm).\n",
    "\n"
   ]
  },
  {
   "cell_type": "code",
   "execution_count": null,
   "metadata": {},
   "outputs": [],
   "source": [
    "streamlines = res['af.left'] + res['cst.right'] + res['cc_1']\n",
    "data = res['fa']\n",
    "shape = data.shape\n",
    "affine = res['affine']"
   ]
  },
  {
   "cell_type": "markdown",
   "metadata": {},
   "source": [
    "With our current design it is easy to decide in which space you want the\n",
    "streamlines and slices to appear. The default we have here is to appear in\n",
    "world coordinates (RAS 1mm).\n",
    "\n"
   ]
  },
  {
   "cell_type": "code",
   "execution_count": null,
   "metadata": {},
   "outputs": [],
   "source": [
    "world_coords = True"
   ]
  },
  {
   "cell_type": "markdown",
   "metadata": {},
   "source": [
    "If we want to see the objects in native space we need to make sure that all\n",
    "objects which are currently in world coordinates are transformed back to\n",
    "native space using the inverse of the affine.\n",
    "\n"
   ]
  },
  {
   "cell_type": "code",
   "execution_count": null,
   "metadata": {},
   "outputs": [],
   "source": [
    "if not world_coords:\n",
    "    from dipy.tracking.streamline import transform_streamlines\n",
    "    streamlines = transform_streamlines(streamlines, np.linalg.inv(affine))"
   ]
  },
  {
   "cell_type": "markdown",
   "metadata": {},
   "source": [
    "Now we create, a ``Scene`` object and add the streamlines using the\n",
    "``line`` function and an image plane using the ``slice`` function.\n",
    "\n"
   ]
  },
  {
   "cell_type": "code",
   "execution_count": null,
   "metadata": {},
   "outputs": [],
   "source": [
    "scene = window.Scene()\n",
    "stream_actor = actor.line(streamlines)\n",
    "\n",
    "if not world_coords:\n",
    "    image_actor_z = actor.slicer(data, affine=np.eye(4))\n",
    "else:\n",
    "    image_actor_z = actor.slicer(data, affine)"
   ]
  },
  {
   "cell_type": "markdown",
   "metadata": {},
   "source": [
    "We can also change also the opacity of the slicer.\n",
    "\n"
   ]
  },
  {
   "cell_type": "code",
   "execution_count": null,
   "metadata": {},
   "outputs": [],
   "source": [
    "slicer_opacity = 0.6\n",
    "image_actor_z.opacity(slicer_opacity)"
   ]
  },
  {
   "cell_type": "markdown",
   "metadata": {},
   "source": [
    "We can add additonal slicers by copying the original and adjusting the\n",
    "``display_extent``.\n",
    "\n"
   ]
  },
  {
   "cell_type": "code",
   "execution_count": null,
   "metadata": {},
   "outputs": [],
   "source": [
    "image_actor_x = image_actor_z.copy()\n",
    "x_midpoint = int(np.round(shape[0] / 2))\n",
    "image_actor_x.display_extent(x_midpoint,\n",
    "                             x_midpoint, 0,\n",
    "                             shape[1] - 1,\n",
    "                             0,\n",
    "                             shape[2] - 1)\n",
    "\n",
    "image_actor_y = image_actor_z.copy()\n",
    "y_midpoint = int(np.round(shape[1] / 2))\n",
    "image_actor_y.display_extent(0,\n",
    "                             shape[0] - 1,\n",
    "                             y_midpoint,\n",
    "                             y_midpoint,\n",
    "                             0,\n",
    "                             shape[2] - 1)"
   ]
  },
  {
   "cell_type": "markdown",
   "metadata": {},
   "source": [
    "Connect the actors with the Scene.\n",
    "\n"
   ]
  },
  {
   "cell_type": "code",
   "execution_count": null,
   "metadata": {},
   "outputs": [],
   "source": [
    "scene.add(stream_actor)\n",
    "scene.add(image_actor_z)\n",
    "scene.add(image_actor_x)\n",
    "scene.add(image_actor_y)"
   ]
  },
  {
   "cell_type": "markdown",
   "metadata": {},
   "source": [
    "Now we would like to change the position of each ``image_actor`` using a\n",
    "slider. The sliders are widgets which require access to different areas of\n",
    "the visualization pipeline and therefore we don't recommend using them with\n",
    "``show``. The more appropriate way is to use them with the ``ShowManager``\n",
    "object which allows accessing the pipeline in different areas. Here is how:\n",
    "\n"
   ]
  },
  {
   "cell_type": "code",
   "execution_count": null,
   "metadata": {},
   "outputs": [],
   "source": [
    "show_m = window.ShowManager(scene, size=(1200, 900))\n",
    "show_m.initialize()"
   ]
  },
  {
   "cell_type": "markdown",
   "metadata": {},
   "source": [
    "After we have initialized the ``ShowManager`` we can go ahead and create\n",
    "sliders to move the slices and change their opacity.\n",
    "\n"
   ]
  },
  {
   "cell_type": "code",
   "execution_count": null,
   "metadata": {},
   "outputs": [],
   "source": [
    "line_slider_z = ui.LineSlider2D(min_value=0,\n",
    "                                max_value=shape[2] - 1,\n",
    "                                initial_value=shape[2] / 2,\n",
    "                                text_template=\"{value:.0f}\",\n",
    "                                length=140)\n",
    "\n",
    "line_slider_x = ui.LineSlider2D(min_value=0,\n",
    "                                max_value=shape[0] - 1,\n",
    "                                initial_value=shape[0] / 2,\n",
    "                                text_template=\"{value:.0f}\",\n",
    "                                length=140)\n",
    "\n",
    "line_slider_y = ui.LineSlider2D(min_value=0,\n",
    "                                max_value=shape[1] - 1,\n",
    "                                initial_value=shape[1] / 2,\n",
    "                                text_template=\"{value:.0f}\",\n",
    "                                length=140)\n",
    "\n",
    "opacity_slider = ui.LineSlider2D(min_value=0.0,\n",
    "                                 max_value=1.0,\n",
    "                                 initial_value=slicer_opacity,\n",
    "                                 length=140)"
   ]
  },
  {
   "cell_type": "markdown",
   "metadata": {},
   "source": [
    "Now we will write callbacks for the sliders and register them.\n",
    "\n"
   ]
  },
  {
   "cell_type": "code",
   "execution_count": null,
   "metadata": {},
   "outputs": [],
   "source": [
    "def change_slice_z(slider):\n",
    "    z = int(np.round(slider.value))\n",
    "    image_actor_z.display_extent(0, shape[0] - 1, 0, shape[1] - 1, z, z)\n",
    "\n",
    "\n",
    "def change_slice_x(slider):\n",
    "    x = int(np.round(slider.value))\n",
    "    image_actor_x.display_extent(x, x, 0, shape[1] - 1, 0, shape[2] - 1)\n",
    "\n",
    "\n",
    "def change_slice_y(slider):\n",
    "    y = int(np.round(slider.value))\n",
    "    image_actor_y.display_extent(0, shape[0] - 1, y, y, 0, shape[2] - 1)\n",
    "\n",
    "\n",
    "def change_opacity(slider):\n",
    "    slicer_opacity = slider.value\n",
    "    image_actor_z.opacity(slicer_opacity)\n",
    "    image_actor_x.opacity(slicer_opacity)\n",
    "    image_actor_y.opacity(slicer_opacity)\n",
    "\n",
    "\n",
    "line_slider_z.on_change = change_slice_z\n",
    "line_slider_x.on_change = change_slice_x\n",
    "line_slider_y.on_change = change_slice_y\n",
    "opacity_slider.on_change = change_opacity"
   ]
  },
  {
   "cell_type": "markdown",
   "metadata": {},
   "source": [
    "We'll also create text labels to identify the sliders.\n",
    "\n"
   ]
  },
  {
   "cell_type": "code",
   "execution_count": null,
   "metadata": {},
   "outputs": [],
   "source": [
    "def build_label(text):\n",
    "    label = ui.TextBlock2D()\n",
    "    label.message = text\n",
    "    label.font_size = 18\n",
    "    label.font_family = 'Arial'\n",
    "    label.justification = 'left'\n",
    "    label.bold = False\n",
    "    label.italic = False\n",
    "    label.shadow = False\n",
    "    label.background = (0, 0, 0)\n",
    "    label.color = (1, 1, 1)\n",
    "\n",
    "    return label\n",
    "\n",
    "\n",
    "line_slider_label_z = build_label(text=\"Z Slice\")\n",
    "line_slider_label_x = build_label(text=\"X Slice\")\n",
    "line_slider_label_y = build_label(text=\"Y Slice\")\n",
    "opacity_slider_label = build_label(text=\"Opacity\")"
   ]
  },
  {
   "cell_type": "markdown",
   "metadata": {},
   "source": [
    "Now we will create a ``panel`` to contain the sliders and labels.\n",
    "\n"
   ]
  },
  {
   "cell_type": "code",
   "execution_count": null,
   "metadata": {},
   "outputs": [],
   "source": [
    "panel = ui.Panel2D(size=(300, 200),\n",
    "                   color=(1, 1, 1),\n",
    "                   opacity=0.1,\n",
    "                   align=\"right\")\n",
    "panel.center = (1030, 120)\n",
    "\n",
    "panel.add_element(line_slider_label_x, (0.1, 0.75))\n",
    "panel.add_element(line_slider_x, (0.38, 0.75))\n",
    "panel.add_element(line_slider_label_y, (0.1, 0.55))\n",
    "panel.add_element(line_slider_y, (0.38, 0.55))\n",
    "panel.add_element(line_slider_label_z, (0.1, 0.35))\n",
    "panel.add_element(line_slider_z, (0.38, 0.35))\n",
    "panel.add_element(opacity_slider_label, (0.1, 0.15))\n",
    "panel.add_element(opacity_slider, (0.38, 0.15))\n",
    "\n",
    "show_m.scene.add(panel)"
   ]
  },
  {
   "cell_type": "markdown",
   "metadata": {},
   "source": [
    "Then, we can render all the widgets and everything else in the screen and\n",
    "start the interaction using ``show_m.start()``.\n",
    "\n",
    "\n",
    "However, if you change the window size, the panel will not update its\n",
    "position properly. The solution to this issue is to update the position of\n",
    "the panel using its ``re_align`` method every time the window size changes.\n",
    "\n"
   ]
  },
  {
   "cell_type": "code",
   "execution_count": null,
   "metadata": {},
   "outputs": [],
   "source": [
    "global size\n",
    "size = scene.GetSize()\n",
    "\n",
    "\n",
    "def win_callback(obj, _event):\n",
    "    global size\n",
    "    if size != obj.GetSize():\n",
    "        size_old = size\n",
    "        size = obj.GetSize()\n",
    "        size_change = [size[0] - size_old[0], 0]\n",
    "        panel.re_align(size_change)\n",
    "\n",
    "\n",
    "show_m.initialize()"
   ]
  },
  {
   "cell_type": "markdown",
   "metadata": {},
   "source": [
    "Finally, please set the following variable to ``True`` to interact with the\n",
    "datasets in 3D.\n",
    "\n"
   ]
  },
  {
   "cell_type": "code",
   "execution_count": null,
   "metadata": {},
   "outputs": [],
   "source": [
    "interactive = False\n",
    "\n",
    "scene.zoom(1.5)\n",
    "scene.reset_clipping_range()\n",
    "\n",
    "if interactive:\n",
    "\n",
    "    show_m.add_window_callback(win_callback)\n",
    "    show_m.render()\n",
    "    show_m.start()\n",
    "\n",
    "else:\n",
    "\n",
    "    window.record(scene, out_path='bundles_and_3_slices.png', size=(1200, 900),\n",
    "                  reset_camera=False)\n",
    "\n",
    "del show_m"
   ]
  }
 ],
 "metadata": {
  "kernelspec": {
   "display_name": "BMED360",
   "language": "python",
   "name": "bmed360"
  },
  "language_info": {
   "codemirror_mode": {
    "name": "ipython",
    "version": 3
   },
   "file_extension": ".py",
   "mimetype": "text/x-python",
   "name": "python",
   "nbconvert_exporter": "python",
   "pygments_lexer": "ipython3",
   "version": "3.8.0"
  }
 },
 "nbformat": 4,
 "nbformat_minor": 1
}
