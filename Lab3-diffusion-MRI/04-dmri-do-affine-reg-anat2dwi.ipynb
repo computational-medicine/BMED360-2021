{
 "cells": [
  {
   "cell_type": "markdown",
   "metadata": {},
   "source": [
    "#  Apply affine transformation for registering sMRI to dMRI using DiPy\n",
    "\n",
    "BMED360-2021  `04-dmri-do-affine-reg-anat2dwi.ipynb`\n",
    "\n",
    "(assuming the `02-dmri-find-affine-fs-brainmask2dwi.ipynb` and `03-dmri-reconstruction-dti.ipynb` notebooks have been executed)"
   ]
  },
  {
   "cell_type": "markdown",
   "metadata": {},
   "source": [
    "<a href=\"https://colab.research.google.com/github/computational-medicine/BMED360-2021/blob/main/Lab3-diffusion-MRI/04-dmri-do-affine-reg-anat2dwi.ipynb\">\n",
    "  <img src=\"https://colab.research.google.com/assets/colab-badge.svg\" alt=\"Open In Colab\"/>\n",
    "</a>"
   ]
  },
  {
   "cell_type": "markdown",
   "metadata": {},
   "source": [
    "### Learning objectives\n",
    "\n",
    "- **Image registration between Freesurfer segmenations (in native space) and diffusion data using Dipy**\n",
    "\n",
    "Assuming `02-dmri-find-affine-fs-brainmask2dwi.ipynb` is run\n",
    "\n",
    "Also assume that the images in the Freesurfer tree is transformed from Freesurfer space to native space using mri_vol2vol, e.g. \n",
    "- `sub_101_tp1_orig_in_native_space.nii.gz`, \n",
    "- `sub_101_tp1_brain_in_native_space.nii.gz`, \n",
    "- `sub_101_tp1_brainmask_in_native_space.nii.gz`, \n",
    "- `sub_101_tp1_ribbon_in_native_space.nii.gz`, \n",
    "- `sub_101_tp1_aseg_in_native_space.nii.gz`,\n",
    "- `sub_101_tp1_wmparc_in_native_space.nii.gz`,\n",
    "- `sub_101_tp1_aparc+aseg_in_native_space.nii.gz`,\n",
    "\n",
    "\n",
    "(see end of  `03-diff-dipy-find-affine-brainmask2dwi.ipynb`)"
   ]
  },
  {
   "cell_type": "markdown",
   "metadata": {},
   "source": [
    "### For using Colab\n",
    "**--> (some of) the following libraries must be `pip installed` (i.e. uncommet these among the following pip commands):**"
   ]
  },
  {
   "cell_type": "code",
   "execution_count": 1,
   "metadata": {},
   "outputs": [],
   "source": [
    "#!pip install gdown\n",
    "#!pip install nilearn\n",
    "#!pip install dipy"
   ]
  },
  {
   "cell_type": "markdown",
   "metadata": {},
   "source": [
    "**Download a data file from Google Drive using gdown** (https://github.com/wkentaro/gdown)"
   ]
  },
  {
   "cell_type": "code",
   "execution_count": 2,
   "metadata": {},
   "outputs": [],
   "source": [
    "import gdown\n",
    "import shutil\n",
    "import sys\n",
    "import os\n",
    "from os.path import expanduser, join, basename, split\n",
    "import glob\n",
    "import shutil\n",
    "import platform"
   ]
  },
  {
   "cell_type": "markdown",
   "metadata": {},
   "source": [
    "Check your platform for running this notebook"
   ]
  },
  {
   "cell_type": "code",
   "execution_count": 3,
   "metadata": {},
   "outputs": [
    {
     "name": "stdout",
     "output_type": "stream",
     "text": [
      "OK, you are running on MacOS (Darwin Kernel Version 20.4.0: Fri Mar  5 01:14:14 PST 2021; root:xnu-7195.101.1~3/RELEASE_X86_64)\n"
     ]
    }
   ],
   "source": [
    "if platform.system() == 'Darwin':\n",
    "    print(f'OK, you are running on MacOS ({platform.version()})')\n",
    "if platform.system() == 'Linux':\n",
    "    print(f'OK, you are running on Linux ({platform.version()})')\n",
    "if platform.system() == 'Windows':\n",
    "    print(f'OK, but consider to install WSL for Windows10 since you are running on {platform.system()}')\n",
    "    print('Check https://docs.microsoft.com/en-us/windows/wsl/install-win10')"
   ]
  },
  {
   "cell_type": "code",
   "execution_count": 4,
   "metadata": {},
   "outputs": [],
   "source": [
    "cwd = os.getcwd()"
   ]
  },
  {
   "cell_type": "code",
   "execution_count": 5,
   "metadata": {},
   "outputs": [],
   "source": [
    "working_dir = join(cwd, 'data')\n",
    "bids_dir = '%s/bids_bg_bmed360' % (working_dir)\n",
    "dmri_res = '%s/dmri_results' % (working_dir)"
   ]
  },
  {
   "cell_type": "code",
   "execution_count": 6,
   "metadata": {},
   "outputs": [
    {
     "name": "stdout",
     "output_type": "stream",
     "text": [
      "./data  exists already!\n"
     ]
    }
   ],
   "source": [
    "# Download zip-file if ./data does not exist (as when running in Colab)\n",
    "\n",
    "if os.path.isdir(working_dir) == False:\n",
    "    \n",
    "    ## Download data.zip for Google Drive            \n",
    "    # https://drive.google.com/file/d/1pX6Mx_9P8fojDXmbTz-th5FKFYZDVFuO/view?usp=sharing\n",
    "    file_id = '1pX6Mx_9P8fojDXmbTz-th5FKFYZDVFuO'\n",
    "    url = 'https://drive.google.com/uc?id=%s' % file_id\n",
    "    output = './data.zip'\n",
    "    gdown.download(url, output, quiet=False)\n",
    "    \n",
    "    ## Unzip the assets file into `./data`\n",
    "    shutil.unpack_archive(output, '.')\n",
    "    \n",
    "    ## Delete the `data.zip` file\n",
    "    os.remove(output)\n",
    "else:\n",
    "    print(f'./data  exists already!')"
   ]
  },
  {
   "cell_type": "code",
   "execution_count": 7,
   "metadata": {},
   "outputs": [
    {
     "name": "stdout",
     "output_type": "stream",
     "text": [
      "./data/dmri_results  exists already!\n"
     ]
    }
   ],
   "source": [
    "# Download zip-file if ./data/dmri_results does not exist (as when running in Colab)\n",
    "\n",
    "if os.path.isdir(dmri_res) == False:\n",
    "    \n",
    "    ## Download dmri_results.zip for Google Drive            \n",
    "    # https://drive.google.com/file/d/1pX6Mx_9P8fojDXmbTz-th5FKFYZDVFuO/view?usp=sharing\n",
    "    file_id = '1wu5pzAcE2hyZymq-IzuzKYGK_lMYbnJy'\n",
    "    url = 'https://drive.google.com/uc?id=%s' % file_id\n",
    "    output = 'dmri_results.zip'\n",
    "    gdown.download(url, output, quiet=False)\n",
    "    \n",
    "    ## Unzip the assets file into `./data/dmri_results`\n",
    "    shutil.unpack_archive(output, './data/')\n",
    "    \n",
    "    ## Delete the `dmri_results.zip` file\n",
    "    os.remove(output)\n",
    "else:\n",
    "    print(f'./data/dmri_results  exists already!')"
   ]
  },
  {
   "cell_type": "markdown",
   "metadata": {},
   "source": [
    "## Import libraries"
   ]
  },
  {
   "cell_type": "code",
   "execution_count": 8,
   "metadata": {},
   "outputs": [
    {
     "name": "stderr",
     "output_type": "stream",
     "text": [
      "/Users/arvid/opt/anaconda3/envs/bmed360/lib/python3.8/site-packages/dipy/viz/__init__.py:31: UserWarning: You do not have FURY installed. Some visualization functions might not work for you. For installation instructions, please visit: https://fury.gl/\n",
      "  warnings.warn(\n"
     ]
    }
   ],
   "source": [
    "import os\n",
    "import pathlib\n",
    "import pandas as pd\n",
    "import numpy as np\n",
    "import matplotlib.pyplot as plt\n",
    "import nibabel as nib\n",
    "from os.path import expanduser, join, basename, split\n",
    "import time\n",
    "from dipy.viz import regtools\n",
    "from dipy.align.imaffine import (AffineMap, MutualInformationMetric, AffineRegistration)\n",
    "from dipy.align.transforms import (TranslationTransform3D, RigidTransform3D, AffineTransform3D)\n",
    "from dipy.io.image import save_nifti"
   ]
  },
  {
   "cell_type": "markdown",
   "metadata": {},
   "source": [
    "## Make an affine registration when the affine map is computed previuously "
   ]
  },
  {
   "cell_type": "code",
   "execution_count": 9,
   "metadata": {},
   "outputs": [],
   "source": [
    "def do_affine_reg_anat2dwi(inpdir, sub, ses, outdir):\n",
    "    r\"\"\"\n",
    "    Affine registration between a Freesurfer segmented region or mask and a mean S0 in native DWI space using \n",
    "    multilevel optimization and the Mutual Information similarity measure. \n",
    "    Based on the affine map obtained from '02-dmri-find-affine-fs-brainmask2dwi.ipynb'\n",
    "\n",
    "    Parameters\n",
    "    ----------\n",
    "    inpdir     : input directory e.g. inpdir = './data/dmri_results' where the moving files from\n",
    "                    Freesurfer segmentation mapped to T1w native space are stored.\n",
    "    sub        : subject id, e.g. 102 for sub-102\n",
    "    ses        : session number, eg 1 for ses-1\n",
    "    outdir     : output directory e.g. outdir = inpdir, where resulting affinely transformed input moving image \n",
    "                    are stored,\n",
    "\n",
    "    Returns\n",
    "    -------\n",
    "    NIL\n",
    "\n",
    "\n",
    "    Notes\n",
    "    -----\n",
    "    \n",
    "    The affine map is saved by '02-dmri-find-affine-fs-brainmask2dwi.ipynb':\n",
    "        np.savetxt(affine_fn, affine.get_affine(), delimiter=',')  \n",
    "    and loaded by:  \n",
    "        aff = np.loadtxt(affine_fn, delimiter=',')\n",
    "        affine_map = AffineMap(np.eye(4))\n",
    "        affine_map.set_affine(aff)\n",
    "\n",
    "    \"\"\"\n",
    "    \n",
    "    # Preparations\n",
    "\n",
    "    # Load static image in DWI native space\n",
    "    static_fn = join(inpdir, 'sub_%d_tp%d_dwi_S0_mean.nii.gz' % (sub, ses))\n",
    "    static_img= nib.load(static_fn)\n",
    "    static_data = static_img.get_fdata()\n",
    "    static_affine = static_img.affine\n",
    "    \n",
    "    # Load affine map: \n",
    "    affine_fn = join(inpdir, 'sub_%d_tp%d_affine_brainmask_to_dwi_S0_mean.mat' % (sub, ses))\n",
    "    aff = np.loadtxt(affine_fn, delimiter=',')\n",
    "    #affine_map = AffineMap(np.eye(4))\n",
    "    #affine_map.set_affine(aff)\n",
    "    \n",
    "    \n",
    "    # Load Freesurfer-segmented results in native anatomical space\n",
    "    \n",
    "    targ_name = 'native_space'\n",
    "    \n",
    "    # Images (linear interpolation)\n",
    "    fs_img = ['orig', 'brain']\n",
    "    for i, ima in enumerate(fs_img):\n",
    "        moving_ima_fn = join(inpdir,'sub_%d_tp%d_%s_in_%s.nii.gz' % (sub, ses, ima, targ_name))\n",
    "        moving_ima = nib.load(moving_ima_fn)\n",
    "        moving_ima_data = moving_ima.get_fdata()\n",
    "        moving_ima_affine = moving_ima.affine\n",
    "        \n",
    "        affine_map = AffineMap(affine=np.eye(4),    # identity\n",
    "                           domain_grid_shape=static_data.shape, \n",
    "                           domain_grid2world=static_affine,\n",
    "                           codomain_grid_shape=moving_ima_data.shape, \n",
    "                           codomain_grid2world=moving_ima_affine)\n",
    "        affine_map.set_affine(aff)\n",
    "        \n",
    "        transformed_ima = affine_map.transform(\n",
    "        image=moving_ima_data,\n",
    "        interpolation='linear', # 'linear' (k-linear interpoltaion) or 'nearest'\n",
    "        image_grid2world=None,\n",
    "        sampling_grid_shape=None,\n",
    "        sampling_grid2world=None,\n",
    "        resample_only=False\n",
    "        )\n",
    "    \n",
    "        transformed_ima_fn = join(outdir, 'sub_%d_tp%d_%s_in_native_space_aff_to_dwi_S0_mean.nii.gz' % \\\n",
    "                                  (sub, ses, ima))\n",
    "        moving2static_ima = nib.Nifti1Image(transformed_ima, static_affine)\n",
    "        nib.save(moving2static_ima, transformed_ima_fn)\n",
    "    \n",
    "    \n",
    "    # Masks (nearest neighbour interpolation)\n",
    "    fs_msk = ['brainmask', 'ribbon', 'aseg', 'wmparc', 'aparc+aseg']\n",
    "    for i, segm in enumerate(fs_msk):\n",
    "        moving_mask_fn = join(inpdir,'sub_%d_tp%d_%s_in_%s.nii.gz' % (sub, ses, segm, targ_name))\n",
    "        moving_mask = nib.load(moving_mask_fn)\n",
    "        moving_mask_data = moving_mask.get_fdata()\n",
    "        moving_mask_affine = moving_mask.affine\n",
    "        \n",
    "        affine_map = AffineMap(affine=np.eye(4),    # identity\n",
    "                           domain_grid_shape=static_data.shape, \n",
    "                           domain_grid2world=static_affine,\n",
    "                           codomain_grid_shape=moving_mask_data.shape, \n",
    "                           codomain_grid2world=moving_mask_affine)\n",
    "        affine_map.set_affine(aff)\n",
    "        \n",
    "        transformed_mask = affine_map.transform(\n",
    "        image=moving_mask_data,\n",
    "        interpolation='nearest', # 'linear' (k-linear interpoltaion) or 'nearest'\n",
    "        image_grid2world=None,\n",
    "        sampling_grid_shape=None,\n",
    "        sampling_grid2world=None,\n",
    "        resample_only=False\n",
    "        )\n",
    "    \n",
    "        transformed_mask_fn = join(outdir, 'sub_%d_tp%d_%s_in_native_space_aff_to_dwi_S0_mean.nii.gz' % \\\n",
    "                                   (sub, ses, segm))\n",
    "        moving2static_mask = nib.Nifti1Image(transformed_mask, static_affine)\n",
    "        nib.save(moving2static_mask, transformed_mask_fn)\n",
    "           \n",
    "    \n",
    "    return\n"
   ]
  },
  {
   "cell_type": "code",
   "execution_count": 10,
   "metadata": {},
   "outputs": [],
   "source": [
    "#do_affine_reg_anat2dwi?"
   ]
  },
  {
   "cell_type": "code",
   "execution_count": 11,
   "metadata": {},
   "outputs": [],
   "source": [
    "inp_dir = dmri_res \n",
    "outp_dir = inp_dir"
   ]
  },
  {
   "cell_type": "markdown",
   "metadata": {},
   "source": [
    "### Test the function"
   ]
  },
  {
   "cell_type": "code",
   "execution_count": 12,
   "metadata": {},
   "outputs": [],
   "source": [
    "sub = 102\n",
    "ses = 1"
   ]
  },
  {
   "cell_type": "code",
   "execution_count": 13,
   "metadata": {},
   "outputs": [
    {
     "name": "stdout",
     "output_type": "stream",
     "text": [
      "CPU times: user 5.29 s, sys: 265 ms, total: 5.56 s\n",
      "Wall time: 1.86 s\n"
     ]
    }
   ],
   "source": [
    "%%time\n",
    "do_affine_reg_anat2dwi(inp_dir, sub, ses, outp_dir)"
   ]
  },
  {
   "cell_type": "markdown",
   "metadata": {},
   "source": [
    "## Run for all subjects"
   ]
  },
  {
   "cell_type": "code",
   "execution_count": 14,
   "metadata": {},
   "outputs": [
    {
     "name": "stdout",
     "output_type": "stream",
     "text": [
      "Computing sub:102 ses:1\n",
      "Computing sub:103 ses:1\n",
      "Computing sub:111 ses:1\n",
      "Computing sub:123 ses:1\n",
      "CPU times: user 22.7 s, sys: 812 ms, total: 23.6 s\n",
      "Wall time: 7.16 s\n"
     ]
    }
   ],
   "source": [
    "%%time\n",
    "\n",
    "for sub in [102, 103, 111, 123]:\n",
    "    for ses in [1]:\n",
    "        \n",
    "        print(f'Computing sub:{sub} ses:{ses}')\n",
    "        do_affine_reg_anat2dwi(inp_dir, sub, ses, outp_dir)\n"
   ]
  },
  {
   "cell_type": "code",
   "execution_count": null,
   "metadata": {},
   "outputs": [],
   "source": []
  }
 ],
 "metadata": {
  "kernelspec": {
   "display_name": "BMED360",
   "language": "python",
   "name": "bmed360"
  },
  "language_info": {
   "codemirror_mode": {
    "name": "ipython",
    "version": 3
   },
   "file_extension": ".py",
   "mimetype": "text/x-python",
   "name": "python",
   "nbconvert_exporter": "python",
   "pygments_lexer": "ipython3",
   "version": "3.8.0"
  },
  "latex_envs": {
   "LaTeX_envs_menu_present": true,
   "autoclose": false,
   "autocomplete": true,
   "bibliofile": "biblio.bib",
   "cite_by": "apalike",
   "current_citInitial": 1,
   "eqLabelWithNumbers": true,
   "eqNumInitial": 1,
   "hotkeys": {
    "equation": "Ctrl-E",
    "itemize": "Ctrl-I"
   },
   "labels_anchors": false,
   "latex_user_defs": false,
   "report_style_numbering": false,
   "user_envs_cfg": false
  },
  "toc": {
   "base_numbering": 1,
   "nav_menu": {},
   "number_sections": false,
   "sideBar": true,
   "skip_h1_title": false,
   "title_cell": "Table of Contents",
   "title_sidebar": "Contents",
   "toc_cell": true,
   "toc_position": {},
   "toc_section_display": false,
   "toc_window_display": false
  }
 },
 "nbformat": 4,
 "nbformat_minor": 4
}
