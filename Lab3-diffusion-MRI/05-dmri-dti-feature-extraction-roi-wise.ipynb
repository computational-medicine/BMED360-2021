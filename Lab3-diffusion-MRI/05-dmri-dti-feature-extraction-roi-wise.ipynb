{
 "cells": [
  {
   "cell_type": "markdown",
   "metadata": {},
   "source": [
    "#  DTI-derived metrics (FA, MD, AD, RD) within FS-segmented ROIs\n",
    "\n",
    "BMED360-2021  `05-dmr-dti-feature-extraction-roi-wise.ipynb`\n",
    "\n",
    "(assuming the `02-dmri-find-affine-fs-brainmask2dwi.ipynb` and `03-dmri-reconstruction-dti.ipynb` and `04-dmri-do-affine-reg-anat2dwi.ipynb` notebooks have been executed)"
   ]
  },
  {
   "cell_type": "markdown",
   "metadata": {},
   "source": [
    "<a href=\"https://colab.research.google.com/github/computational-medicine/BMED360-2021/blob/main/Lab3-diffusion-MRI/05-dmr-dti-feature-extraction-roi-wise.ipynb\">\n",
    "  <img src=\"https://colab.research.google.com/assets/colab-badge.svg\" alt=\"Open In Colab\"/>\n",
    "</a>"
   ]
  },
  {
   "cell_type": "markdown",
   "metadata": {},
   "source": [
    "### Learning objectives\n",
    "\n",
    "\n",
    "**Check [FreeSurferColorLUT.txt](https://surfer.nmr.mgh.harvard.edu/fswiki/FsTutorial/AnatomicalROI/FreeSurferColorLUT) for the ROI-label for the different regions (left and right hemisphere)**\n",
    "\n",
    "TODO\n"
   ]
  },
  {
   "cell_type": "markdown",
   "metadata": {},
   "source": [
    "### For using Colab\n",
    "**--> (some of) the following libraries must be `pip installed` (i.e. uncommet these among the following pip commands):**"
   ]
  },
  {
   "cell_type": "code",
   "execution_count": 1,
   "metadata": {},
   "outputs": [],
   "source": [
    "#!pip install gdown\n",
    "#!pip install nilearn\n",
    "#!pip install dipy"
   ]
  },
  {
   "cell_type": "markdown",
   "metadata": {},
   "source": [
    "**Download a data file from Google Drive using gdown** (https://github.com/wkentaro/gdown)"
   ]
  },
  {
   "cell_type": "code",
   "execution_count": 2,
   "metadata": {},
   "outputs": [],
   "source": [
    "import gdown\n",
    "import shutil\n",
    "import sys\n",
    "import os\n",
    "from os.path import expanduser, join, basename, split\n",
    "import glob\n",
    "import shutil\n",
    "import platform"
   ]
  },
  {
   "cell_type": "markdown",
   "metadata": {},
   "source": [
    "Check your platform for running this notebook"
   ]
  },
  {
   "cell_type": "code",
   "execution_count": 3,
   "metadata": {},
   "outputs": [
    {
     "name": "stdout",
     "output_type": "stream",
     "text": [
      "OK, you are running on MacOS (Darwin Kernel Version 20.4.0: Fri Mar  5 01:14:14 PST 2021; root:xnu-7195.101.1~3/RELEASE_X86_64)\n"
     ]
    }
   ],
   "source": [
    "if platform.system() == 'Darwin':\n",
    "    print(f'OK, you are running on MacOS ({platform.version()})')\n",
    "if platform.system() == 'Linux':\n",
    "    print(f'OK, you are running on Linux ({platform.version()})')\n",
    "if platform.system() == 'Windows':\n",
    "    print(f'OK, but consider to install WSL for Windows10 since you are running on {platform.system()}')\n",
    "    print('Check https://docs.microsoft.com/en-us/windows/wsl/install-win10')"
   ]
  },
  {
   "cell_type": "code",
   "execution_count": 4,
   "metadata": {},
   "outputs": [],
   "source": [
    "cwd = os.getcwd()"
   ]
  },
  {
   "cell_type": "code",
   "execution_count": 5,
   "metadata": {},
   "outputs": [],
   "source": [
    "working_dir = join(cwd, 'data')\n",
    "bids_dir = '%s/bids_bg_bmed360' % (working_dir)\n",
    "dmri_res = '%s/dmri_results' % (working_dir)"
   ]
  },
  {
   "cell_type": "code",
   "execution_count": 6,
   "metadata": {},
   "outputs": [
    {
     "name": "stdout",
     "output_type": "stream",
     "text": [
      "./data  exists already!\n"
     ]
    }
   ],
   "source": [
    "# Download zip-file if ./data does not exist (as when running in Colab)\n",
    "\n",
    "if os.path.isdir(working_dir) == False:\n",
    "    \n",
    "    ## Download data.zip for Google Drive            \n",
    "    # https://drive.google.com/file/d/1pX6Mx_9P8fojDXmbTz-th5FKFYZDVFuO/view?usp=sharing\n",
    "    file_id = '1pX6Mx_9P8fojDXmbTz-th5FKFYZDVFuO'\n",
    "    url = 'https://drive.google.com/uc?id=%s' % file_id\n",
    "    output = './data.zip'\n",
    "    gdown.download(url, output, quiet=False)\n",
    "    \n",
    "    ## Unzip the assets file into `./data`\n",
    "    shutil.unpack_archive(output, '.')\n",
    "    \n",
    "    ## Delete the `data.zip` file\n",
    "    os.remove(output)\n",
    "else:\n",
    "    print(f'./data  exists already!')"
   ]
  },
  {
   "cell_type": "code",
   "execution_count": 7,
   "metadata": {},
   "outputs": [
    {
     "name": "stdout",
     "output_type": "stream",
     "text": [
      "./data/dmri_results  exists already!\n"
     ]
    }
   ],
   "source": [
    "# Download zip-file if ./data/dmri_results does not exist (as when running in Colab)\n",
    "\n",
    "if os.path.isdir(dmri_res) == False:\n",
    "    \n",
    "    ## Download dmri_results.zip for Google Drive            \n",
    "    # https://drive.google.com/file/d/1pX6Mx_9P8fojDXmbTz-th5FKFYZDVFuO/view?usp=sharing\n",
    "    file_id = '1wu5pzAcE2hyZymq-IzuzKYGK_lMYbnJy'\n",
    "    url = 'https://drive.google.com/uc?id=%s' % file_id\n",
    "    output = 'dmri_results.zip'\n",
    "    gdown.download(url, output, quiet=False)\n",
    "    \n",
    "    ## Unzip the assets file into `./data/dmri_results`\n",
    "    shutil.unpack_archive(output, './data/')\n",
    "    \n",
    "    ## Delete the `dmri_results.zip` file\n",
    "    os.remove(output)\n",
    "else:\n",
    "    print(f'./data/dmri_results  exists already!')"
   ]
  },
  {
   "cell_type": "markdown",
   "metadata": {},
   "source": [
    "## Import libraries"
   ]
  },
  {
   "cell_type": "code",
   "execution_count": 8,
   "metadata": {},
   "outputs": [],
   "source": [
    "import os\n",
    "import pathlib\n",
    "import pandas as pd\n",
    "import numpy as np\n",
    "import matplotlib.pyplot as plt\n",
    "import nibabel as nib\n",
    "from os.path import expanduser, join, basename, split\n",
    "import time\n",
    "from dipy.io.image import save_nifti"
   ]
  },
  {
   "cell_type": "code",
   "execution_count": 9,
   "metadata": {},
   "outputs": [],
   "source": [
    "def get_dti_features_from_roi(inpdir, sub, ses, roi_name, roi_num, outdir):\n",
    "    r\"\"\"\n",
    "    Extraction of DTI-derived featurevalues, i.e. FA, MD, AD, RD from a given antomical region, named 'roi_name'\n",
    "    and numbered by Freesurfer as 'roi_num' with respect to the coregistered wmparc segmented image for \n",
    "    given subject ('sub') and session ('ses' = 1) \n",
    "\n",
    "    Parameters\n",
    "    ----------\n",
    "    inpdir     : input directory e.g. inpdir = 'data/dmri_results' where the moving files \n",
    "                   from Freesurfer segmentation mapped to T1w native space are stored.\n",
    "    sub        : subject id, e.g. 102 for sub-102\n",
    "    ses        : session number, e.g. 1 for ses-1\n",
    "    roi_name   : name of a (white matter) region in wmparc, e.g. 'wm-lh-insula'\n",
    "    roi_num    : number of that region according to the Freesurfer LUT, e.g. 3035\n",
    "    outdir     : output directory e.g. outdir = inpdir, where resulting ... are stored,\n",
    "\n",
    "    Returns\n",
    "    -------\n",
    "    meas_name  : list of DTI-derived features, for now ['fa', 'md', 'ad', 'rd']\n",
    "    meas_num   : number of voxels in the named 3D ROI region (same accross all features)\n",
    "    meas_val   : the feature values of each feature i in ['fa', 'md', 'ad', 'rd']\n",
    "\n",
    "\n",
    "    Notes\n",
    "    -----\n",
    "\n",
    "    \"\"\"\n",
    "    \n",
    "    # Preparations\n",
    "    \n",
    "    # Load WMPARC: \n",
    "    wmparc_fn = join(inpdir, 'sub_%d_tp%d_wmparc_in_native_space_aff_to_dwi_S0_mean.nii.gz' % (sub, ses))\n",
    "    wmparc_img= nib.load(wmparc_fn)\n",
    "    wmparc_data = wmparc_img.get_fdata()\n",
    "    wmparc_affine = wmparc_img.affine\n",
    "    \n",
    "    #a = wmparc_data.flatten()\n",
    "    #unique, counts = np.unique(a, return_counts=True)\n",
    "    #dict(zip(unique, counts))\n",
    "    \n",
    "    roi = np.where(wmparc_data == roi_num)\n",
    "    roi_flatten = np.where(wmparc_data.flatten() == roi_num)\n",
    "    \n",
    "    # Metrics from DTI in native DWI space\n",
    "    dti_metrics = ['fa', 'md', 'ad', 'rd']\n",
    "    meas_name = []\n",
    "    meas_num = []\n",
    "    meas_val = []\n",
    "    for i, meas in enumerate(dti_metrics):\n",
    "        fname = join(inpdir, 'sub_%d_tp%d_dwi_brainmask_tensor_%s.nii.gz' % (sub, ses, meas))\n",
    "        meas_img= nib.load(fname)\n",
    "        meas_data = meas_img.get_fdata()\n",
    "        meas_affine = meas_img.affine\n",
    "        \n",
    "        meas_data_flatten = meas_data.flatten()\n",
    "        \n",
    "        meas_name.append(meas)\n",
    "        meas_num.append(len(roi_flatten[0]))\n",
    "        meas_val.append(meas_data_flatten[roi_flatten])\n",
    "        \n",
    "        #plt.hist(meas_val[i],bins=50)\n",
    "        #plt.title('sub-%d | %s | %s | n=%d' % (sub, roi_name, meas_name[i], len(roi_flatten[0])))\n",
    "        #plt.show()\n",
    "        \n",
    "    \n",
    "    #fig = plt.figure(figsize = [14, 12])\n",
    "    #for i, meas in enumerate(dti_metrics):\n",
    "    #    plt.subplot(2,2,i+1)\n",
    "    #    plt.hist(meas_val[i],bins=50, color='black')\n",
    "    #    plt.title('sub-%d | %s | %s | n=%d | median=%.5f' %\n",
    "    #              (sub, roi_name, meas_name[i].upper(), len(roi_flatten[0]), np.median(meas_val[i])))\n",
    "    #plt.show()\n",
    "    #fig.savefig('%s/tmp/FIGURES/sub_%d_wmparc_%s_dti_features.png' % (home, sub, roi_name),\n",
    "    #       transparent=False, dpi=300, bbox_inches=\"tight\")\n",
    "    \n",
    "    return dti_metrics, meas_name, meas_num, meas_val\n"
   ]
  },
  {
   "cell_type": "code",
   "execution_count": 10,
   "metadata": {},
   "outputs": [],
   "source": [
    "# get_dti_features_from_roi?"
   ]
  },
  {
   "cell_type": "code",
   "execution_count": 11,
   "metadata": {},
   "outputs": [],
   "source": [
    "inp_dir = dmri_res \n",
    "outp_dir = inp_dir"
   ]
  },
  {
   "cell_type": "markdown",
   "metadata": {},
   "source": [
    "### Test the function"
   ]
  },
  {
   "cell_type": "code",
   "execution_count": 12,
   "metadata": {},
   "outputs": [],
   "source": [
    "roi_name = 'wm-lh-insula'\n",
    "roi_num = 3035\n",
    "sub = 102\n",
    "ses = 1"
   ]
  },
  {
   "cell_type": "code",
   "execution_count": 13,
   "metadata": {},
   "outputs": [
    {
     "name": "stdout",
     "output_type": "stream",
     "text": [
      "CPU times: user 92.7 ms, sys: 32.6 ms, total: 125 ms\n",
      "Wall time: 124 ms\n"
     ]
    }
   ],
   "source": [
    "%%time\n",
    "dti_metrics, meas_name, meas_num, meas_val = \\\n",
    "get_dti_features_from_roi(inp_dir, sub, ses, roi_name, roi_num, outp_dir)"
   ]
  },
  {
   "cell_type": "code",
   "execution_count": 14,
   "metadata": {},
   "outputs": [
    {
     "data": {
      "image/png": "[encoded data removed]",
      "text/plain": [
       "<Figure size 1008x864 with 4 Axes>"
      ]
     },
     "metadata": {
      "needs_background": "light"
     },
     "output_type": "display_data"
    }
   ],
   "source": [
    "fig = plt.figure(figsize = [14, 12])\n",
    "for i, meas in enumerate(dti_metrics):\n",
    "    plt.subplot(2,2,i+1)\n",
    "    plt.hist(meas_val[i],bins=50, color='black')\n",
    "    plt.title('sub-%d | %s | %s | n=%d | median=%.5f' %\n",
    "                  (sub, roi_name, meas_name[i].upper(), len(meas_val[i]), np.median(meas_val[i])))\n",
    "plt.show()\n",
    "#fig.savefig('./assets/sub_%d_wmparc_%s_dti_features.png' % (sub, roi_name),\n",
    "#           transparent=False, dpi=300, bbox_inches=\"tight\")"
   ]
  },
  {
   "cell_type": "markdown",
   "metadata": {},
   "source": [
    "## Run for all subjects"
   ]
  },
  {
   "cell_type": "code",
   "execution_count": 15,
   "metadata": {},
   "outputs": [],
   "source": [
    "roi_name = 'wm-lh-insula'\n",
    "roi_num = 3035"
   ]
  },
  {
   "cell_type": "code",
   "execution_count": 16,
   "metadata": {},
   "outputs": [
    {
     "name": "stdout",
     "output_type": "stream",
     "text": [
      "Computing sub:102 ses:1\n",
      "Computing sub:103 ses:1\n",
      "Computing sub:111 ses:1\n",
      "Computing sub:123 ses:1\n",
      "CPU times: user 329 ms, sys: 75.1 ms, total: 405 ms\n",
      "Wall time: 403 ms\n"
     ]
    }
   ],
   "source": [
    "%%time\n",
    "\n",
    "for sub in [102, 103, 111, 123]:\n",
    "    for ses in [1]:\n",
    "        \n",
    "        print(f'Computing sub:{sub} ses:{ses}')\n",
    "    \n",
    "        dti_metrics, meas_name, meas_num, meas_val = \\\n",
    "        get_dti_features_from_roi(inp_dir, sub, ses, roi_name, roi_num, outp_dir)\n"
   ]
  },
  {
   "cell_type": "code",
   "execution_count": null,
   "metadata": {},
   "outputs": [],
   "source": []
  }
 ],
 "metadata": {
  "kernelspec": {
   "display_name": "BMED360",
   "language": "python",
   "name": "bmed360"
  },
  "language_info": {
   "codemirror_mode": {
    "name": "ipython",
    "version": 3
   },
   "file_extension": ".py",
   "mimetype": "text/x-python",
   "name": "python",
   "nbconvert_exporter": "python",
   "pygments_lexer": "ipython3",
   "version": "3.8.0"
  },
  "latex_envs": {
   "LaTeX_envs_menu_present": true,
   "autoclose": false,
   "autocomplete": true,
   "bibliofile": "biblio.bib",
   "cite_by": "apalike",
   "current_citInitial": 1,
   "eqLabelWithNumbers": true,
   "eqNumInitial": 1,
   "hotkeys": {
    "equation": "Ctrl-E",
    "itemize": "Ctrl-I"
   },
   "labels_anchors": false,
   "latex_user_defs": false,
   "report_style_numbering": false,
   "user_envs_cfg": false
  },
  "toc": {
   "base_numbering": 1,
   "nav_menu": {},
   "number_sections": false,
   "sideBar": true,
   "skip_h1_title": false,
   "title_cell": "Table of Contents",
   "title_sidebar": "Contents",
   "toc_cell": true,
   "toc_position": {},
   "toc_section_display": false,
   "toc_window_display": false
  }
 },
 "nbformat": 4,
 "nbformat_minor": 4
}
