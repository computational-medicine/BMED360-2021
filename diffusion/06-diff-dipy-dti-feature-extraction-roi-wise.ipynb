{
 "cells": [
  {
   "cell_type": "markdown",
   "metadata": {},
   "source": [
    "# DTI-derived metrics (FA, MD, AD, RD) within FS-segmented ROIs\n",
    "\n",
    "`06-diff-dipy-dti-feature-extraction-roi-wise.ipynb` ver. 20200422\n",
    "\n",
    "**Check [FreeSurferColorLUT.txt](https://surfer.nmr.mgh.harvard.edu/fswiki/FsTutorial/AnatomicalROI/FreeSurferColorLUT) for the ROI-label for the different regions (left and right hemisphere)**"
   ]
  },
  {
   "cell_type": "code",
   "execution_count": 1,
   "metadata": {},
   "outputs": [],
   "source": [
    "from IPython.display import Image\n",
    "#Image(\"assets/dipy_image_registration_ants.png\")"
   ]
  },
  {
   "cell_type": "code",
   "execution_count": 2,
   "metadata": {},
   "outputs": [],
   "source": [
    "import os\n",
    "import pathlib\n",
    "import pandas as pd\n",
    "import numpy as np\n",
    "import matplotlib.pyplot as plt\n",
    "import nibabel as nib\n",
    "from os.path import expanduser, join, basename, split\n",
    "home = expanduser('~') # To make path to local home directory\n",
    "import time\n",
    "from dipy.io.image import save_nifti"
   ]
  },
  {
   "cell_type": "code",
   "execution_count": 3,
   "metadata": {},
   "outputs": [],
   "source": [
    "def get_dti_features_from_roi(inpdir, sub, ses, roi_name, roi_num, outdir):\n",
    "    r\"\"\"\n",
    "    Extraction of DTI-derived featurevalues, i.e. FA, MD, AD, RD from a given antomical region, named 'roi_name'\n",
    "    and numbered by Freesurfer as 'roi_num' with respect to the coregistered wmparc segmented image for \n",
    "    given subject ('sub') and session ('ses' = 1) \n",
    "\n",
    "    Parameters\n",
    "    ----------\n",
    "    inpdir     : input directory e.g. inpdir = '~/prj/BrainGut/GE_Signa3T/dipy_analysis' where the moving files from Freesurfer segmentation mapped to T1w native space are stored.\n",
    "    sub        : subject id, e.g. 101 for sub-101\n",
    "    ses        : session number, e.g. 1 for ses-1\n",
    "    roi_name   : name of a (white matter) region in wmparc, e.g. 'wm-lh-insula'\n",
    "    roi_num    : number of that region according to the Freesurfer LUT, e.g. 3035\n",
    "    outdir     : output directory e.g. outdir = inpdir, where resulting ... are stored,\n",
    "\n",
    "    Returns\n",
    "    -------\n",
    "    meas_name  : list of DTI-derived features, for now ['fa', 'md', 'ad', 'rd']\n",
    "    meas_num   : number of voxels in the named 3D ROI region (same accross all features)\n",
    "    meas_val   : the feature values of each feature i in ['fa', 'md', 'ad', 'rd']\n",
    "\n",
    "\n",
    "    Notes\n",
    "    -----\n",
    "    sub-115_ses-1 is problematic:\n",
    "    \n",
    "    % 115 -  dicm2nii:\n",
    "    % Validating 14627 files ...\n",
    "    %  Inconsistent 'ImageOrientationPatient' for Subject fMRI_120411_suppe_rhs, ny loc (Series 6). Series skipped.\n",
    "    %  Inconsistent 'ImageOrientationPatient' for Subject fMRI_120411_suppe_rhs, loc (Series 1). Series skipped.\n",
    "    % Converting 5 series (GE) into 4-D .nii.gz: subject 'fMRI_120411_suppe_rhs'\n",
    "    %  x3DT1_SPGRE_192_z_192_x_Te_min_full_s002             188x256x256x1\n",
    "    %  fMRI_default_s003                                    128x128x25x240\n",
    "    %  TENSOR_ASSET                                         128x128x55x36\n",
    "    %  x3DT1_SPGRE_192_z_192_x_Te_min_full_s007             188x256x256x1\n",
    "    %  fMRI_default_s008                                    128x128x26x240\n",
    "    % Elapsed time by dicm2nii is 10.2 seconds\n",
    "    \n",
    "    ── 115\n",
    "    ├── dcmHeaders.mat\n",
    "    ├── dicm2nii_warningMsg.txt\n",
    "    ├── fMRI_default_s003.json\n",
    "    ├── fMRI_default_s003.nii.gz\n",
    "    ├── fMRI_default_s008.json\n",
    "    ├── fMRI_default_s008.nii.gz\n",
    "    ├── TENSOR_ASSET.bval\n",
    "    ├── TENSOR_ASSET.bvec\n",
    "    ├── TENSOR_ASSET.json\n",
    "    ├── TENSOR_ASSET.nii.gz\n",
    "    ├── x3DT1_SPGRE_192_z_192_x_Te_min_full_s002.json\n",
    "    ├── x3DT1_SPGRE_192_z_192_x_Te_min_full_s002.nii.gz\n",
    "    ├── x3DT1_SPGRE_192_z_192_x_Te_min_full_s007.json\n",
    "    └── x3DT1_SPGRE_192_z_192_x_Te_min_full_s007.nii.gz\n",
    "    \"\"\"\n",
    "    \n",
    "    # Preparations\n",
    "    \n",
    "    # Load WMPARC: \n",
    "    wmparc_fn = join(inpdir, 'sub_%d_tp%d_wmparc_in_native_space_aff_to_dwi_S0_mean.nii.gz' % (sub, ses))\n",
    "    wmparc_img= nib.load(wmparc_fn)\n",
    "    wmparc_data = wmparc_img.get_fdata()\n",
    "    wmparc_affine = wmparc_img.affine\n",
    "    \n",
    "    #a = wmparc_data.flatten()\n",
    "    #unique, counts = np.unique(a, return_counts=True)\n",
    "    #dict(zip(unique, counts))\n",
    "    \n",
    "    roi = np.where(wmparc_data == roi_num)\n",
    "    roi_flatten = np.where(wmparc_data.flatten() == roi_num)\n",
    "    \n",
    "    # Metrics from DTI in native DWI space\n",
    "    dti_metrics = ['fa', 'md', 'ad', 'rd']\n",
    "    meas_name = []\n",
    "    meas_num = []\n",
    "    meas_val = []\n",
    "    for i, meas in enumerate(dti_metrics):\n",
    "        fname = join(inpdir, 'sub_%d_tp%d_dwi_brainmask_tensor_%s.nii.gz' % (sub, ses, meas))\n",
    "        meas_img= nib.load(fname)\n",
    "        meas_data = meas_img.get_fdata()\n",
    "        meas_affine = meas_img.affine\n",
    "        \n",
    "        meas_data_flatten = meas_data.flatten()\n",
    "        \n",
    "        meas_name.append(meas)\n",
    "        meas_num.append(len(roi_flatten[0]))\n",
    "        meas_val.append(meas_data_flatten[roi_flatten])\n",
    "        \n",
    "        #plt.hist(meas_val[i],bins=50)\n",
    "        #plt.title('sub-%d | %s | %s | n=%d' % (sub, roi_name, meas_name[i], len(roi_flatten[0])))\n",
    "        #plt.show()\n",
    "        \n",
    "    \n",
    "    #fig = plt.figure(figsize = [14, 12])\n",
    "    #for i, meas in enumerate(dti_metrics):\n",
    "    #    plt.subplot(2,2,i+1)\n",
    "    #    plt.hist(meas_val[i],bins=50, color='black')\n",
    "    #    plt.title('sub-%d | %s | %s | n=%d | median=%.5f' %\n",
    "    #              (sub, roi_name, meas_name[i].upper(), len(roi_flatten[0]), np.median(meas_val[i])))\n",
    "    #plt.show()\n",
    "    #fig.savefig('%s/tmp/FIGURES/sub_%d_wmparc_%s_dti_features.png' % (home, sub, roi_name),\n",
    "    #       transparent=False, dpi=300, bbox_inches=\"tight\")\n",
    "    \n",
    "    return dti_metrics, meas_name, meas_num, meas_val\n"
   ]
  },
  {
   "cell_type": "markdown",
   "metadata": {},
   "source": [
    "### Test the function"
   ]
  },
  {
   "cell_type": "code",
   "execution_count": 4,
   "metadata": {},
   "outputs": [],
   "source": [
    "working_dir = join(os.getcwd(), 'data')\n",
    "inp_dir = '%s/dipy_analysis' % (working_dir)\n",
    "outp_dir = inp_dir\n",
    "roi_name = 'wm-lh-insula'\n",
    "roi_num = 3035\n",
    "sub = 101\n",
    "ses = 1"
   ]
  },
  {
   "cell_type": "code",
   "execution_count": 5,
   "metadata": {},
   "outputs": [
    {
     "name": "stdout",
     "output_type": "stream",
     "text": [
      "CPU times: user 52.4 ms, sys: 8.05 ms, total: 60.5 ms\n",
      "Wall time: 59.9 ms\n"
     ]
    }
   ],
   "source": [
    "%%time\n",
    "dti_metrics, meas_name, meas_num, meas_val = get_dti_features_from_roi(inp_dir, sub, ses, roi_name, roi_num, outp_dir)"
   ]
  },
  {
   "cell_type": "code",
   "execution_count": 6,
   "metadata": {},
   "outputs": [
    {
     "data": {
      "image/png": "[encoded data removed]",
      "text/plain": [
       "<Figure size 1008x864 with 4 Axes>"
      ]
     },
     "metadata": {
      "needs_background": "light"
     },
     "output_type": "display_data"
    }
   ],
   "source": [
    "fig = plt.figure(figsize = [14, 12])\n",
    "for i, meas in enumerate(dti_metrics):\n",
    "    plt.subplot(2,2,i+1)\n",
    "    plt.hist(meas_val[i],bins=50, color='black')\n",
    "    plt.title('sub-%d | %s | %s | n=%d | median=%.5f' %\n",
    "                  (sub, roi_name, meas_name[i].upper(), len(meas_val[i]), np.median(meas_val[i])))\n",
    "plt.show()\n",
    "fig.savefig('./assets/sub_%d_wmparc_%s_dti_features.png' % (sub, roi_name),\n",
    "           transparent=False, dpi=300, bbox_inches=\"tight\")"
   ]
  },
  {
   "cell_type": "code",
   "execution_count": 7,
   "metadata": {},
   "outputs": [],
   "source": [
    "# get_dti_features_from_roi?"
   ]
  },
  {
   "cell_type": "markdown",
   "metadata": {},
   "source": [
    "## Run for all subjects"
   ]
  },
  {
   "cell_type": "code",
   "execution_count": 8,
   "metadata": {},
   "outputs": [],
   "source": [
    "import sys\n",
    "sys.path.append('.')   # path to utils.py\n",
    "import utils\n",
    "import time\n",
    "\n",
    "working_dir = join(os.getcwd(), 'data')\n",
    "inp_dir = '%s/dipy_analysis' % (working_dir)\n",
    "outp_dir = inp_dir\n",
    "roi_name = 'wm-lh-insula'\n",
    "roi_num = 3035"
   ]
  },
  {
   "cell_type": "code",
   "execution_count": 9,
   "metadata": {},
   "outputs": [
    {
     "name": "stdout",
     "output_type": "stream",
     "text": [
      "Computing: [########################################] 1/1\n",
      "CPU times: user 57.8 ms, sys: 8.1 ms, total: 65.9 ms\n",
      "Wall time: 165 ms\n"
     ]
    }
   ],
   "source": [
    "%%time\n",
    "nsubj = 1 # 30\n",
    "ses=1\n",
    "\n",
    "for i in utils.progressbar(range(nsubj), \"Computing: \", 40):\n",
    "    time.sleep(0.1)\n",
    "    sub = i+101\n",
    "    \n",
    "    dti_metrics, meas_name, meas_num, meas_val = get_dti_features_from_roi(inp_dir, sub, ses, roi_name, roi_num, outp_dir)\n"
   ]
  }
 ],
 "metadata": {
  "kernelspec": {
   "display_name": "BMED360V2020",
   "language": "python",
   "name": "bmed360v2020"
  },
  "language_info": {
   "codemirror_mode": {
    "name": "ipython",
    "version": 3
   },
   "file_extension": ".py",
   "mimetype": "text/x-python",
   "name": "python",
   "nbconvert_exporter": "python",
   "pygments_lexer": "ipython3",
   "version": "3.7.6"
  },
  "latex_envs": {
   "LaTeX_envs_menu_present": true,
   "autoclose": false,
   "autocomplete": true,
   "bibliofile": "biblio.bib",
   "cite_by": "apalike",
   "current_citInitial": 1,
   "eqLabelWithNumbers": true,
   "eqNumInitial": 1,
   "hotkeys": {
    "equation": "Ctrl-E",
    "itemize": "Ctrl-I"
   },
   "labels_anchors": false,
   "latex_user_defs": false,
   "report_style_numbering": false,
   "user_envs_cfg": false
  },
  "toc": {
   "base_numbering": 1,
   "nav_menu": {},
   "number_sections": false,
   "sideBar": true,
   "skip_h1_title": false,
   "title_cell": "Table of Contents",
   "title_sidebar": "Contents",
   "toc_cell": true,
   "toc_position": {},
   "toc_section_display": false,
   "toc_window_display": false
  }
 },
 "nbformat": 4,
 "nbformat_minor": 4
}
