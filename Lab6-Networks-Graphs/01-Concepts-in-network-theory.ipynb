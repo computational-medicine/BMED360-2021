{
 "cells": [
  {
   "cell_type": "markdown",
   "metadata": {},
   "source": [
    "# Concepts in Network Theory\n",
    "\n",
    "(Modified from _Peder Lillebostad's_ https://github.com/oercompbiomed/CBM101/tree/master/D_Network_analysis)\n",
    "\n",
    "BMED360-2021  `01-Concepts-in-network-theory.ipynb`"
   ]
  },
  {
   "cell_type": "markdown",
   "metadata": {},
   "source": [
    "<a href=\"https://colab.research.google.com/github/computational-medicine/BMED360-2021/blob/main/Lab6-Networks_Graphs/01-Concepts-in-network-theory.ipynb\">\n",
    "  <img src=\"https://colab.research.google.com/assets/colab-badge.svg\" alt=\"Open In Colab\"/>\n",
    "</a>"
   ]
  },
  {
   "cell_type": "markdown",
   "metadata": {},
   "source": [
    "## Learning objectives\n",
    "\n",
    "Networks: Network representations are ubiquitous for things like social \n",
    "networks, the world wide web, transportation and power grids. \n",
    "\n",
    "In biology it naturally projects to dynamics of molecular interaction inside cells \n",
    "(metabolic or protein-protein networks), neuroscience and and ecological networks. In this submodule we will \n",
    "focus on the first two. As an example of an abstract network, the image below of [Disease network](https://barabasi.com/f/320.pdf) is constructed from protein-protein interactions (two diseases are considered connected if their disease-associated genes interact, or if they share such a gene).\n",
    "\n",
    "<img src=\"assets/barabasi_disease_network.png\" alt=\"disease network\" style=\"float:left\" width=\"400\" />\n",
    "\n",
    "\n",
    "Network theory is also being increasingly used in neuroscience, coined **connectomics**. Nothing about the idea is new, as it dates back at last 100 years, but only with advances in imaging technologies have we started to gain access into what it looks like. Some neuroscientists believe that if we had perfect resolution of an individual's connectome, this would (in theory) allow full access into that person's memories, experiences, knowledge and personality.\n",
    "\n",
    "We leave you with a few articles to appreciate network theory as a tool to study biology.\n",
    "\n",
    "https://barabasi.com/f/320.pdf\n",
    "\n",
    "https://www.nature.com/articles/nrg.2016.87\n",
    "\n",
    "https://www.nature.com/articles/nrg1272"
   ]
  },
  {
   "cell_type": "markdown",
   "metadata": {},
   "source": [
    "For great explanations of more or less advanced network science concepts and algorithms in Python, we recommend to check out [this](https://programminghistorian.org/en/lessons/exploring-and-analyzing-network-data-with-python) tutorial."
   ]
  },
  {
   "cell_type": "markdown",
   "metadata": {},
   "source": [
    "## Network representation\n",
    "\n",
    "The **Seven Bridges of Königsberg** (now Kaliningrad, divided by the Pregel River) is a historically notable problem in mathematics. Its negative resolution by Leonhard Euler in 1736 laid the foundations of graph theory and prefigured the idea of topology [[wikipedia](https://en.wikipedia.org/wiki/Seven_Bridges_of_K%C3%B6nigsberg)]. Euler shows that the possibility of a walk through a graph, traversing each edge exactly once, depends on the degrees of the nodes. A necessary (and sufficient) condition for the walk of the desired form (an _Eulerian path_) is that the graph is connected and have exactly zero or two nodes of odd degree ...  [How many nodes of odd degree is there in this case?]\n",
    "\n",
    "![Konigsberg-Euler](./assets/Konigsberg_Euler.png)\n",
    "\n",
    "Networks are most naturally visualized as a set of points (nodes) connected by lines (edges).\n",
    "\n",
    "<img\n",
    "src=\"assets/graph_random_circle.png\"\n",
    "width=300\n",
    "/>\n",
    "\n",
    "This data is typically stored as a list of edges, for the figure above we would have G = {A,B}, {B,A}, {B,C}.\n",
    "Another equivalent form is the adjacency matrix, which is less intuitive, but mathematically appealing (color code: black=1; white=0).\n",
    "\n",
    "\n",
    "<img\n",
    "src=\"assets/matrix_example.png\"\n",
    "width=500\n",
    "/>"
   ]
  },
  {
   "cell_type": "markdown",
   "metadata": {},
   "source": [
    "## Setup"
   ]
  },
  {
   "cell_type": "code",
   "execution_count": 1,
   "metadata": {},
   "outputs": [],
   "source": [
    "# Set this to True if you are using Colab:\n",
    "colab=False\n",
    "\n",
    "# Set this to True if you will be using Brain Connectivity Toolbox (for Python)\n",
    "bct = False     # If True: pip install bctpy "
   ]
  },
  {
   "cell_type": "code",
   "execution_count": 2,
   "metadata": {},
   "outputs": [],
   "source": [
    "if colab:\n",
    "    !pip install gdown\n",
    "    !pip install networkx"
   ]
  },
  {
   "cell_type": "code",
   "execution_count": 3,
   "metadata": {},
   "outputs": [
    {
     "name": "stdout",
     "output_type": "stream",
     "text": [
      "networkx version: 2.5.1\n"
     ]
    }
   ],
   "source": [
    "import os\n",
    "from os.path import expanduser, join, basename, split\n",
    "import platform\n",
    "import numpy as np\n",
    "import matplotlib.pyplot as plt\n",
    "import networkx as nx\n",
    "print(f'networkx version: {nx.__version__}')\n",
    "\n",
    "%matplotlib inline"
   ]
  },
  {
   "cell_type": "code",
   "execution_count": 4,
   "metadata": {},
   "outputs": [],
   "source": [
    "cwd = os.getcwd()\n",
    "assets_dir =  join(cwd, 'assets')\n",
    "sol_dir =  join(cwd, 'solutions')"
   ]
  },
  {
   "cell_type": "code",
   "execution_count": 5,
   "metadata": {},
   "outputs": [
    {
     "name": "stdout",
     "output_type": "stream",
     "text": [
      "OK, you are running on MacOS (Darwin Kernel Version 20.4.0: Thu Apr 22 21:46:47 PDT 2021; root:xnu-7195.101.2~1/RELEASE_X86_64)\n"
     ]
    }
   ],
   "source": [
    "if platform.system() == 'Darwin':\n",
    "    print(f'OK, you are running on MacOS ({platform.version()})')\n",
    "if platform.system() == 'Linux':\n",
    "    print(f'OK, you are running on Linux ({platform.version()})')\n",
    "if platform.system() == 'Windows':\n",
    "    print(f'OK, but consider to install WSL for Windows10 since you are running on {platform.system()}')\n",
    "    print('Check https://docs.microsoft.com/en-us/windows/wsl/install-win10')"
   ]
  },
  {
   "cell_type": "code",
   "execution_count": 6,
   "metadata": {},
   "outputs": [
    {
     "name": "stdout",
     "output_type": "stream",
     "text": [
      "./assets  exists already!\n"
     ]
    }
   ],
   "source": [
    "# Download zip-file if ./assets does not exist (as when running in Colab)\n",
    "\n",
    "if os.path.isdir(assets_dir) == False:\n",
    "    \n",
    "    ## Download assets.zip for Google Drive            \n",
    "    # https://drive.google.com/file/d/1tRcRTxNT8nwNFrmGYJqo1B8WgGJ2yEgq/view?usp=sharing\n",
    "    file_id = '1tRcRTxNT8nwNFrmGYJqo1B8WgGJ2yEgq'\n",
    "    url = 'https://drive.google.com/uc?id=%s' % file_id\n",
    "    output = 'assets.zip'\n",
    "    gdown.download(url, output, quiet=False)\n",
    "    \n",
    "    ## Unzip the assets file into `./assets`\n",
    "    shutil.unpack_archive(output, '.')\n",
    "    \n",
    "    ## Delete the `assets.zip` file\n",
    "    os.remove(output)\n",
    "else:\n",
    "    print(f'./assets  exists already!')"
   ]
  },
  {
   "cell_type": "code",
   "execution_count": 7,
   "metadata": {},
   "outputs": [
    {
     "name": "stdout",
     "output_type": "stream",
     "text": [
      "./solutions  exists already!\n"
     ]
    }
   ],
   "source": [
    "# Download zip-file if ./solutions does not exist (as when running in Colab)\n",
    "\n",
    "if os.path.isdir(sol_dir) == False:\n",
    "    \n",
    "    ## Download assets.zip for Google Drive            \n",
    "    # https://drive.google.com/file/d/16MuT-pshT473eADdqhFr_dmb-4QPGt4r/view?usp=sharing\n",
    "    file_id = '16MuT-pshT473eADdqhFr_dmb-4QPGt4r'\n",
    "    url = 'https://drive.google.com/uc?id=%s' % file_id\n",
    "    output = 'solutions.zip'\n",
    "    gdown.download(url, output, quiet=False)\n",
    "    \n",
    "    ## Unzip the assets file into `./solutions`\n",
    "    shutil.unpack_archive(output, '.')\n",
    "    \n",
    "    ## Delete the `solutions.zip` file\n",
    "    os.remove(output)\n",
    "else:\n",
    "    print(f'./solutions  exists already!')"
   ]
  },
  {
   "cell_type": "markdown",
   "metadata": {},
   "source": [
    "####  Exercise 1. construct the matrix (numpy array), $A$ representing the following graph, and print $A$ and $A^T$ (matrix transpose)\n",
    "\n",
    "<img\n",
    "src=\"assets/ex0_1.png\"\n",
    "width=200\n",
    "style=\"float: left\"\n",
    "/>\n",
    "\n",
    "Hint: we write the connection from row to column (e.g. the link from 1 to 3 should be at the 1st row and 3rd column). Note this convention is not always consistent. We have here a node cardinality, |V| = 5, where V = {A, B, C, D E} \n",
    "and node numbering and corresponding labels will be 0:'A', 1:'B', ..., 4:'E'  i.e. a dictionary you could call `labels`."
   ]
  },
  {
   "cell_type": "code",
   "execution_count": 8,
   "metadata": {},
   "outputs": [
    {
     "name": "stdout",
     "output_type": "stream",
     "text": [
      " A =\n",
      " [[0. 1. 0. 1. 0.]\n",
      " [0. 0. 0. 0. 0.]\n",
      " [1. 0. 0. 0. 0.]\n",
      " [0. 0. 1. 0. 1.]\n",
      " [0. 0. 0. 0. 0.]], \n",
      " A^T =\n",
      " [[0. 0. 1. 0. 0.]\n",
      " [1. 0. 0. 0. 0.]\n",
      " [0. 0. 0. 1. 0.]\n",
      " [1. 0. 0. 0. 0.]\n",
      " [0. 0. 0. 1. 0.]]\n",
      "labels: {0: 'A', 1: 'B', 2: 'C', 3: 'D', 4: 'E'}\n"
     ]
    }
   ],
   "source": [
    "# %load solutions/ex1_1.py\n",
    "labels = {0:'A', 1:'B', 2:'C', 3:'D', 4:'E'}\n",
    "\n",
    "A = np.array([\n",
    "       [0., 1., 0., 1., 0.],\n",
    "       [0., 0., 0., 0., 0.],\n",
    "       [1., 0., 0., 0., 0.],\n",
    "       [0., 0., 1., 0., 1.],\n",
    "       [0., 0., 0., 0., 0.]])\n",
    "\n",
    "print(f' A =\\n {A}, \\n A^T =\\n {A.T}')\n",
    "print(f'labels: {labels}')\n"
   ]
  },
  {
   "cell_type": "markdown",
   "metadata": {},
   "source": [
    "`NetworkX` is a python library specialized for working with graphs. They provide a class `networkx.Graph` which stores a network as a list of edges. We can convert freely between the different representations using `networkx`.\n",
    "Plotting a graph can also be according to differnet graph [`layout`](https://networkx.org/documentation/stable/reference/drawing.html#module-networkx.drawing.layout)."
   ]
  },
  {
   "cell_type": "code",
   "execution_count": 9,
   "metadata": {},
   "outputs": [
    {
     "name": "stdout",
     "output_type": "stream",
     "text": [
      "2.5.1\n"
     ]
    }
   ],
   "source": [
    "import networkx as nx\n",
    "print(nx.__version__)\n",
    "G = nx.from_numpy_array(A)\n",
    "pos = nx.spring_layout(G)  # positions for all nodes"
   ]
  },
  {
   "cell_type": "code",
   "execution_count": 10,
   "metadata": {},
   "outputs": [
    {
     "data": {
      "image/png": "[encoded data removed]",
      "text/plain": [
       "<Figure size 432x288 with 1 Axes>"
      ]
     },
     "metadata": {},
     "output_type": "display_data"
    }
   ],
   "source": [
    "nx.draw(G, pos)\n",
    "nx.draw_networkx_labels(G, pos, labels, font_size=14, font_color='w')\n",
    "plt.show()"
   ]
  },
  {
   "cell_type": "markdown",
   "metadata": {},
   "source": [
    "## Directedness and weightedness\n",
    "\n",
    "We have two questions of network properties to consider when making a model:\n",
    "- is the edges directed or undirected? \n",
    "- are the edges continuous or binary?\n",
    "\n",
    "For instance, the WWW is directed, but a social acquaintance does not follow a particular direction. We can use the `nx.DiGraph` class to force it to create a directed graph."
   ]
  },
  {
   "cell_type": "code",
   "execution_count": 11,
   "metadata": {},
   "outputs": [
    {
     "data": {
      "image/png": "[encoded data removed]",
      "text/plain": [
       "<Figure size 432x288 with 1 Axes>"
      ]
     },
     "metadata": {},
     "output_type": "display_data"
    }
   ],
   "source": [
    "G_dir = nx.from_numpy_array(A, create_using=nx.DiGraph)\n",
    "\n",
    "pos = nx.spring_layout(G_dir)  # positions for all nodes\n",
    "nx.draw(G_dir, pos)\n",
    "nx.draw_networkx_labels(G_dir, pos, labels, font_size=14, font_color='w')\n",
    "plt.show()"
   ]
  },
  {
   "cell_type": "markdown",
   "metadata": {},
   "source": [
    "And we can just as easily transform it back into a numpy array:"
   ]
  },
  {
   "cell_type": "code",
   "execution_count": 12,
   "metadata": {},
   "outputs": [
    {
     "data": {
      "text/plain": [
       "array([[ True,  True,  True,  True,  True],\n",
       "       [ True,  True,  True,  True,  True],\n",
       "       [ True,  True,  True,  True,  True],\n",
       "       [ True,  True,  True,  True,  True],\n",
       "       [ True,  True,  True,  True,  True]])"
      ]
     },
     "execution_count": 12,
     "metadata": {},
     "output_type": "execute_result"
    }
   ],
   "source": [
    "M = nx.to_numpy_array(G_dir)\n",
    "M == A #they are the same as expected"
   ]
  },
  {
   "cell_type": "markdown",
   "metadata": {},
   "source": [
    "## Graph metrics\n",
    "Graph metrics are numbers that quanitfy certain properties of a network (global metrics) or about specific nodes in the network (local metrics). Because it is hard to infer things about a network simply by looking at it, these numbers capture the essence of a network, and lets us test specific hypotheses about network structure."
   ]
  },
  {
   "cell_type": "markdown",
   "metadata": {},
   "source": [
    "<img src=\"assets/rubinov_sporns_2010_neuroimage.png\"\n",
    "     alt=\"graph metrics\"\n",
    "     width=1000\n",
    "     style=\"float: left; margin-right: 10px;\" />"
   ]
  },
  {
   "cell_type": "markdown",
   "metadata": {},
   "source": [
    "##### A bunch of other graph metrics exist that quantify importance of a node within a network.\n",
    "These are collectively termed \"centrality\", but all quantify slightly different things.\n",
    "\n",
    "- degree centrality\n",
    "- betweenness centrality\n",
    "- closeness centrality\n",
    "\n",
    "##### Other metrics quantify overall network structure\n",
    "- density\n",
    "- efficiency\n",
    "- small-worldness\n",
    "- modularity\n",
    "\n",
    "\n",
    "The various metrics are tempting to use, but it is crucial to interpret them according to the network you happen to study."
   ]
  },
  {
   "cell_type": "markdown",
   "metadata": {},
   "source": [
    "We will be using the **Brain Connectivity Toolbox** for Python `bctpy` (https://github.com/aestrivex/bctpy). If you don't have it already installed, uncomment and run the cell below. (See also https://adamj.eu/tech/2020/02/25/use-python-m-pip-everywhere)"
   ]
  },
  {
   "cell_type": "code",
   "execution_count": 13,
   "metadata": {},
   "outputs": [],
   "source": [
    "if bct:\n",
    "    import sys\n",
    "    print(sys.executable)\n",
    "    !{sys.executable} -m pip install git+https://github.com/aestrivex/bctpy.git\n",
    "    import bct"
   ]
  },
  {
   "cell_type": "code",
   "execution_count": 14,
   "metadata": {},
   "outputs": [],
   "source": [
    "from matplotlib import pyplot as plt"
   ]
  },
  {
   "cell_type": "markdown",
   "metadata": {},
   "source": [
    "### Visualizing bottlenecks (betweenness centrality)\n",
    "\n",
    "Biological relevance: H. Yu et al. _The Importance of Bottlenecks in Protein Networks: Correlation with Gene Essentiality and Expression Dynamics_. PLoS Comput Biol 2007;3(4):e59 [[online](https://journals.plos.org/ploscompbiol/article?id=10.1371/journal.pcbi.0030059)]<br>\n",
    "\" _... By definition, most of the shortest paths in a network go through the nodes with high betweenness. Therefore, these nodes become the central points controlling the communication among other nodes in the network. More recently, Girvan and Newman proposed that the edges with high betweenness are the ones that are “between” highly interconnected subgraph clusters (i.e., “community structures”); therefore, removing these edges could partition a network._\"\n",
    "\n",
    "<img alt=\"H. Yu et al. 2007 Fig 1\" src=\"https://journals.plos.org/ploscompbiol/article/figure/image?size=large&id=10.1371/journal.pcbi.0030059.g001\" width=\"400px\" heigh=\"auto\">\n",
    "\n",
    "Schematic Showing a Bottleneck and the Four Categories of Nodes in a Network.\n",
    "Four nodes with different colors represent examples of the four categories defined by degree and betweenness. Please note that every node in the network belongs to one of the four categories. However, in this schematic, we only point out the categories of the four example nodes.<br>\n",
    "\n",
    "\n",
    "Try to convince yourself of why the numbers below make sense"
   ]
  },
  {
   "cell_type": "code",
   "execution_count": 15,
   "metadata": {},
   "outputs": [],
   "source": [
    "A = np.array([\n",
    "       [0., 0., 1., 0., 0.],\n",
    "       [1., 0., 0., 0., 0.],\n",
    "       [0., 0., 0., 1., 0.],\n",
    "       [1., 0., 0., 0., 0.],\n",
    "       [0., 0., 0., 1., 0.]])\n",
    "\n",
    "A\n",
    "G = nx.from_numpy_array(A.T)"
   ]
  },
  {
   "cell_type": "code",
   "execution_count": 16,
   "metadata": {},
   "outputs": [
    {
     "data": {
      "text/plain": [
       "Text(0.5, 1.0, 'Bottleneck centrality')"
      ]
     },
     "execution_count": 16,
     "metadata": {},
     "output_type": "execute_result"
    },
    {
     "data": {
      "image/png": "[encoded data removed]",
      "text/plain": [
       "<Figure size 432x288 with 1 Axes>"
      ]
     },
     "metadata": {},
     "output_type": "display_data"
    }
   ],
   "source": [
    "btw = nx.betweenness_centrality(G)\n",
    "#pos = nx.drawing.layout.kamada_kawai_layout(G)\n",
    "pos = nx.layout.spring_layout(G, seed=1)\n",
    "nx.draw(G, pos=pos, labels=btw, node_color='beige', font_size=18, font_color='k')\n",
    "plt.title('Bottleneck centrality')"
   ]
  },
  {
   "cell_type": "code",
   "execution_count": 17,
   "metadata": {},
   "outputs": [
    {
     "data": {
      "text/plain": [
       "Text(0.5, 1.0, 'Degree centrality')"
      ]
     },
     "execution_count": 17,
     "metadata": {},
     "output_type": "execute_result"
    },
    {
     "data": {
      "image/png": "[encoded data removed]",
      "text/plain": [
       "<Figure size 432x288 with 1 Axes>"
      ]
     },
     "metadata": {},
     "output_type": "display_data"
    }
   ],
   "source": [
    "deg = nx.centrality.degree_centrality(G)\n",
    "nx.draw(G, pos=pos, labels=deg, node_color='beige', font_size=18, font_color='k')\n",
    "plt.title('Degree centrality')"
   ]
  },
  {
   "cell_type": "markdown",
   "metadata": {},
   "source": [
    "Notice how the bottom node has a high degree centrality, but low bottleneck centrality. "
   ]
  },
  {
   "cell_type": "code",
   "execution_count": 18,
   "metadata": {},
   "outputs": [
    {
     "data": {
      "text/plain": [
       "Text(0.5, 1.0, 'Clustering Coefficient')"
      ]
     },
     "execution_count": 18,
     "metadata": {},
     "output_type": "execute_result"
    },
    {
     "data": {
      "image/png": "[encoded data removed]",
      "text/plain": [
       "<Figure size 432x288 with 1 Axes>"
      ]
     },
     "metadata": {},
     "output_type": "display_data"
    }
   ],
   "source": [
    "cc = nx.clustering(G)\n",
    "cc2 = {key : round(cc[key], 2) for key in cc}  # dictionary comprehension for rounding values to 2 decimals\n",
    "\n",
    "nx.draw(G, pos=pos, labels=cc2, node_color='beige', font_size=18, font_color='k')\n",
    "plt.title('Clustering Coefficient')"
   ]
  },
  {
   "cell_type": "markdown",
   "metadata": {},
   "source": [
    "# A more advanced example of network theory in action\n",
    "Consider the world wide web (WWW), one of the more familiar networks of everyday life. When performing a search with your search engine of choice, it has to sort the results based on some kind of importance metric. The old method of doing this was to base it upon page *content*, and rate it accordingly. This method yielded very poor results. An ingenious milestone was, paradoxically, to dismiss the site content, and *only* look at its **topological** position in the network.\n",
    "\n",
    "### PageRank\n",
    "We use the seemingly circular argument: a page (node) is important if other important pages point (link) to it. We start with an initial distribution of \"importance\" between the nodes, then at each iteration the node redistributes its own importance determined by their outward links (imagine a surfer who at each time step has a certain probability of moving to a new page). This process is allowed to repeat, and will at some point reach steady state. The below image has already reached steady state.\n",
    "\n",
    "\n",
    "<img src=\"assets/PageRanks-Example_345Kai_no(c).jpg\"\n",
    "     alt=\"graph metrics\"\n",
    "     width=500\n",
    "     style=\"float: left; margin-right: 10px;\" />\n",
    "(image credit to 345Kai wikipedia)"
   ]
  },
  {
   "cell_type": "markdown",
   "metadata": {},
   "source": [
    "We will go on to reproduce the above figure."
   ]
  },
  {
   "cell_type": "code",
   "execution_count": 19,
   "metadata": {},
   "outputs": [],
   "source": [
    "np.set_printoptions(2)"
   ]
  },
  {
   "cell_type": "code",
   "execution_count": 20,
   "metadata": {},
   "outputs": [],
   "source": [
    "# define the edges. A is set to link to all other pages\n",
    "#(a mathematical necessity because it has no outward links)\n",
    "\n",
    "M = np.array([\n",
    "       [1., 0., 0., 1., 0., 0., 0., 0., 0., 0., 0.],\n",
    "       [1., 0., 1., 1., 1., 1., 1., 1., 1., 0., 0.],\n",
    "       [1., 1., 0., 0., 0., 0., 0., 0., 0., 0., 0.],\n",
    "       [1., 0., 0., 0., 1., 0., 0., 0., 0., 0., 0.],\n",
    "       [1., 0., 0., 0., 0., 1., 1., 1., 1., 1., 1.],\n",
    "       [1., 0., 0., 0., 1., 0., 0., 0., 0., 0., 0.],\n",
    "       [1., 0., 0., 0., 0., 0., 0., 0., 0., 0., 0.],\n",
    "       [1., 0., 0., 0., 0., 0., 0., 0., 0., 0., 0.],\n",
    "       [1., 0., 0., 0., 0., 0., 0., 0., 0., 0., 0.],\n",
    "       [1., 0., 0., 0., 0., 0., 0., 0., 0., 0., 0.],\n",
    "       [1., 0., 0., 0., 0., 0., 0., 0., 0., 0., 0.]])"
   ]
  },
  {
   "cell_type": "markdown",
   "metadata": {},
   "source": [
    "#### Exercise 2. normalize the edges such that the sum of the columns equal to 1.\n",
    "\n",
    "Hint: first compute the column sums (yielding a vector) **(a)**, then divide each column by that vector (broadcasting) **(b)**. Verify that the columns sum to one **(c)**."
   ]
  },
  {
   "cell_type": "markdown",
   "metadata": {},
   "source": [
    "#### a)"
   ]
  },
  {
   "cell_type": "code",
   "execution_count": 21,
   "metadata": {},
   "outputs": [
    {
     "data": {
      "text/plain": [
       "array([11.,  1.,  1.,  2.,  3.,  2.,  2.,  2.,  2.,  1.,  1.])"
      ]
     },
     "execution_count": 21,
     "metadata": {},
     "output_type": "execute_result"
    }
   ],
   "source": [
    "# %load solutions/ex1_2a.py\n",
    "col_sums = np.sum(M, axis=0)\n",
    "col_sums"
   ]
  },
  {
   "cell_type": "markdown",
   "metadata": {},
   "source": [
    "#### b)"
   ]
  },
  {
   "cell_type": "code",
   "execution_count": 22,
   "metadata": {},
   "outputs": [
    {
     "data": {
      "text/plain": [
       "array([[0.09, 0.  , 0.  , 0.5 , 0.  , 0.  , 0.  , 0.  , 0.  , 0.  , 0.  ],\n",
       "       [0.09, 0.  , 1.  , 0.5 , 0.33, 0.5 , 0.5 , 0.5 , 0.5 , 0.  , 0.  ],\n",
       "       [0.09, 1.  , 0.  , 0.  , 0.  , 0.  , 0.  , 0.  , 0.  , 0.  , 0.  ],\n",
       "       [0.09, 0.  , 0.  , 0.  , 0.33, 0.  , 0.  , 0.  , 0.  , 0.  , 0.  ],\n",
       "       [0.09, 0.  , 0.  , 0.  , 0.  , 0.5 , 0.5 , 0.5 , 0.5 , 1.  , 1.  ],\n",
       "       [0.09, 0.  , 0.  , 0.  , 0.33, 0.  , 0.  , 0.  , 0.  , 0.  , 0.  ],\n",
       "       [0.09, 0.  , 0.  , 0.  , 0.  , 0.  , 0.  , 0.  , 0.  , 0.  , 0.  ],\n",
       "       [0.09, 0.  , 0.  , 0.  , 0.  , 0.  , 0.  , 0.  , 0.  , 0.  , 0.  ],\n",
       "       [0.09, 0.  , 0.  , 0.  , 0.  , 0.  , 0.  , 0.  , 0.  , 0.  , 0.  ],\n",
       "       [0.09, 0.  , 0.  , 0.  , 0.  , 0.  , 0.  , 0.  , 0.  , 0.  , 0.  ],\n",
       "       [0.09, 0.  , 0.  , 0.  , 0.  , 0.  , 0.  , 0.  , 0.  , 0.  , 0.  ]])"
      ]
     },
     "execution_count": 22,
     "metadata": {},
     "output_type": "execute_result"
    }
   ],
   "source": [
    "# %load solutions/ex1_2b.py\n",
    "M = M / col_sums[np.newaxis, :] #newaxis ensures the broadcasting is correct\n",
    "M"
   ]
  },
  {
   "cell_type": "markdown",
   "metadata": {},
   "source": [
    "#### c)"
   ]
  },
  {
   "cell_type": "code",
   "execution_count": 23,
   "metadata": {},
   "outputs": [
    {
     "data": {
      "text/plain": [
       "array([ True,  True,  True,  True,  True,  True,  True,  True,  True,\n",
       "        True,  True])"
      ]
     },
     "execution_count": 23,
     "metadata": {},
     "output_type": "execute_result"
    }
   ],
   "source": [
    "# %load solutions/ex1_2c.py\n",
    "np.sum(M, axis=0)\n",
    "#or\n",
    "np.isclose(np.sum(M, axis=0), 1.)"
   ]
  },
  {
   "cell_type": "markdown",
   "metadata": {},
   "source": [
    "### The pagerank algorithm"
   ]
  },
  {
   "cell_type": "code",
   "execution_count": 24,
   "metadata": {},
   "outputs": [],
   "source": [
    "# from https://en.wikipedia.org/wiki/PageRank#Simplified_algorithm\n",
    "import numpy as np\n",
    "\n",
    "def pagerank(M, num_iterations: int = 100, d: float = 0.85):\n",
    "    \"\"\"PageRank: The trillion dollar algorithm.\n",
    "\n",
    "    Parameters\n",
    "    ----------\n",
    "    M : numpy array\n",
    "        adjacency matrix where M_i,j represents the link from 'j' to 'i', such that for all 'j'\n",
    "        sum(i, M_i,j) = 1\n",
    "    num_iterations : int, optional\n",
    "        number of iterations, by default 100\n",
    "    d : float, optional\n",
    "        damping factor, by default 0.85\n",
    "\n",
    "    Returns\n",
    "    -------\n",
    "    numpy array\n",
    "        a vector of ranks such that v_i is the i-th rank from [0, 1],\n",
    "        v sums to 1\n",
    "\n",
    "    \"\"\"\n",
    "    N = M.shape[1]\n",
    "    v = np.random.rand(N, 1)\n",
    "    v = v / np.linalg.norm(v, 1)\n",
    "    M_hat = (d * M + (1 - d) / N)\n",
    "    for i in range(num_iterations):\n",
    "        v = M_hat @ v\n",
    "    return v"
   ]
  },
  {
   "cell_type": "markdown",
   "metadata": {},
   "source": [
    "#### Exercise 3: \n",
    "Compute the pagerank (call it `pr`) and confirm it matches with the figure shown above (within a reasonable margin of error)."
   ]
  },
  {
   "cell_type": "code",
   "execution_count": 25,
   "metadata": {},
   "outputs": [
    {
     "name": "stdout",
     "output_type": "stream",
     "text": [
      "[[ 3.28]\n",
      " [38.44]\n",
      " [34.29]\n",
      " [ 3.91]\n",
      " [ 8.09]\n",
      " [ 3.91]\n",
      " [ 1.62]\n",
      " [ 1.62]\n",
      " [ 1.62]\n",
      " [ 1.62]\n",
      " [ 1.62]]\n"
     ]
    },
    {
     "data": {
      "text/plain": [
       "1.000000000000002"
      ]
     },
     "execution_count": 25,
     "metadata": {},
     "output_type": "execute_result"
    }
   ],
   "source": [
    "# %load solutions/ex1_3.py\n",
    "pr = pagerank(M)\n",
    "print(pr*100)\n",
    "np.sum(pr)"
   ]
  },
  {
   "cell_type": "markdown",
   "metadata": {},
   "source": [
    "## Visualize that the results check out"
   ]
  },
  {
   "cell_type": "code",
   "execution_count": 26,
   "metadata": {},
   "outputs": [
    {
     "data": {
      "image/png": "[encoded data removed]",
      "text/plain": [
       "<Figure size 432x288 with 1 Axes>"
      ]
     },
     "metadata": {},
     "output_type": "display_data"
    }
   ],
   "source": [
    "names = ['A', 'B', 'C', 'D', 'E', 'F', 'G', 'H', 'I', 'J', 'K']\n",
    "colors = ['lightblue', 'yellow', 'orange', 'purple', 'pink', 'purple', 'cyan','cyan','cyan','cyan','cyan']\n",
    "\n",
    "G = nx.from_numpy_array(M.T, create_using=nx.DiGraph)\n",
    "nx.relabel_nodes(G, lambda k: dict(zip(range(11), names))[k], copy=False)\n",
    "\n",
    "# remove edges\n",
    "rem = [edge for edge in G.edges if edge[0]=='A']\n",
    "G.remove_edges_from(rem)\n",
    "pos = nx.layout.circular_layout(G)\n",
    "\n",
    "pr = dict(zip(names, pr.flatten()))\n",
    "\n",
    "for k,v in pr.items():\n",
    "    pr[k] = round(v*100, 1)\n",
    "    \n",
    "node_size = np.array(list(pr.values()))*150\n",
    "\n",
    "nx.draw(G, pos=pos, node_color=colors, with_labels=True, node_size=node_size)\n",
    "for k,v in pos.items(): v[1]-=0.1\n",
    "nx.draw_networkx_labels(G, labels=pr, pos=pos)\n",
    "plt.show()"
   ]
  },
  {
   "cell_type": "markdown",
   "metadata": {},
   "source": [
    "<img src=\"assets/PageRanks-Example_345Kai_no(c).jpg\"\n",
    "     alt=\"graph metrics\"\n",
    "     width=500\n",
    "     style=\"float: left; margin-right: 10px;\" />"
   ]
  },
  {
   "cell_type": "markdown",
   "metadata": {},
   "source": [
    "This example was simply for illustration, we could just as easily have used networkX's own implementation of pagerank."
   ]
  },
  {
   "cell_type": "code",
   "execution_count": 27,
   "metadata": {},
   "outputs": [],
   "source": [
    "#this will export the solutions to the exercises\n",
    "#!python ../nb2sln.py 01-Concepts-in-network-theory.ipynb"
   ]
  },
  {
   "cell_type": "code",
   "execution_count": 28,
   "metadata": {},
   "outputs": [],
   "source": [
    "## TODO\n",
    "## go through random graph, degree distribution\n",
    "## go through small-worlds \n",
    "## show img of regular -> sw -> random\n",
    "\n",
    "## See github course for inspo https://github.com/CambridgeUniversityPress/FirstCourseNetworkScience\n",
    "## See https://github.com/je-suis-tm/graph-theory"
   ]
  },
  {
   "cell_type": "markdown",
   "metadata": {},
   "source": [
    "## EXTRA: Interactive visualization of different [`random graphs`](https://networkx.org/documentation/networkx-2.5/reference/generators.html#module-networkx.generators.random_graphs) (using [`ipywidgets`](https://github.com/jupyter-widgets/ipywidgets))\n",
    "(Adopted from https://github.com/jupyter-widgets/ipywidgets/blob/master/docs/source/examples/Exploring%20Graphs.ipynb)"
   ]
  },
  {
   "cell_type": "code",
   "execution_count": 29,
   "metadata": {},
   "outputs": [],
   "source": [
    "from ipywidgets import interact"
   ]
  },
  {
   "cell_type": "code",
   "execution_count": 30,
   "metadata": {},
   "outputs": [],
   "source": [
    "# Wrap a few graph generation functions so they have the same signature\n",
    "\n",
    "def random_lobster(n, m, k, p):  # Return a random lobster\n",
    "    # A lobster is a tree that reduces to a caterpillar when pruning all leaf nodes.\n",
    "    # A caterpillar is a tree that reduces to a path graph when pruning all leaf nodes (p/m=0).\n",
    "    # n: The expected number of nodes in the backbone\n",
    "    # p: Probability of adding an edge to the backbone\n",
    "    # p/m: Probability of adding an edge one level beyond backbone\n",
    "    return nx.random_lobster(n, p, p / m)  # n-\n",
    "\n",
    "def powerlaw_cluster(n, m, k, p): # Retun graph with powerlaw degree distribution and approximate average clustering\n",
    "    # n: The number of nodes\n",
    "    # m: The number of random edges to add for each new node\n",
    "    # p: Probability of adding a triangle after adding a random edge\n",
    "    return nx.powerlaw_cluster_graph(n, m, p)\n",
    "\n",
    "def erdos_renyi(n, m, k, p):  # Return a random graph G_{n,p} (Erdős-Rényi graph, binomial graph)\n",
    "    # n: The number of nodes\n",
    "    # p: Probability for edge creation\n",
    "    return nx.erdos_renyi_graph(n, p)\n",
    "\n",
    "def newman_watts_strogatz(n, m, k, p):  # Return a Newman-Watts-Strogatz small world graph\n",
    "    # n: The number of nodes\n",
    "    # k: Each node is connected to k nearest neighbors in ring topology\n",
    "    # p: The probability of adding a new edge for each edge\n",
    "    return nx.newman_watts_strogatz_graph(n, k, p)\n",
    "\n",
    "def dense_gnm_random_graph(n, m, k, p):  # Return the random graph G_{n,m}.\n",
    "    # Gives a graph picked randomly out of the set of all graphs with n nodes and m edges\n",
    "    # n: The number of nodes\n",
    "    # m: The number of edges\n",
    "    return nx.dense_gnm_random_graph(n, m)\n",
    "\n",
    "def random_regular_graph(n, m, k, p):  # Return a random regular graph of n nodes each with degree d\n",
    "    # The resulting graph G has no self-loops or parallel edges\n",
    "    # n: Degree\n",
    "    # m: Number of nodes. The value of m*n must be even. The 0 <= n < m inequality must be satisfied\n",
    "    return nx.random_regular_graph(n, m)\n",
    "\n",
    "def plot_random_graph(n, m, k, p, generator):\n",
    "    g = generator(n, m, k, p)\n",
    "    nx.draw(g)\n",
    "    plt.show()"
   ]
  },
  {
   "cell_type": "code",
   "execution_count": 31,
   "metadata": {},
   "outputs": [
    {
     "data": {
      "application/vnd.jupyter.widget-view+json": {
       "model_id": "e0c3a6d254ce47a7bf44e64e148ee0fd",
       "version_major": 2,
       "version_minor": 0
      },
      "text/plain": [
       "interactive(children=(IntSlider(value=16, description='n', max=30, min=2), IntSlider(value=5, description='m',…"
      ]
     },
     "metadata": {},
     "output_type": "display_data"
    }
   ],
   "source": [
    "interact(plot_random_graph, n=(2,30), m=(1,10), k=(1,10), p=(0.0, 0.99, 0.001),\n",
    "         generator=[\n",
    "             ('lobster', random_lobster),\n",
    "             ('power law', powerlaw_cluster),\n",
    "             ('Newman-Watts-Strogatz', newman_watts_strogatz),\n",
    "             (u'Erdős-Rényi', erdos_renyi),\n",
    "             ('dense random G_{n,m}', dense_gnm_random_graph),\n",
    "             ('regular n*m|2, n<m', random_regular_graph)\n",
    "         ]);"
   ]
  },
  {
   "cell_type": "code",
   "execution_count": null,
   "metadata": {},
   "outputs": [],
   "source": []
  }
 ],
 "metadata": {
  "kernelspec": {
   "display_name": "BMED360",
   "language": "python",
   "name": "bmed360"
  },
  "language_info": {
   "codemirror_mode": {
    "name": "ipython",
    "version": 3
   },
   "file_extension": ".py",
   "mimetype": "text/x-python",
   "name": "python",
   "nbconvert_exporter": "python",
   "pygments_lexer": "ipython3",
   "version": "3.8.0"
  }
 },
 "nbformat": 4,
 "nbformat_minor": 2
}
