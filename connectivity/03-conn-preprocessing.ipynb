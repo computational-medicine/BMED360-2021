{
 "cells": [
  {
   "cell_type": "markdown",
   "metadata": {},
   "source": [
    "# Preprocessing\n",
    "*Written by Luke Chang*  (modified by Arvid Lundervold for the BMED360 course)\n",
    "\n",
    "Being able to study brain activity associated with cognitive processes in humans is an amazing achievement. However, as we have noted throughout this course, there is an extraordinary amount of noise and a very low levels of signal, which makes it difficult to make inferences about the function of the brain using this BOLD imaging. A critical step before we can perform any analyses is to do our best to remove as much of the noise as possible. The series of steps to remove noise comprise our *neuroimaging data **preprocessing** pipeline*.\n",
    "\n",
    "![preprocessing](./assets/preprocessing.png)\n",
    "\n",
    "In this lab, we will go over the basics of preprocessing fMRI data using the [fmriprep](https://fmriprep.readthedocs.io/en/stable/) preprocessing pipeline. We will cover:\n",
    "\n",
    " - Image transformations\n",
    " - Head motion correction\n",
    " - Spatial Normalization\n",
    " - Spatial Smoothing\n",
    " \n",
    "There are other preprocessing steps that are also common, but not necessarily performed by all labs such as slice timing and distortion correction. We will not be discussing these in depth outside of the videos.\n",
    "\n",
    "Let's start with watching a short video by Martin Lindquist to get a general overview of the main steps of preprocessing and the basics of how to transform images and register them to other images."
   ]
  },
  {
   "cell_type": "code",
   "execution_count": 1,
   "metadata": {
    "ExecuteTime": {
     "end_time": "2020-04-18T21:34:22.934875Z",
     "start_time": "2020-04-18T21:34:22.797618Z"
    },
    "scrolled": true
   },
   "outputs": [
    {
     "data": {
      "image/jpeg": "[encoded data removed]",
      "text/html": [
       "\n",
       "        <iframe\n",
       "            width=\"400\"\n",
       "            height=\"300\"\n",
       "            src=\"https://www.youtube.com/embed/Qc3rRaJWOc4\"\n",
       "            frameborder=\"0\"\n",
       "            allowfullscreen\n",
       "        ></iframe>\n",
       "        "
      ],
      "text/plain": [
       "<IPython.lib.display.YouTubeVideo at 0x7f6231374050>"
      ]
     },
     "execution_count": 1,
     "metadata": {},
     "output_type": "execute_result"
    }
   ],
   "source": [
    "from IPython.display import YouTubeVideo\n",
    "\n",
    "YouTubeVideo('Qc3rRaJWOc4')"
   ]
  },
  {
   "cell_type": "markdown",
   "metadata": {},
   "source": [
    "# Image Transformations \n",
    "\n",
    "Ok, now let's dive deeper into how we can transform images into different spaces using linear transformations.\n",
    "\n",
    "Recall from our introduction to neuroimaging data lab, that neuroimaging data is typically stored in a nifti container, which contains a 3D or 4D matrix of the voxel intensities and also an affine matrix, which provides instructions for how to transform the matrix into another space.\n",
    "\n",
    "Let's create an interactive plot using ipywidgets so that we can get an intuition for how these affine matrices can be used to transform a 3D image.\n",
    "\n",
    "We can move the sliders to play with applying rigid body  transforms to a 3D cube. A rigid body transformation has 6 parameters: translation in x,y, & z, and rotation around each of these axes. The key thing to remember is that a rigid body transform doesn't allow the image to be fundamentally changed. A full 12 parameter affine transformation adds an additional 3 parameters each for scaling and shearing, which can change the shape of the cube.\n",
    "\n",
    "Try moving some of the sliders around. Note that the viewer is a little slow. Each time you move a slider it is applying an affine transformation to the matrix and re-plotting. \n",
    "\n",
    "Translation moves the cube in x, y, and z dimensions.\n",
    "\n",
    "We can also rotate the cube around the x, y, and z axes where the origin is the center point. Continuing to rotate around the point will definitely lead to the cube leaving the current field of view, but it will come back if you keep rotating it.\n",
    "\n",
    "You'll notice that every time we change the slider and apply a new affine transformation that the cube gets a little distorted with aliasing. Often we need to interpolate the image after applying a transformation to fill in the gaps after applying a transformation. It is important to keep in mind that every time we apply an affine transformation to our images, it is actually not a perfect representation of the original data. Additional steps like reslicing, interpolation, and spatial smoothing can help with this."
   ]
  },
  {
   "cell_type": "code",
   "execution_count": 2,
   "metadata": {
    "ExecuteTime": {
     "end_time": "2020-04-17T04:02:27.817988Z",
     "start_time": "2020-04-17T04:02:26.420706Z"
    },
    "scrolled": false
   },
   "outputs": [
    {
     "data": {
      "application/vnd.jupyter.widget-view+json": {
       "model_id": "a676e1a93dff4eb98c265158d44ae8af",
       "version_major": 2,
       "version_minor": 0
      },
      "text/plain": [
       "interactive(children=(FloatSlider(value=0.0, description='trans_x', max=10.0, min=-10.0, step=1.0), FloatSlide…"
      ]
     },
     "metadata": {},
     "output_type": "display_data"
    },
    {
     "data": {
      "text/plain": [
       "<function __main__.plot_rigid_body_transformation(trans_x=0, trans_y=0, trans_z=0, rot_x=0, rot_y=0, rot_z=0)>"
      ]
     },
     "execution_count": 2,
     "metadata": {},
     "output_type": "execute_result"
    }
   ],
   "source": [
    "%matplotlib inline\n",
    "\n",
    "from mpl_toolkits import mplot3d\n",
    "import numpy as np\n",
    "import matplotlib.pyplot as plt\n",
    "from nibabel.affines import apply_affine, from_matvec, to_matvec\n",
    "from scipy.ndimage import affine_transform, map_coordinates\n",
    "import nibabel as nib\n",
    "from ipywidgets import interact, FloatSlider\n",
    "\n",
    "def plot_rigid_body_transformation(trans_x=0, trans_y=0, trans_z=0, rot_x=0, rot_y=0, rot_z=0):\n",
    "    '''This plot creates an interactive demo to illustrate the parameters of a rigid body transformation'''\n",
    "    fov = 30\n",
    "    radius = 10\n",
    "    x, y, z = np.indices((fov, fov, fov))\n",
    "    cube = ((x > fov//2 - radius//2) & (x < fov//2 + radius//2)) & ((y > fov//2 - radius//2) & (y < fov//2 + radius//2)) & ((z > fov//2 - radius//2) & (z < fov//2 + radius//2 ))\n",
    "    cube = cube.astype(int)\n",
    "\n",
    "    vec = np.array([trans_x, trans_y, trans_z])\n",
    "    \n",
    "    rot_x = np.radians(rot_x)\n",
    "    rot_y = np.radians(rot_y)\n",
    "    rot_z = np.radians(rot_z)\n",
    "    rot_axis1 = np.array([[1, 0, 0],\n",
    "                         [0, np.cos(rot_x), -np.sin(rot_x)],\n",
    "                         [0, np.sin(rot_x), np.cos(rot_x)]])\n",
    "\n",
    "    rot_axis2 = np.array([[np.cos(rot_y), 0, np.sin(rot_y)],\n",
    "                         [0, 1, 0],\n",
    "                         [-np.sin(rot_y), 0, np.cos(rot_y)]])\n",
    "\n",
    "    rot_axis3 = np.array([[np.cos(rot_z), -np.sin(rot_z), 0],\n",
    "                         [np.sin(rot_z), np.cos(rot_z), 0],\n",
    "                         [0, 0, 1]])\n",
    "\n",
    "    rotation = rot_axis1 @ rot_axis2 @ rot_axis3\n",
    "    \n",
    "    affine = from_matvec(rotation, vec)\n",
    "    \n",
    "    i_coords, j_coords, k_coords = np.meshgrid(range(cube.shape[0]), range(cube.shape[1]), range(cube.shape[2]), indexing='ij')\n",
    "    coordinate_grid = np.array([i_coords, j_coords, k_coords])\n",
    "    coords_last = coordinate_grid.transpose(1, 2, 3, 0)\n",
    "    transformed = apply_affine(affine, coords_last)\n",
    "    coords_first = transformed.transpose(3, 0, 1, 2)\n",
    "\n",
    "    fig = plt.figure(figsize=(15, 12))\n",
    "    ax = plt.axes(projection='3d')\n",
    "    ax.voxels(map_coordinates(cube, coords_first))\n",
    "    ax.set_xlabel('x', fontsize=16)\n",
    "    ax.set_ylabel('y', fontsize=16)\n",
    "    ax.set_zlabel('z', fontsize=16)\n",
    "\n",
    "interact(plot_rigid_body_transformation, \n",
    "         trans_x=FloatSlider(value=0, min=-10, max=10, step=1),\n",
    "         trans_y=FloatSlider(value=0, min=-10, max=10, step=1),\n",
    "         trans_z=FloatSlider(value=0, min=-10, max=10, step=1),\n",
    "         rot_x=FloatSlider(value=0, min=0, max=360, step=15),\n",
    "         rot_y=FloatSlider(value=0, min=0, max=360, step=15),\n",
    "         rot_z=FloatSlider(value=0, min=0, max=360, step=15))"
   ]
  },
  {
   "cell_type": "markdown",
   "metadata": {
    "ExecuteTime": {
     "end_time": "2020-04-18T21:35:14.805478Z",
     "start_time": "2020-04-18T21:35:14.603928Z"
    }
   },
   "source": [
    "![rigidbody](./assets/Rigid_Body.gif)"
   ]
  },
  {
   "cell_type": "markdown",
   "metadata": {},
   "source": [
    "Ok, so what's going on behind the sliders?\n",
    "\n",
    "Let's borrow some of the material available in the nibabel [documentation](https://nipy.org/nibabel/coordinate_systems.html) to understand how these transformations work.\n",
    "\n",
    "The affine matrix is a way to transform images between spaces. In general, we have some voxel space coordinate $(i, j, k)$, and we want to figure out how to remap this into a reference space coordinate $(x, y, z)$.\n",
    "\n",
    "It can be useful to think of this as a coordinate transform function $f$ that accepts a voxel coordinate in the original space as an *input* and returns a coordinate in the *output* reference space:\n",
    "\n",
    "$$(x, y, z) = f(i, j, k)$$\n",
    "\n",
    "In theory $f$ could be a complicated non-linear function, but in practice we typically assume that the relationship between $(i, j, k)$ and $(x, y, z)$ is linear (or *affine*), and can be encoded with linear affine transformations comprising translations, rotations, and zooms.\n",
    "\n",
    "Scaling (zooming) in three dimensions can be represented by a diagonal 3 by 3\n",
    "matrix.  Here's how to zoom the first dimension by $p$, the second by $q$ and\n",
    "the third by $r$ units:\n",
    "\n",
    "$$\n",
    "\\begin{bmatrix}\n",
    "x\\\\\n",
    "y\\\\\n",
    "z\n",
    "\\end{bmatrix} \n",
    "\\quad\n",
    "=\n",
    "\\quad\n",
    "\\begin{bmatrix}\n",
    "p & i\\\\\n",
    "q & j\\\\\n",
    "r & k\n",
    "\\end{bmatrix}\n",
    "\\quad\n",
    "=\n",
    "\\quad\n",
    "\\begin{bmatrix}\n",
    "p & 0 & 0 \\\\\n",
    "0 & q & 0 \\\\\n",
    "0 & 0 & r\n",
    "\\end{bmatrix}\n",
    "\\quad\n",
    "\\begin{bmatrix}\n",
    "i\\\\\n",
    "j\\\\\n",
    "k\n",
    "\\end{bmatrix}\n",
    "$$\n",
    "\n",
    "A rotation in three dimensions can be represented as a 3 by 3 *rotation matrix* [wikipedia rotation matrix](https://en.wikipedia.org/wiki/Rotation_matrix). For example, here is a rotation by $\\theta$ radians around the third array axis:\n",
    "\n",
    "$$\n",
    "\\begin{bmatrix}\n",
    "x \\\\\n",
    "y \\\\\n",
    "z\n",
    "\\end{bmatrix}\n",
    "\\quad\n",
    "=\n",
    "\\quad\n",
    "\\begin{bmatrix}\n",
    "\\cos(\\theta) &  -\\sin(\\theta) & 0 \\\\\n",
    "\\sin(\\theta) & \\cos(\\theta) & 0 \\\\\n",
    "0 & 0 & 1 \\\\\n",
    "\\end{bmatrix}\n",
    "\\quad\n",
    "\\begin{bmatrix}\n",
    "i \\\\\n",
    "j \\\\\n",
    "k\n",
    "\\end{bmatrix}\n",
    "$$\n",
    "\n",
    "This is a rotation by $\\phi$ radians around the second array axis:\n",
    "\n",
    "$$\n",
    "\\begin{bmatrix}\n",
    "x \\\\\n",
    "y \\\\\n",
    "z \\\\\n",
    "\\end{bmatrix}\n",
    "\\quad\n",
    "=\n",
    "\\quad\n",
    "\\begin{bmatrix}\n",
    "\\cos(\\phi) & 0 & \\sin(\\phi) \\\\\n",
    "0 & 1 & 0 \\\\\n",
    "-\\sin(\\phi) & 0 & \\cos(\\phi) \\\\\n",
    "\\end{bmatrix}\n",
    "\\quad\n",
    "\\begin{bmatrix}\n",
    "i \\\\\n",
    "j \\\\\n",
    "k \n",
    "\\end{bmatrix}\n",
    "$$\n",
    "\n",
    "A rotation of $\\gamma$ radians around the first array axis:\n",
    "\n",
    "$$\n",
    "\\begin{bmatrix}\n",
    "x\\\\\n",
    "y\\\\\n",
    "z\n",
    "\\end{bmatrix}\n",
    "\\quad\n",
    "=\n",
    "\\quad\n",
    "\\begin{bmatrix}\n",
    "1 & 0 & 0 \\\\\n",
    "0 & \\cos(\\gamma) & -\\sin(\\gamma) \\\\\n",
    "0 & \\sin(\\gamma) & \\cos(\\gamma) \\\\\n",
    "\\end{bmatrix}\n",
    "\\quad\n",
    "\\begin{bmatrix}\n",
    "i \\\\\n",
    "j \\\\\n",
    "k\n",
    "\\end{bmatrix}\n",
    "$$\n",
    "\n",
    "Zoom and rotation matrices can be combined by matrix multiplication.\n",
    "\n",
    "Here's a scaling of $p, q, r$ units followed by a rotation of $\\theta$ radians\n",
    "around the third axis followed by a rotation of $\\phi$ radians around the\n",
    "second axis:\n",
    "\n",
    "$$\n",
    "\\begin{bmatrix}\n",
    "x \\\\\n",
    "y \\\\\n",
    "z\n",
    "\\end{bmatrix}\n",
    "\\quad\n",
    "=\n",
    "\\quad\n",
    "\\begin{bmatrix}\n",
    "\\cos(\\phi) & 0 & \\sin(\\phi) \\\\\n",
    "0 & 1 & 0 \\\\\n",
    "-\\sin(\\phi) & 0 & \\cos(\\phi) \\\\\n",
    "\\end{bmatrix}\n",
    "\\quad\n",
    "\\begin{bmatrix}\n",
    "\\cos(\\theta) &  -\\sin(\\theta) & 0 \\\\\n",
    "\\sin(\\theta) & \\cos(\\theta) & 0 \\\\\n",
    "0 & 0 & 1 \\\\\n",
    "\\end{bmatrix}\n",
    "\\quad\n",
    "\\begin{bmatrix}\n",
    "p & 0 & 0 \\\\\n",
    "0 & q & 0 \\\\\n",
    "0 & 0 & r \\\\\n",
    "\\end{bmatrix}\n",
    "\\quad\n",
    "\\begin{bmatrix}\n",
    "i\\\\\n",
    "j\\\\\n",
    "k\\\\\n",
    "\\end{bmatrix}\n",
    "$$\n",
    "\n",
    "This can also be written:\n",
    "\n",
    "\n",
    "$$\n",
    "M\n",
    "\\quad\n",
    "=\n",
    "\\quad\n",
    "\\begin{bmatrix}\n",
    "\\cos(\\phi) & 0 & \\sin(\\phi) \\\\\n",
    "0 & 1 & 0 \\\\\n",
    "-\\sin(\\phi) & 0 & \\cos(\\phi) \\\\\n",
    "\\end{bmatrix}\n",
    "\\quad\n",
    "\\begin{bmatrix}\n",
    "\\cos(\\theta) &  -\\sin(\\theta) & 0 \\\\\n",
    "\\sin(\\theta) & \\cos(\\theta) & 0 \\\\\n",
    "0 & 0 & 1 \\\\\n",
    "\\end{bmatrix}\n",
    "\\quad\n",
    "\\begin{bmatrix}\n",
    "p & 0 & 0 \\\\\n",
    "0 & q & 0 \\\\\n",
    "0 & 0 & r \\\\\n",
    "\\end{bmatrix}\n",
    "$$\n",
    "\n",
    "$$\n",
    "\\begin{bmatrix}\n",
    "x \\\\\n",
    "y \\\\\n",
    "z \n",
    "\\end{bmatrix}\n",
    "\\quad\n",
    "=\n",
    "\\quad\n",
    "M\n",
    "\\quad\n",
    "\\begin{bmatrix}\n",
    "i \\\\\n",
    "j \\\\\n",
    "k\n",
    "\\end{bmatrix}\n",
    "$$\n",
    "\n",
    "This might be obvious because the matrix multiplication is the result of\n",
    "applying each transformation in turn on the coordinates output from the\n",
    "previous transformation. Combining the transformations into a single matrix\n",
    "$M$ works because matrix multiplication is associative -- $ABCD = (ABC)D$.\n",
    "\n",
    "A translation in three dimensions can be represented as a length 3 vector to\n",
    "be added to the length 3 coordinate.  For example, a translation of $a$ units\n",
    "on the first axis, $b$ on the second and $c$ on the third might be written\n",
    "as:\n",
    "\n",
    "$$\n",
    "\\begin{bmatrix}\n",
    "x \\\\\n",
    "y \\\\\n",
    "z\n",
    "\\end{bmatrix}\n",
    "\\quad\n",
    "=\n",
    "\\quad\n",
    "\\begin{bmatrix}\n",
    "i \\\\\n",
    "j \\\\\n",
    "k\n",
    "\\end{bmatrix}\n",
    "\\quad\n",
    "+\n",
    "\\quad\n",
    "\\begin{bmatrix}\n",
    "a \\\\\n",
    "b \\\\\n",
    "c \n",
    "\\end{bmatrix}\n",
    "$$\n",
    "\n",
    "We can write our function $f$ as a combination of matrix multiplication by some 3 by 3 rotation / zoom matrix $M$ followed by addition of a 3 by 1 translation vector $(a, b, c)$\n",
    "\n",
    "$$\n",
    "\\begin{bmatrix}\n",
    "x \\\\\n",
    "y \\\\\n",
    "z\n",
    "\\end{bmatrix}\n",
    "\\quad\n",
    "=\n",
    "\\quad\n",
    "M\n",
    "\\quad\n",
    "\\begin{bmatrix}\n",
    "i \\\\\n",
    "j \\\\\n",
    "k\n",
    "\\end{bmatrix}\n",
    "\\quad\n",
    "+\n",
    "\\quad\n",
    "\\begin{bmatrix}\n",
    "a \\\\\n",
    "b \\\\\n",
    "c\n",
    "\\end{bmatrix}\n",
    "$$\n",
    "\n",
    "We could record the parameters necessary for $f$ as the 3 by 3 matrix, $M$\n",
    "and the 3 by 1 vector $(a, b, c)$.\n",
    "\n",
    "In fact, the 4 by 4 image *affine array* includes this exact information. If $m_{i,j}$ is the value in row $i$ column $j$ of matrix $M$, then the image affine matrix $A$ is:\n",
    "\n",
    "$$\n",
    "A\n",
    "\\quad\n",
    "=\n",
    "\\quad\n",
    "\\begin{bmatrix}\n",
    "m_{1,1} & m_{1,2} & m_{1,3} & a \\\\\n",
    "m_{2,1} & m_{2,2} & m_{2,3} & b \\\\\n",
    "m_{3,1} & m_{3,2} & m_{3,3} & c \\\\\n",
    "0 & 0 & 0 & 1 \\\\\n",
    "\\end{bmatrix}\n",
    "$$\n",
    "\n",
    "Why the extra row of $[0, 0, 0, 1]$?  We need this row because we have rephrased the combination of rotations / zooms and translations as a transformation in *homogenous coordinates* (see [wikipedia homogenous\n",
    "coordinates](https://en.wikipedia.org/wiki/Homogeneous_coordinates)). This is a trick that allows us to put the translation part into the same matrix as the rotations / zooms, so that both translations and rotations / zooms can be applied by matrix multiplication. In order to make this work, we have to add an extra 1 to our input and output coordinate vectors:\n",
    "\n",
    "$$\n",
    "\\begin{bmatrix}\n",
    "x \\\\\n",
    "y \\\\\n",
    "z \\\\\n",
    "1\n",
    "\\end{bmatrix}\n",
    "\\quad\n",
    "=\n",
    "\\quad\n",
    "\\begin{bmatrix}\n",
    "m_{1,1} & m_{1,2} & m_{1,3} & a \\\\\n",
    "m_{2,1} & m_{2,2} & m_{2,3} & b \\\\\n",
    "m_{3,1} & m_{3,2} & m_{3,3} & c \\\\\n",
    "0 & 0 & 0 & 1 \\\\\n",
    "\\end{bmatrix}\n",
    "\\quad\n",
    "\\begin{bmatrix}\n",
    "i \\\\\n",
    "j \\\\\n",
    "k \\\\\n",
    "1\n",
    "\\end{bmatrix}\n",
    "$$\n",
    "\n",
    "This results in the same transformation as applying $M$ and $(a, b, c)$ separately. One advantage of encoding transformations this way is that we can combine two sets of rotations, zooms, translations by matrix multiplication of the two corresponding affine matrices.\n",
    "\n",
    "In practice, although it is common to combine 3D transformations using 4 x 4 affine matrices, we usually *apply* the transformations by breaking up the affine matrix into its component $M$ matrix and $(a, b, c)$ vector and doing:\n",
    "\n",
    "$$\n",
    "\\begin{bmatrix}\n",
    "x \\\\\n",
    "y \\\\\n",
    "z\n",
    "\\end{bmatrix}\n",
    "\\quad\n",
    "=\n",
    "\\quad\n",
    "M\n",
    "\\quad\n",
    "\\begin{bmatrix}\n",
    "i \\\\\n",
    "j \\\\\n",
    "k\n",
    "\\end{bmatrix}\n",
    "\\quad\n",
    "+\n",
    "\\quad\n",
    "\\begin{bmatrix}\n",
    "a \\\\\n",
    "b \\\\\n",
    "c\n",
    "\\end{bmatrix}\n",
    "$$\n",
    "\n",
    "As long as the last row of the 4 by 4 is $[0, 0, 0, 1]$, applying the transformations in this way is mathematically the same as using the full 4 by 4 form, without the inconvenience of adding the extra 1 to our input and output vectors.\n",
    "\n",
    "You can think of the image affine as a combination of a series of transformations to go from voxel coordinates to mm coordinates in terms of the magnet isocenter. Here is the EPI affine broken down into a series of transformations, with the results shown on the localizer image:\n",
    "\n",
    "<img src=\"https://nipy.org/nibabel/_images/illustrating_affine.png\" />\n",
    "\n",
    "Applying different affine transformations allows us to rotate, reflect, scale, and shear the image."
   ]
  },
  {
   "cell_type": "markdown",
   "metadata": {},
   "source": [
    "# Cost Functions\n",
    "Now that we have learned how affine transformations can be applied to transform images into different spaces, how can we use this to register one brain image to another image?\n",
    "\n",
    "The key is to identify a way to quantify how aligned the two images are to each other. Our visual systems are very good at identifying when two images are aligned, however, we need to create an alignment measure. These measures are often called *cost functions*. \n",
    "\n",
    "There are many different types of cost functions depending on the types of images that are being aligned. For example, a common cost function is called minimizing the sum of the squared differences and is similar to how regression lines are fit to minimize deviations from the observed data. This measure works best if the images are of the same type and have roughly equivalent signal intensities.\n",
    "\n",
    "Let's create another interactive plot and find the optimal X & Y translation parameters that minimize the difference between a two-dimensional target image to a reference image."
   ]
  },
  {
   "cell_type": "code",
   "execution_count": 3,
   "metadata": {
    "ExecuteTime": {
     "end_time": "2020-04-17T05:31:59.845770Z",
     "start_time": "2020-04-17T05:31:59.350358Z"
    }
   },
   "outputs": [
    {
     "data": {
      "application/vnd.jupyter.widget-view+json": {
       "model_id": "60b24022bed847409c25938379fb0713",
       "version_major": 2,
       "version_minor": 0
      },
      "text/plain": [
       "interactive(children=(FloatSlider(value=0.0, description='trans_x', max=0.0, min=-30.0, step=1.0), FloatSlider…"
      ]
     },
     "metadata": {},
     "output_type": "display_data"
    },
    {
     "data": {
      "text/plain": [
       "<function __main__.plot_affine_cost(trans_x=0, trans_y=0)>"
      ]
     },
     "execution_count": 3,
     "metadata": {},
     "output_type": "execute_result"
    }
   ],
   "source": [
    "from copy import deepcopy\n",
    "def plot_affine_cost(trans_x=0, trans_y=0):\n",
    "    '''This function creates an interactive demo to highlight how a cost function works in image registration.'''\n",
    "    fov = 30\n",
    "    radius = 15\n",
    "    x, y = np.indices((fov, fov))\n",
    "    square1 = (x < radius-2) & (y < radius-2)\n",
    "    square2 = ((x > fov//2 - radius//2) & (x < fov//2 + radius//2)) & ((y > fov//2 - radius//2) & (y < fov//2 + radius//2))\n",
    "    square1 = square1.astype(float)\n",
    "    square2 = square2.astype(float)\n",
    "\n",
    "    vec = np.array([trans_y, trans_x])\n",
    "    \n",
    "    affine = from_matvec(np.eye(2), vec)\n",
    "    \n",
    "    i_coords, j_coords = np.meshgrid(range(square1.shape[0]), range(square1.shape[1]), indexing='ij')\n",
    "    coordinate_grid = np.array([i_coords, j_coords])\n",
    "    coords_last = coordinate_grid.transpose(1, 2, 0)\n",
    "    transformed = apply_affine(affine, coords_last)\n",
    "    coords_first = transformed.transpose(2, 0, 1)\n",
    "    \n",
    "    transformed_square = map_coordinates(square1, coords_first)\n",
    "    f,a = plt.subplots(ncols=3, figsize=(15, 5))\n",
    "    a[0].imshow(transformed_square)\n",
    "    a[0].set_xlabel('x', fontsize=16)\n",
    "    a[0].set_ylabel('y', fontsize=16)\n",
    "    a[0].set_title('Target Image', fontsize=18)\n",
    "    \n",
    "    a[1].imshow(square2)\n",
    "    a[1].set_xlabel('x', fontsize=16)\n",
    "    a[1].set_ylabel('y', fontsize=16)\n",
    "    a[1].set_title('Reference Image', fontsize=18)\n",
    "    \n",
    "    point_x = deepcopy(trans_x)\n",
    "    point_y = deepcopy(trans_y)\n",
    "    sse = np.sum((transformed_square - square2)**2)\n",
    "    a[2].bar(0, sse)\n",
    "    a[2].set_ylim([0, 350])\n",
    "    a[2].set_ylabel('SSE', fontsize=18)\n",
    "    a[2].set_xlabel('Cost Function', fontsize=18)\n",
    "    a[2].set_xticks([])\n",
    "    a[2].set_title(f'Parameters: ({int(trans_x)},{int(trans_y)})', fontsize=20)\n",
    "    plt.tight_layout()\n",
    "    \n",
    "interact(plot_affine_cost, \n",
    "         trans_x=FloatSlider(value=0, min=-30, max=0, step=1),\n",
    "         trans_y=FloatSlider(value=0, min=-30, max=0, step=1))"
   ]
  },
  {
   "cell_type": "markdown",
   "metadata": {},
   "source": [
    "![costfunction](./assets/Cost_Function.gif)"
   ]
  },
  {
   "cell_type": "markdown",
   "metadata": {},
   "source": [
    "You probably had to move the sliders around back and forth until you were able to reduce the sum of squared error to zero. This cost function increases exponentially the further you are away from your target. The process of minimizing (or sometimes maximizing) cost functions to identify the best fitting parameters is called *optimization* and is a concept that is core to fitting models to data across many different disciplines.\n",
    "\n",
    "| Cost Function | Use Case | Example |\n",
    "|:---:|:---:|:---:|\n",
    "| Sum of Squared Error | Images of same modality and scaling | Two T2* images  |\n",
    "| Normalized correlation | Images of same modality | two T1 images   |\n",
    "| Correlation ratio | Any modality  | T1 and FLAIR   |\n",
    "| Mutual information or normalized mutual information | Any modality  | T1 and CT |\n",
    "| Boundary Based Registration  | Images with some contrast across boundaries of interest | EPI and T1 |\n",
    "\n"
   ]
  },
  {
   "cell_type": "markdown",
   "metadata": {},
   "source": [
    "# Realignment\n",
    "\n",
    "Now let's put everything we learned together to understand how we can correct for head motion in functional images that occurred during a scanning session. It is extremely important to make sure that a specific voxel has the same 3D coordinate across all time points to be able to model neural processes. This of course is made difficult by the fact that participants move during a scanning session and also in between runs. \n",
    "\n",
    "Realignment is the preprocessing step in which a rigid body transformation is applied to each volume to align them to a common space. One typically needs to choose a reference volume, which might be the first, middle, or last volume, or the mean of all volumes.\n",
    "\n",
    "Let's look at an example of the translation and rotation parameters after running realignment on our first subject."
   ]
  },
  {
   "cell_type": "code",
   "execution_count": 4,
   "metadata": {
    "ExecuteTime": {
     "end_time": "2020-04-18T21:26:02.705868Z",
     "start_time": "2020-04-18T21:25:57.688108Z"
    }
   },
   "outputs": [
    {
     "name": "stderr",
     "output_type": "stream",
     "text": [
      "/home/arvid/anaconda3/envs/bmed360v2020/lib/python3.7/site-packages/bids/layout/layout.py:774: UserWarning: Derivative indexing was requested, but no valid datasets were found in the specified locations (['/home/arvid/prj/DartBrains/data/localizer/derivatives']). Note that all BIDS-Derivatives datasets must meet all the requirements for BIDS-Raw datasets (a common problem is to fail to include a dataset_description.json file in derivatives datasets).\n",
      "  \"datasets).\".format(paths))\n"
     ]
    },
    {
     "ename": "IndexError",
     "evalue": "list index out of range",
     "output_type": "error",
     "traceback": [
      "\u001b[0;31m---------------------------------------------------------------------------\u001b[0m",
      "\u001b[0;31mIndexError\u001b[0m                                Traceback (most recent call last)",
      "\u001b[0;32m<ipython-input-4-9156690e70d7>\u001b[0m in \u001b[0;36m<module>\u001b[0;34m\u001b[0m\n\u001b[1;32m     11\u001b[0m \u001b[0mlayout\u001b[0m \u001b[0;34m=\u001b[0m \u001b[0mBIDSLayout\u001b[0m\u001b[0;34m(\u001b[0m\u001b[0mdata_dir\u001b[0m\u001b[0;34m,\u001b[0m \u001b[0mderivatives\u001b[0m\u001b[0;34m=\u001b[0m\u001b[0;32mTrue\u001b[0m\u001b[0;34m)\u001b[0m\u001b[0;34m\u001b[0m\u001b[0;34m\u001b[0m\u001b[0m\n\u001b[1;32m     12\u001b[0m \u001b[0;34m\u001b[0m\u001b[0m\n\u001b[0;32m---> 13\u001b[0;31m \u001b[0mdata\u001b[0m \u001b[0;34m=\u001b[0m \u001b[0mpd\u001b[0m\u001b[0;34m.\u001b[0m\u001b[0mread_csv\u001b[0m\u001b[0;34m(\u001b[0m\u001b[0mlayout\u001b[0m\u001b[0;34m.\u001b[0m\u001b[0mget\u001b[0m\u001b[0;34m(\u001b[0m\u001b[0msubject\u001b[0m\u001b[0;34m=\u001b[0m\u001b[0;34m'S01'\u001b[0m\u001b[0;34m,\u001b[0m \u001b[0mscope\u001b[0m\u001b[0;34m=\u001b[0m\u001b[0;34m'derivatives'\u001b[0m\u001b[0;34m,\u001b[0m \u001b[0mextension\u001b[0m\u001b[0;34m=\u001b[0m\u001b[0;34m'.tsv'\u001b[0m\u001b[0;34m)\u001b[0m\u001b[0;34m[\u001b[0m\u001b[0;36m0\u001b[0m\u001b[0;34m]\u001b[0m\u001b[0;34m.\u001b[0m\u001b[0mpath\u001b[0m\u001b[0;34m,\u001b[0m \u001b[0msep\u001b[0m\u001b[0;34m=\u001b[0m\u001b[0;34m'\\t'\u001b[0m\u001b[0;34m)\u001b[0m\u001b[0;34m\u001b[0m\u001b[0;34m\u001b[0m\u001b[0m\n\u001b[0m\u001b[1;32m     14\u001b[0m \u001b[0;34m\u001b[0m\u001b[0m\n\u001b[1;32m     15\u001b[0m \u001b[0mf\u001b[0m\u001b[0;34m,\u001b[0m\u001b[0ma\u001b[0m \u001b[0;34m=\u001b[0m \u001b[0mplt\u001b[0m\u001b[0;34m.\u001b[0m\u001b[0msubplots\u001b[0m\u001b[0;34m(\u001b[0m\u001b[0mncols\u001b[0m\u001b[0;34m=\u001b[0m\u001b[0;36m2\u001b[0m\u001b[0;34m,\u001b[0m \u001b[0mfigsize\u001b[0m\u001b[0;34m=\u001b[0m\u001b[0;34m(\u001b[0m\u001b[0;36m15\u001b[0m\u001b[0;34m,\u001b[0m\u001b[0;36m5\u001b[0m\u001b[0;34m)\u001b[0m\u001b[0;34m)\u001b[0m\u001b[0;34m\u001b[0m\u001b[0;34m\u001b[0m\u001b[0m\n",
      "\u001b[0;31mIndexError\u001b[0m: list index out of range"
     ]
    }
   ],
   "source": [
    "from os.path import expanduser, join\n",
    "home = expanduser('~')\n",
    "import pandas as pd\n",
    "import numpy as np\n",
    "import seaborn as sns\n",
    "import matplotlib.pyplot as plt\n",
    "from bids import BIDSLayout, BIDSValidator\n",
    "import os\n",
    "\n",
    "data_dir = '%s/prj/DartBrains/data/localizer' % (home)\n",
    "layout = BIDSLayout(data_dir, derivatives=True)\n",
    "\n",
    "data = pd.read_csv(layout.get(subject='S01', scope='derivatives', extension='.tsv')[0].path, sep='\\t')\n",
    "\n",
    "f,a = plt.subplots(ncols=2, figsize=(15,5))\n",
    "\n",
    "data.loc[:,['trans_x','trans_y','trans_z']].plot(ax=a[0])\n",
    "a[0].set_ylabel('Translation (mm)', fontsize=16)\n",
    "a[0].set_xlabel('Time (TR)', fontsize=16)\n",
    "a[0].set_title('Translation', fontsize=18)\n",
    "\n",
    "data.loc[:,['rot_x','rot_y','rot_z']].plot(ax=a[1])\n",
    "a[1].set_ylabel('Rotation (radian)', fontsize=16)\n",
    "a[1].set_xlabel('Time (TR)', fontsize=16)\n",
    "a[1].set_title('Rotation', fontsize=18)"
   ]
  },
  {
   "cell_type": "markdown",
   "metadata": {},
   "source": [
    "Don't forget that even though we can approximately put each volume into a similar position with realignment that head motion always distorts the magnetic field and can lead to nonlinear changes in signal intensity that will not be addressed by this procedure. In the resting-state literature, where many analyses are based on functional connectivity, head motion can lead to spurious correlations. Some researchers choose to exclude any subject that moved more than certain amount. Other's choose to remove the impact of these time points in their data through removing the volumes via *scrubbing* or modeling out the volume with a dummy code in the first level general linear models."
   ]
  },
  {
   "cell_type": "markdown",
   "metadata": {},
   "source": [
    "## Spatial Normalization\n",
    "There are several other preprocessing steps that involve image registration. The main one is called *spatial normalization*, in which each subject's brain data is warped into a common stereotactic space. Talaraich is an older space, that has been subsumed by various standards developed by the Montreal Neurological Institute.\n",
    "\n",
    "There are a variety of algorithms to warp subject data into stereotactic space. Linear 12 parameter affine transformation have been increasingly been replaced by more complicated nonlinear normalizations that have hundreds to thousands of parameters. \n",
    "\n",
    "One nonlinear algorithm that has performed very well across comparison studies is *diffeomorphic registration*, which can also be inverted so that subject space can be transformed into stereotactic space and back to subject space. This is the core of the [ANTs](http://stnava.github.io/ANTs/) algorithm that is implemented in fmriprep. See this [overview](https://elef.soic.indiana.edu/documentation/0.15.0.dev/examples_built/syn_registration_2d/) for more details.\n",
    "\n",
    "Let's watch another short video by Martin Lindquist and Tor Wager to learn more about the core preprocessing steps."
   ]
  },
  {
   "cell_type": "code",
   "execution_count": 5,
   "metadata": {
    "ExecuteTime": {
     "end_time": "2020-04-18T21:34:30.059504Z",
     "start_time": "2020-04-18T21:34:29.964597Z"
    }
   },
   "outputs": [
    {
     "data": {
      "image/jpeg": "[encoded data removed]",
      "text/html": [
       "\n",
       "        <iframe\n",
       "            width=\"400\"\n",
       "            height=\"300\"\n",
       "            src=\"https://www.youtube.com/embed/qamRGWSC-6g\"\n",
       "            frameborder=\"0\"\n",
       "            allowfullscreen\n",
       "        ></iframe>\n",
       "        "
      ],
      "text/plain": [
       "<IPython.lib.display.YouTubeVideo at 0x7f61ee8519d0>"
      ]
     },
     "execution_count": 5,
     "metadata": {},
     "output_type": "execute_result"
    }
   ],
   "source": [
    "YouTubeVideo('qamRGWSC-6g')"
   ]
  },
  {
   "cell_type": "markdown",
   "metadata": {},
   "source": [
    "There are many different steps involved in the spatial normalization process and these details vary widely across various imaging software packages. We will briefly discuss some of the steps involved in the anatomical preprocessing pipeline implemented by fMRIprep and will be showing example figures from the output generated by the pipeline.\n",
    "\n",
    "First, brains are extracted from the skull and surrounding dura mater. You can check and see how well the algorithm performed by examining the red outline.\n",
    "\n",
    "![normalization](./assets/T1_normalization.png)\n",
    "\n",
    "Next, the anatomical images are segmented into different tissue types, these tissue maps are used for various types of analyses, including providing a grey matter mask to reduce the computational time in estimating statistics. In addition, they provide masks to aid in extracting average activity in CSF, or white matter, which might be used as covariates in the statistical analyses to account for physiological noise.\n",
    "![normalization](./assets/T1_segmentation.png)\n",
    "\n",
    "### Spatial normalization of the anatomical T1w reference\n",
    "fmriprep uses the [ANTs](http://stnava.github.io/ANTs/) to perform nonlinear spatial normaliziation. It is easy to check to see how well the algorithm performed by viewing the results of aligning the T1w reference to the stereotactic reference space. Hover on the panels with the mouse pointer to transition between both spaces. We are using the MNI152NLin2009cAsym template.\n",
    "![normalization](./assets/sub-S01_space-MNI152NLin2009cAsym_T1w.svg)\n",
    "\n",
    "### Alignment of functional and anatomical MRI data\n",
    "Next, we can evaluate the quality of alignment of the functional data to the anatomical T1 image. FSL `flirt` was used to generate transformations from EPI-space to T1w-space - The white matter mask calculated with FSL `fast` (brain tissue segmentation) was used for BBR. Note that Nearest Neighbor interpolation is used in the reportlets in order to highlight potential spin-history and other artifacts, whereas final images are resampled using Lanczos interpolation. Notice these images are much blurrier and show some distortion compared to the T1s. \n",
    "![epi](./assets/sub-S01_task-localizer_desc-flirtbbr_bold.svg)"
   ]
  },
  {
   "cell_type": "markdown",
   "metadata": {},
   "source": [
    "# Spatial Smoothing\n",
    "The last step we will cover in the preprocessing pipeline is *spatial smoothing*. This step involves applying a filter to the image, which removes high frequency spatial information. This step is identical to convolving a kernel to a 1-D signal that we covered in the signal processing lab, but the kernel here is a 3-D Gaussian kernel. The amount of smoothing is determined by specifying the width of the distribution (i.e., the standard deviation) using the Full Width at Half Maximum (FWHM) parameter.\n",
    "\n",
    "Why we would want to decrease our image resolution with spatial smoothing after we tried very hard to increase our resolution at the data acquisition stage? This is because this step may help increase the signal to noise ratio by reducing the impact of partial volume effects, residual anatomical differences following normalization, and other aliasing from applying spatial transformation.\n",
    "\n",
    "Here is what a 3D gaussian kernel looks like."
   ]
  },
  {
   "cell_type": "code",
   "execution_count": 6,
   "metadata": {
    "ExecuteTime": {
     "end_time": "2020-04-17T04:49:07.720659Z",
     "start_time": "2020-04-17T04:49:07.437484Z"
    }
   },
   "outputs": [
    {
     "data": {
      "image/png": "[encoded data removed]",
      "text/plain": [
       "<Figure size 864x432 with 1 Axes>"
      ]
     },
     "metadata": {
      "needs_background": "light"
     },
     "output_type": "display_data"
    }
   ],
   "source": [
    "def plot_gaussian(sigma=2, kind='surface', cmap='viridis', linewidth=1, **kwargs):\n",
    "    '''Generates a 3D matplotlib plot of a Gaussian distribution'''\n",
    "    mean=0\n",
    "    domain=10\n",
    "    x = np.arange(-domain + mean, domain + mean, sigma/10)\n",
    "    y = np.arange(-domain + mean, domain + mean, sigma/10)\n",
    "    x, y = np.meshgrid(x, x)\n",
    "    r = (x ** 2 + y ** 2) / (2 * sigma ** 2)\n",
    "    z = 1 / (np.pi * sigma ** 4) * (1 - r) * np.exp(-r)\n",
    "\n",
    "    fig = plt.figure(figsize=(12, 6))\n",
    "\n",
    "    ax = plt.axes(projection='3d')\n",
    "    if kind=='wire':\n",
    "        ax.plot_wireframe(x, y, z, cmap=cmap, linewidth=linewidth, **kwargs)\n",
    "    elif kind=='surface':\n",
    "        ax.plot_surface(x, y, z, cmap=cmap, linewidth=linewidth, **kwargs)\n",
    "    else:\n",
    "        NotImplemented\n",
    "    \n",
    "    ax.set_xlabel('x', fontsize=16)\n",
    "    ax.set_ylabel('y', fontsize=16)\n",
    "    ax.set_zlabel('z', fontsize=16)\n",
    "    plt.axis('off')\n",
    "\n",
    "plot_gaussian(kind='surface', linewidth=1)\n"
   ]
  },
  {
   "cell_type": "markdown",
   "metadata": {},
   "source": [
    "# fmriprep\n",
    "Throughout this lab and course, you have frequently heard about [fmriprep](https://fmriprep.readthedocs.io/en/stable/), which is a functional magnetic resonance imaging (fMRI) data preprocessing pipeline that was developed by a team at the [Center for Reproducible Research](http://reproducibility.stanford.edu/) led by Russ Poldrack and Chris Gorgolewski. Fmriprep was designed to provide an easily accessible, state-of-the-art interface that is robust to variations in scan acquisition protocols, requires minimal user input, and provides easily interpretable and comprehensive error and output reporting. Fmriprep performs basic processing steps (coregistration, normalization, unwarping, noise component extraction, segmentation, skullstripping etc.) providing outputs that are ready for data analysis. \n",
    "\n",
    "fmriprep was built on top of [nipype](https://nipype.readthedocs.io/en/latest/), which is a tool to build preprocessing pipelines in python using graphs. This provides a completely flexible way to create custom pipelines using any type of software while also facilitating easy parallelization of steps across the pipeline on high performance computing platforms. Nipype is completely flexible, but has a fairly steep learning curve and is best for researchers who have strong opinions about how they want to preprocess their data, or are working with nonstandard data that might require adjusting the preprocessing steps or parameters. In practice, most researchers typically use similar preprocessing steps and do not need to tweak the pipelines very often. In addition, many researchers do not fully understand how each preprocessing step will impact their results and would prefer if somebody else picked suitable defaults based on current best practices in the literature. The fmriprep pipeline uses a combination of tools from well-known software packages, including FSL_, ANTs_, FreeSurfer_ and AFNI_. This pipeline was designed to provide the best software implementation for each state of preprocessing, and is quickly being updated as methods evolve and bugs are discovered by a growing user base.\n",
    "\n",
    "This tool allows you to easily do the following:\n",
    "\n",
    "- Take fMRI data from raw to fully preprocessed form.\n",
    "- Implement tools from different software packages.\n",
    "- Achieve optimal data processing quality by using the best tools available.\n",
    "- Generate preprocessing quality reports, with which the user can easily identify outliers.\n",
    "- Receive verbose output concerning the stage of preprocessing for each subject, including meaningful errors.\n",
    "- Automate and parallelize processing steps, which provides a significant speed-up from typical linear, manual processing.\n",
    "- More information and documentation can be found at https://fmriprep.readthedocs.io/\n",
    "\n",
    "\n",
    "![image.png](./assets/fmriprep.png)"
   ]
  },
  {
   "cell_type": "markdown",
   "metadata": {},
   "source": [
    "## Running fmriprep\n",
    "Running fmriprep is a (mostly) trivial process of running a single line in the command line specifying a few choices and locations for the output data. One of the annoying things about older neuroimaging software that was developed by academics is that the packages were developed using many different development environments and on different operating systems (e.g., unix, windows, mac). It can be a nightmare getting some of these packages to install on more modern computing systems. As fmriprep uses many different packages, they have made it much easier to circumvent the time-consuming process of installing many different packages by releasing a [docker container](https://fmriprep.readthedocs.io/en/stable/docker.html) that contains everything you need to run the pipeline.\n",
    "\n",
    "Unfortunately, our AWS cloud instances running our jupyter server are not equipped with enough computational resources to run fmriprep at this time. However, if you're interested in running this on your local computer, here is the code you could use to run it in a jupyter notebook, or even better in the command line on a high performance computing environment.\n",
    "\n",
    "```\n",
    "import os\n",
    "base_dir = '/Users/lukechang/Dropbox/Dartbrains/Data'\n",
    "data_path = os.path.join(base_dir, 'localizer')\n",
    "output_path = os.path.join(base_dir, 'preproc')\n",
    "work_path = os.path.join(base_dir, 'work')\n",
    "\n",
    "sub = 'S01'\n",
    "subs = [f'S{x:0>2d}' for x in range(10)]\n",
    "for sub in subs:\n",
    "    !fmriprep-docker {data_path} {output_path} participant --participant_label sub-{sub} --write-graph --fs-no-reconall --notrack --fs-license-file ~/Dropbox/Dartbrains/License/license.txt --work-dir {work_path}\n",
    "```"
   ]
  },
  {
   "cell_type": "markdown",
   "metadata": {},
   "source": [
    "## Quick primer on High Performance Computing\n",
    "\n",
    "We could run fmriprep on our computer, but this could take a long time if we have a lot of participants. Because we have a limited amount of computational resources on our laptops (e.g., cpus, and memory), we would have to run each participant sequentially. For example, if we had 50 participants, it would take 50 times longer to run all participants than a single one. \n",
    "\n",
    "Imagine if you had 50 computers and ran each participant separate at the same time in parallel across all of the computers. This would allow us to run 50 participants in the same amount of time as a single participant. This is the basic idea behind high performance computing, which contains a cluster of many computers that have been installed in racks. Below is a picture of what Dartmouth's [Discovery cluster](https://rc.dartmouth.edu/index.php/discovery-overview/) looks like:\n",
    "\n",
    "![discovery](./assets/hpc.png)\n",
    "\n",
    "A cluster is simply a collection of nodes. A node can be thought of as an individual computer. Each node contains processors, which encompass multiple cores. Discovery contains 3000+ cores, which is certainly a lot more than your laptop!\n",
    "\n",
    "In order to submit a job, you can create a Portable Batch System (PBS) script that sets up the parameters (e.g., how much time you want your script to run, specifying directory to run, etc) and submits your job to a queue.\n",
    "\n",
    "**NOTE**: For this class, we will only be using the jupyterhub server, but if you end up working in a lab in the future, you will need to request access to the *discovery* system using this [link](https://rcweb.dartmouth.edu/accounts/)."
   ]
  },
  {
   "cell_type": "markdown",
   "metadata": {},
   "source": [
    "## fmriprep output\n",
    "You can see a summary of the operations fmriprep performed by examining the .html files in the `derivatives/fmriprep` folder within the `localizer` data directory.\n",
    "\n",
    "We will load the first subject's output file. Spend some time looking at the outputs and feel free to examine other subjects as well. Currently, the first 10 subjects should be available on the jupyterhub."
   ]
  },
  {
   "cell_type": "code",
   "execution_count": 7,
   "metadata": {
    "ExecuteTime": {
     "end_time": "2020-04-17T06:08:35.524154Z",
     "start_time": "2020-04-17T06:08:35.517120Z"
    }
   },
   "outputs": [
    {
     "data": {
      "text/html": [
       "sub-S01.html"
      ],
      "text/plain": [
       "<IPython.core.display.HTML object>"
      ]
     },
     "execution_count": 7,
     "metadata": {},
     "output_type": "execute_result"
    }
   ],
   "source": [
    "from IPython.display import HTML\n",
    "\n",
    "HTML('sub-S01.html')"
   ]
  },
  {
   "cell_type": "markdown",
   "metadata": {},
   "source": [
    "# Limitations of fmriprep\n",
    "In general, we recommend using this pipeline if you want a sensible default. Considerable thought has gone into selecting reasonable default parameters and selecting preprocessing steps based on best practices in the field (as determined by the developers). This is not necessarily the case for any of the default settings in any of the more conventional software packages (e.g., spm, fsl, afni, etc). \n",
    "\n",
    "However, there is an important tradeoff in using this tool. On the one hand, it's nice in that it is incredibly straightforward to use (one line of code!), has excellent documentation, and is actively being developed to fix bugs and improve the overall functionality. There is also a growing user base to ask questions.  [Neurostars](https://neurostars.org/) is an excellent form to post questions and learn from others. On the other hand, fmriprep, is unfortunately in its current state not easily customizable. If you disagree with the developers about the order or specific preprocessing steps, it is very difficult to modify. Future versions will hopefully be more modular and easier to make custom pipelines.  If you need this type of customizability we strongly recommend using nipype over fmriprep.\n",
    "\n",
    "In practice, it's alway a little bit finicky to get everything set up on a particular system. Sometimes you might run into issues with a specific missing file like the [freesurfer license](https://fmriprep.readthedocs.io/en/stable/usage.html#the-freesurfer-license) even if you're not using it. You might also run into issues with the format of the data that might have some conflicts with the [bids-validator](https://github.com/bids-standard/bids-validator). In our experience, there is always some frustrations getting this to work, but it's very nice once it's done."
   ]
  },
  {
   "cell_type": "markdown",
   "metadata": {},
   "source": [
    "# Exercises\n",
    "\n",
    "## Exercise 1. Inspect HTML output of other participants.\n",
    "For this exercise, you will need to navigate to the derivatives folder containing the fmriprep preprocessed data `.../data/localizer/derivatives/fmriprep` and inspect the html output of other subjects (ie., not 'S01'). Did the preprocessing steps works? are there any issues with the data that we should be concerned about?\n"
   ]
  },
  {
   "cell_type": "code",
   "execution_count": null,
   "metadata": {},
   "outputs": [],
   "source": []
  }
 ],
 "metadata": {
  "kernelspec": {
   "display_name": "BMED360V2020",
   "language": "python",
   "name": "bmed360v2020"
  },
  "language_info": {
   "codemirror_mode": {
    "name": "ipython",
    "version": 3
   },
   "file_extension": ".py",
   "mimetype": "text/x-python",
   "name": "python",
   "nbconvert_exporter": "python",
   "pygments_lexer": "ipython3",
   "version": "3.7.6"
  },
  "toc": {
   "base_numbering": 1,
   "nav_menu": {},
   "number_sections": true,
   "sideBar": true,
   "skip_h1_title": false,
   "title_cell": "Table of Contents",
   "title_sidebar": "Contents",
   "toc_cell": false,
   "toc_position": {
    "height": "calc(100% - 180px)",
    "left": "10px",
    "top": "150px",
    "width": "311.337px"
   },
   "toc_section_display": true,
   "toc_window_display": true
  }
 },
 "nbformat": 4,
 "nbformat_minor": 4
}
